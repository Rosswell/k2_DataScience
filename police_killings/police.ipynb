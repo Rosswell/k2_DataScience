{
 "cells": [
  {
   "cell_type": "markdown",
   "metadata": {},
   "source": [
    "## Police Killings\n",
    "\n",
    "The Guardian launched “The Counted,” an impressive interactive database of Americans killed by police since the start of the year. It started in 2015, but you can check the recent stats for 2016. We will explore the data by race, income and state."
   ]
  },
  {
   "cell_type": "markdown",
   "metadata": {},
   "source": [
    "### Assignment\n",
    "\n",
    "- Import the data and examine the head and columns\n",
    "- Get the total counts for each racial grouping\n",
    "- Find the relative % for each racial grouping\n",
    "- How do the killings compare with the overall US breakdown of population by race?"
   ]
  },
  {
   "cell_type": "code",
   "execution_count": 67,
   "metadata": {
    "collapsed": false
   },
   "outputs": [
    {
     "name": "stdout",
     "output_type": "stream",
     "text": [
      "Index(['name', 'age', 'gender', 'raceethnicity', 'month', 'day', 'year',\n",
      "       'streetaddress', 'city', 'state', 'latitude', 'longitude', 'state_fp',\n",
      "       'county_fp', 'tract_ce', 'geo_id', 'county_id', 'namelsad',\n",
      "       'lawenforcementagency', 'cause', 'armed', 'pop', 'share_white',\n",
      "       'share_black', 'share_hispanic', 'p_income', 'h_income',\n",
      "       'county_income', 'comp_income', 'county_bucket', 'nat_bucket', 'pov',\n",
      "       'urate', 'college'],\n",
      "      dtype='object')\n",
      "                 name age gender    raceethnicity     month  day  year  \\\n",
      "0  A'donte Washington  16   Male            Black  February   23  2015   \n",
      "1      Aaron Rutledge  27   Male            White     April    2  2015   \n",
      "2         Aaron Siler  26   Male            White     March   14  2015   \n",
      "3        Aaron Valdez  25   Male  Hispanic/Latino     March   11  2015   \n",
      "4        Adam Jovicic  29   Male            White     March   19  2015   \n",
      "\n",
      "            streetaddress          city state    ...     share_hispanic  \\\n",
      "0            Clearview Ln     Millbrook    AL    ...                5.6   \n",
      "1  300 block Iris Park Dr     Pineville    LA    ...                0.5   \n",
      "2    22nd Ave and 56th St       Kenosha    WI    ...               16.8   \n",
      "3       3000 Seminole Ave    South Gate    CA    ...               98.8   \n",
      "4          364 Hiwood Ave  Munroe Falls    OH    ...                1.7   \n",
      "\n",
      "   p_income  h_income  county_income  comp_income  county_bucket  nat_bucket  \\\n",
      "0     28375   51367.0          54766     0.937936            3.0         3.0   \n",
      "1     14678   27972.0          40930     0.683411            2.0         1.0   \n",
      "2     25286   45365.0          54930     0.825869            2.0         3.0   \n",
      "3     17194   48295.0          55909     0.863814            3.0         3.0   \n",
      "4     33954   68785.0          49669     1.384868            5.0         4.0   \n",
      "\n",
      "    pov     urate   college  \n",
      "0  14.1  0.097686  0.168510  \n",
      "1  28.8  0.065724  0.111402  \n",
      "2  14.6  0.166293  0.147312  \n",
      "3  11.7  0.124827  0.050133  \n",
      "4   1.9  0.063550  0.403954  \n",
      "\n",
      "[5 rows x 34 columns]\n",
      "raceethnicity\n",
      "Asian/Pacific Islander     2.141328\n",
      "Black                     28.907923\n",
      "Hispanic/Latino           14.346895\n",
      "Native American            0.856531\n",
      "Unknown                    3.211991\n",
      "White                     50.535332\n",
      "Name: raceethnicity, dtype: float64\n"
     ]
    }
   ],
   "source": [
    "% matplotlib inline\n",
    "import pandas as pd\n",
    "import matplotlib.pyplot as plt\n",
    "\n",
    "# looking at general data structure, police use weird encoding\n",
    "data = pd.read_csv(\"police_killings.csv\", encoding = 'iso-8859-1')\n",
    "print(data.columns)\n",
    "print(data.head())\n",
    "\n",
    "# counting occurrences of race, dividing by the sum of that column to give overall percentage\n",
    "total_racial_data = data.groupby('raceethnicity')['raceethnicity'].count()\n",
    "total_victims = total_racial_data.sum()\n",
    "racial_percentage = total_racial_data/total_victims * 100\n",
    "\n",
    "# overall US racial breakdown from google\n",
    "race_breakdown = [4.8, 12.1, 17.6, 1.7, 'N/A', 63]\n",
    "\n",
    "# had to reassign series as dataframe, otherwise the typical column addition added more rows rather than another column\n",
    "racial_percentage_df = pd.DataFrame(racial_percentage)\n",
    "racial_percentage_df['Overall_US_racial_percentage'] = race_breakdown\n",
    "\n",
    "print(racial_percentage)"
   ]
  },
  {
   "cell_type": "markdown",
   "metadata": {},
   "source": [
    "### Assignment\n",
    "\n",
    "- Graph the killings by race using a bar chart. Make sure to label the graph and axes\n",
    "- Graph the killings by \"p_income\" using a histogram with different bin amounts (remember to remove any \"-\" values)\n",
    "- Calculate the median \"p_income\""
   ]
  },
  {
   "cell_type": "code",
   "execution_count": 35,
   "metadata": {
    "collapsed": false
   },
   "outputs": [
    {
     "data": {
      "image/png": "[encoded data removed]",
      "text/plain": [
       "<matplotlib.figure.Figure at 0x121156860>"
      ]
     },
     "metadata": {},
     "output_type": "display_data"
    },
    {
     "name": "stdout",
     "output_type": "stream",
     "text": [
      "Median income: 22348.0\n"
     ]
    },
    {
     "data": {
      "image/png": "[encoded data removed]",
      "text/plain": [
       "<matplotlib.figure.Figure at 0x11e31c668>"
      ]
     },
     "metadata": {},
     "output_type": "display_data"
    }
   ],
   "source": [
    "# creates the bar plot\n",
    "racial_percentage.plot(kind='bar')\n",
    "# axes labels and titles\n",
    "plt.ylabel('Percent of Overall killings')\n",
    "plt.xlabel('Race of victim')\n",
    "plt.title('Police killings segregated by race')\n",
    "# put a show here so the graphs would be on different plots\n",
    "plt.show()\n",
    "# removes the '-' within the p_income column, sets the dtype to float, and graphs in 20 bins\n",
    "# note: bins is for the total amount of bins, not the size of the bin. do not put bin to 10000 again\n",
    "data['p_income'][data['p_income'] != '-'].astype(float).plot(kind='hist', bins=20)\n",
    "print(\"Median income: {}\".format(data['p_income'][data['p_income'] != '-'].astype(float).median()))"
   ]
  },
  {
   "cell_type": "markdown",
   "metadata": {},
   "source": [
    "### Assignment\n",
    "\n",
    "- Find the total killings per each state\n",
    "- Create a new dataframe and remove any \"-\" from the following columns \"share_white\", \"share_black\" and \"share_hispanic\" \n",
    "- Convert the values in those columns to float types\n",
    "- Find the mean of 'pop', 'county_income' and those 3 columns for the following subsets\n",
    "    \n",
    "    lowest_states = [\"CT\", \"PA\", \"IA\", \"NY\", \"MA\", \"NH\", \"ME\", \"IL\", \"OH\", \"WI\"]\n",
    "    \n",
    "    highest_states = [\"OK\", \"AZ\", \"NE\", \"HI\", \"AK\", \"ID\", \"NM\", \"LA\", \"CO\", \"DE\"]"
   ]
  },
  {
   "cell_type": "code",
   "execution_count": 68,
   "metadata": {
    "collapsed": false
   },
   "outputs": [
    {
     "data": {
      "text/plain": [
       "state\n",
       "AK     2\n",
       "AL     8\n",
       "AR     4\n",
       "AZ    25\n",
       "CA    74\n",
       "CO    12\n",
       "CT     1\n",
       "DC     1\n",
       "DE     2\n",
       "FL    29\n",
       "GA    16\n",
       "HI     4\n",
       "IA     2\n",
       "ID     4\n",
       "IL    11\n",
       "IN     8\n",
       "KS     6\n",
       "KY     7\n",
       "LA    11\n",
       "MA     5\n",
       "MD    10\n",
       "ME     1\n",
       "MI     9\n",
       "MN     6\n",
       "MO    10\n",
       "MS     6\n",
       "MT     2\n",
       "NC    10\n",
       "NE     6\n",
       "NH     1\n",
       "NJ    11\n",
       "NM     5\n",
       "NV     3\n",
       "NY    14\n",
       "OH    10\n",
       "OK    22\n",
       "OR     8\n",
       "PA     7\n",
       "SC     9\n",
       "TN     6\n",
       "TX    46\n",
       "UT     5\n",
       "VA     9\n",
       "WA    11\n",
       "WI     5\n",
       "WV     2\n",
       "WY     1\n",
       "Name: state, dtype: int64"
      ]
     },
     "execution_count": 68,
     "metadata": {},
     "output_type": "execute_result"
    }
   ],
   "source": [
    "# counts all the occurences of killings within each state, reassigns as a series with a state index\n",
    "total_killings = data.groupby(\"state\")['state'].count()\n",
    "total_killings"
   ]
  },
  {
   "cell_type": "code",
   "execution_count": 69,
   "metadata": {
    "collapsed": true
   },
   "outputs": [],
   "source": [
    "# I created this new dataframe because originally I had all this code in one cell and I kept having to run the first cell to reassign the values in data\n",
    "data2 = data\n",
    "\n",
    "# subsets and reassigns the 'share_white', 'share_black', 'share_hispanic' columns to eliminate dashes\n",
    "data2[['share_white', 'share_black', 'share_hispanic']] = data[['share_white', 'share_black', 'share_hispanic']][data[['share_white', 'share_black', 'share_hispanic']] != '-']\n",
    "\n",
    "# changes data type in those columns to float\n",
    "data2[['share_white', 'share_black', 'share_hispanic']] = data[['share_white', 'share_black', 'share_hispanic']].astype(float)"
   ]
  },
  {
   "cell_type": "code",
   "execution_count": 64,
   "metadata": {
    "collapsed": false
   },
   "outputs": [
    {
     "name": "stdout",
     "output_type": "stream",
     "text": [
      "LOWEST STATES:\n",
      "Population mean: 4127.9473684210525\n",
      "County income mean: 54761.47368421053\n",
      "share white mean: 60.61607142857142\n",
      "share black mean: 21.257142857142856\n",
      "share hispanic mean: 12.948214285714288\n"
     ]
    }
   ],
   "source": [
    "lowest_states = [\"CT\", \"PA\", \"IA\", \"NY\", \"MA\", \"NH\", \"ME\", \"IL\", \"OH\", \"WI\"]\n",
    "\n",
    "#picks the rows from the dataframe that contain the states in the lowest states list\n",
    "lowest_data = data2[data2.state.isin(lowest_states)]\n",
    "\n",
    "# prints the mean results. made it into two prints to be easier for me to read. pop column needed to be in bracket and\n",
    "# string notation because it's a built-in function \n",
    "print(\"LOWEST STATES:\\nPopulation mean: {}\\nCounty income mean: {}\"\n",
    "      .format(lowest_data['pop'].mean(), lowest_data.county_income.mean()))\n",
    "print(\"share white mean: {}\\nshare black mean: {}\\nshare hispanic mean: {}\".format(lowest_data.share_white.mean(),\n",
    "                                                                                  lowest_data.share_black.mean(),\n",
    "                                                                                  lowest_data.share_hispanic.mean()))"
   ]
  },
  {
   "cell_type": "code",
   "execution_count": 65,
   "metadata": {
    "collapsed": false
   },
   "outputs": [
    {
     "name": "stdout",
     "output_type": "stream",
     "text": [
      "LOWEST STATES:\n",
      "Population mean: 4269.344086021505\n",
      "County income mean: 48702.17204301075\n",
      "share white mean: 55.65217391304348\n",
      "share black mean: 11.532608695652174\n",
      "share hispanic mean: 20.69347826086956\n"
     ]
    }
   ],
   "source": [
    "# duplicate of the above code, but with the highest_states list\n",
    "highest_states = [\"OK\", \"AZ\", \"NE\", \"HI\", \"AK\", \"ID\", \"NM\", \"LA\", \"CO\", \"DE\"]\n",
    "\n",
    "highest_data = data2[data2.state.isin(highest_states)]\n",
    "\n",
    "print(\"LOWEST STATES:\\nPopulation mean: {}\\nCounty income mean: {}\"\n",
    "      .format(highest_data['pop'].mean(), highest_data.county_income.mean()))\n",
    "print(\"share white mean: {}\\nshare black mean: {}\\nshare hispanic mean: {}\".format(highest_data.share_white.mean(),\n",
    "                                                                                  highest_data.share_black.mean(),\n",
    "                                                                                  highest_data.share_hispanic.mean()))"
   ]
  },
  {
   "cell_type": "code",
   "execution_count": null,
   "metadata": {
    "collapsed": true
   },
   "outputs": [],
   "source": []
  }
 ],
 "metadata": {
  "anaconda-cloud": {},
  "kernelspec": {
   "display_name": "Python 3",
   "language": "python",
   "name": "python3"
  },
  "language_info": {
   "codemirror_mode": {
    "name": "ipython",
    "version": 3
   },
   "file_extension": ".py",
   "mimetype": "text/x-python",
   "name": "python",
   "nbconvert_exporter": "python",
   "pygments_lexer": "ipython3",
   "version": "3.6.0"
  }
 },
 "nbformat": 4,
 "nbformat_minor": 0
}
