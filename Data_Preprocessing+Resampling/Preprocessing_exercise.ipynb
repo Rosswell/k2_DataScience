{
 "cells": [
  {
   "cell_type": "markdown",
   "metadata": {},
   "source": [
    "# Data Preprocessing"
   ]
  },
  {
   "cell_type": "markdown",
   "metadata": {},
   "source": [
    "## Imputation\n",
    "You will often find yourself in a situation where you will be dealing with an incomplete dataset.  There are many reasons why data may be missing: survey responses may have been optional, there may have been some sort of data recording error, or the information may simply just not be available.  There are a plethora of ways to handle such situations, several of which we will explore in this exercise."
   ]
  },
  {
   "cell_type": "markdown",
   "metadata": {},
   "source": [
    "1. Go do the [Machine Learning Repository](http://archive.ics.uci.edu/ml/index.php) and download the [Beijing PM2.5 Data](http://archive.ics.uci.edu/ml/datasets/Beijing+PM2.5+Data), put it into a dataframe, giving the columns the proper names.  Also be sure to familarize yourself with the data set before proceeding.\n",
    "1. Suppose our data became corrupted after we downloaded it and values were missing.  Randomly insert 5000 `NaN` into the dataset accross all the columns.\n",
    "1.  Which variables lend themselves to be in a regression model?  Select those variables, and then fit a regression model for each of the following imputation strategies, commenting on your results.\n",
    "    - Dropping all rows with at least 1 NA\n",
    "    - Dropping all rows with at least 3 NA\n",
    "    - Imputing 0\n",
    "    - Mean\n",
    "    - Median\n",
    "    - Mode\n",
    "1. Given the results in part (3), and your own ingenuity, come up with a new imputation strategy and try it out.  Comment on your results."
   ]
  },
  {
   "cell_type": "code",
   "execution_count": 48,
   "metadata": {
    "collapsed": true
   },
   "outputs": [],
   "source": [
    "import pandas as pd\n",
    "import numpy as np\n",
    "import matplotlib.pyplot as plt\n",
    "import random\n",
    "import seaborn as sns\n",
    "from sklearn.linear_model import LinearRegression\n",
    "from sklearn.metrics import mean_squared_error\n",
    "% matplotlib inline"
   ]
  },
  {
   "cell_type": "code",
   "execution_count": 54,
   "metadata": {},
   "outputs": [
    {
     "data": {
      "text/html": [
       "<div>\n",
       "<style>\n",
       "    .dataframe thead tr:only-child th {\n",
       "        text-align: right;\n",
       "    }\n",
       "\n",
       "    .dataframe thead th {\n",
       "        text-align: left;\n",
       "    }\n",
       "\n",
       "    .dataframe tbody tr th {\n",
       "        vertical-align: top;\n",
       "    }\n",
       "</style>\n",
       "<table border=\"1\" class=\"dataframe\">\n",
       "  <thead>\n",
       "    <tr style=\"text-align: right;\">\n",
       "      <th></th>\n",
       "      <th>pm2.5</th>\n",
       "      <th>DEWP</th>\n",
       "      <th>TEMP</th>\n",
       "      <th>PRES</th>\n",
       "      <th>cbwd</th>\n",
       "      <th>Iws</th>\n",
       "      <th>Is</th>\n",
       "      <th>Ir</th>\n",
       "    </tr>\n",
       "  </thead>\n",
       "  <tbody>\n",
       "    <tr>\n",
       "      <th>0</th>\n",
       "      <td>NaN</td>\n",
       "      <td>-21</td>\n",
       "      <td>-11.0</td>\n",
       "      <td>1021.0</td>\n",
       "      <td>NW</td>\n",
       "      <td>1.79</td>\n",
       "      <td>0</td>\n",
       "      <td>0</td>\n",
       "    </tr>\n",
       "    <tr>\n",
       "      <th>1</th>\n",
       "      <td>NaN</td>\n",
       "      <td>-21</td>\n",
       "      <td>-12.0</td>\n",
       "      <td>1020.0</td>\n",
       "      <td>NW</td>\n",
       "      <td>4.92</td>\n",
       "      <td>0</td>\n",
       "      <td>0</td>\n",
       "    </tr>\n",
       "    <tr>\n",
       "      <th>2</th>\n",
       "      <td>NaN</td>\n",
       "      <td>-21</td>\n",
       "      <td>-11.0</td>\n",
       "      <td>1019.0</td>\n",
       "      <td>NW</td>\n",
       "      <td>6.71</td>\n",
       "      <td>0</td>\n",
       "      <td>0</td>\n",
       "    </tr>\n",
       "    <tr>\n",
       "      <th>3</th>\n",
       "      <td>NaN</td>\n",
       "      <td>-21</td>\n",
       "      <td>-14.0</td>\n",
       "      <td>1019.0</td>\n",
       "      <td>NW</td>\n",
       "      <td>9.84</td>\n",
       "      <td>0</td>\n",
       "      <td>0</td>\n",
       "    </tr>\n",
       "    <tr>\n",
       "      <th>4</th>\n",
       "      <td>NaN</td>\n",
       "      <td>-20</td>\n",
       "      <td>-12.0</td>\n",
       "      <td>1018.0</td>\n",
       "      <td>NW</td>\n",
       "      <td>12.97</td>\n",
       "      <td>0</td>\n",
       "      <td>0</td>\n",
       "    </tr>\n",
       "  </tbody>\n",
       "</table>\n",
       "</div>"
      ],
      "text/plain": [
       "   pm2.5  DEWP  TEMP    PRES cbwd    Iws  Is  Ir\n",
       "0    NaN   -21 -11.0  1021.0   NW   1.79   0   0\n",
       "1    NaN   -21 -12.0  1020.0   NW   4.92   0   0\n",
       "2    NaN   -21 -11.0  1019.0   NW   6.71   0   0\n",
       "3    NaN   -21 -14.0  1019.0   NW   9.84   0   0\n",
       "4    NaN   -20 -12.0  1018.0   NW  12.97   0   0"
      ]
     },
     "execution_count": 54,
     "metadata": {},
     "output_type": "execute_result"
    }
   ],
   "source": [
    "# 1.\n",
    "bpd = pd.read_csv('PRSA_data_2010.1.1-2014.12.31.csv')\n",
    "bpd.drop(['No', 'year', 'month', 'day', 'hour'], axis=1, inplace=True)\n",
    "bpd.head()"
   ]
  },
  {
   "cell_type": "code",
   "execution_count": 45,
   "metadata": {
    "collapsed": true
   },
   "outputs": [
    {
     "name": "stdout",
     "output_type": "stream",
     "text": [
      "<class 'pandas.core.frame.DataFrame'>\n",
      "RangeIndex: 43824 entries, 0 to 43823\n",
      "Data columns (total 12 columns):\n",
      "year     43824 non-null int64\n",
      "month    43824 non-null int64\n",
      "day      43824 non-null int64\n",
      "hour     43824 non-null int64\n",
      "pm2.5    41757 non-null float64\n",
      "DEWP     43824 non-null int64\n",
      "TEMP     43824 non-null float64\n",
      "PRES     43824 non-null float64\n",
      "cbwd     43824 non-null object\n",
      "Iws      43824 non-null float64\n",
      "Is       43824 non-null int64\n",
      "Ir       43824 non-null int64\n",
      "dtypes: float64(4), int64(7), object(1)\n",
      "memory usage: 4.0+ MB\n"
     ]
    }
   ],
   "source": [
    "bpd.info()"
   ]
  },
  {
   "cell_type": "code",
   "execution_count": 107,
   "metadata": {},
   "outputs": [],
   "source": [
    "# 2.\n",
    "random.seed(0)\n",
    "randList = []\n",
    "bpdNa = bpd.copy()\n",
    "\n",
    "for _ in range(5000):\n",
    "    col = random.randint(0,7)\n",
    "    row = random.randint(1,len(bpd))\n",
    "    bpdNa.iloc[row, col] = np.nan"
   ]
  },
  {
   "cell_type": "code",
   "execution_count": 160,
   "metadata": {
    "collapsed": true
   },
   "outputs": [],
   "source": [
    "def multLinReg(df):\n",
    "    lm = LinearRegression()\n",
    "\n",
    "    X = df.drop('pm2.5', axis=1)\n",
    "    y = df['pm2.5']\n",
    "\n",
    "    lm.fit(X, y)\n",
    "    print(f\"r2 = {lm.score(X, y)}\")\n",
    "    print(f\"mean squared error = {mean_squared_error(y, lm.predict(X))}\")"
   ]
  },
  {
   "cell_type": "code",
   "execution_count": 58,
   "metadata": {},
   "outputs": [
    {
     "name": "stdout",
     "output_type": "stream",
     "text": [
      "r2 = 0.2244152899159749\n",
      "mean squared error = 6553.929625925547\n"
     ]
    }
   ],
   "source": [
    "# 3.\n",
    "# using all columns that have non-categorical, non-binary data\n",
    "# drop all rows with at least 1 NA\n",
    "dataPt1 = bpdNa[['pm2.5', 'DEWP', 'TEMP', 'PRES', 'Iws']].dropna()\n",
    "\n",
    "lm = LinearRegression()\n",
    "\n",
    "X = dataPt1.drop('pm2.5', axis=1)\n",
    "y = dataPt1['pm2.5']\n",
    "\n",
    "lm.fit(X, y)\n",
    "print(f\"r2 = {lm.score(X, y)}\")\n",
    "print(f\"mean squared error = {mean_squared_error(y, lm.predict(X))}\")"
   ]
  },
  {
   "cell_type": "code",
   "execution_count": 60,
   "metadata": {
    "collapsed": true
   },
   "outputs": [
    {
     "ename": "ValueError",
     "evalue": "Input contains NaN, infinity or a value too large for dtype('float64').",
     "output_type": "error",
     "traceback": [
      "\u001b[0;31m---------------------------------------------------------------------------\u001b[0m",
      "\u001b[0;31mValueError\u001b[0m                                Traceback (most recent call last)",
      "\u001b[0;32m<ipython-input-60-b6c19633a714>\u001b[0m in \u001b[0;36m<module>\u001b[0;34m()\u001b[0m\n\u001b[1;32m      7\u001b[0m \u001b[0my\u001b[0m \u001b[0;34m=\u001b[0m \u001b[0mdataPt1\u001b[0m\u001b[0;34m[\u001b[0m\u001b[0;34m'pm2.5'\u001b[0m\u001b[0;34m]\u001b[0m\u001b[0;34m\u001b[0m\u001b[0m\n\u001b[1;32m      8\u001b[0m \u001b[0;34m\u001b[0m\u001b[0m\n\u001b[0;32m----> 9\u001b[0;31m \u001b[0mlm\u001b[0m\u001b[0;34m.\u001b[0m\u001b[0mfit\u001b[0m\u001b[0;34m(\u001b[0m\u001b[0mX\u001b[0m\u001b[0;34m,\u001b[0m \u001b[0my\u001b[0m\u001b[0;34m)\u001b[0m\u001b[0;34m\u001b[0m\u001b[0m\n\u001b[0m\u001b[1;32m     10\u001b[0m \u001b[0mprint\u001b[0m\u001b[0;34m(\u001b[0m\u001b[0;34mf\"r2 = {lm.score(X, y)}\"\u001b[0m\u001b[0;34m)\u001b[0m\u001b[0;34m\u001b[0m\u001b[0m\n\u001b[1;32m     11\u001b[0m \u001b[0mprint\u001b[0m\u001b[0;34m(\u001b[0m\u001b[0;34mf\"mean squared error = {mean_squared_error(y, lm.predict(X))}\"\u001b[0m\u001b[0;34m)\u001b[0m\u001b[0;34m\u001b[0m\u001b[0m\n",
      "\u001b[0;32m/Users/ross.blanchard/anaconda/lib/python3.6/site-packages/sklearn/linear_model/base.py\u001b[0m in \u001b[0;36mfit\u001b[0;34m(self, X, y, sample_weight)\u001b[0m\n\u001b[1;32m    510\u001b[0m         \u001b[0mn_jobs_\u001b[0m \u001b[0;34m=\u001b[0m \u001b[0mself\u001b[0m\u001b[0;34m.\u001b[0m\u001b[0mn_jobs\u001b[0m\u001b[0;34m\u001b[0m\u001b[0m\n\u001b[1;32m    511\u001b[0m         X, y = check_X_y(X, y, accept_sparse=['csr', 'csc', 'coo'],\n\u001b[0;32m--> 512\u001b[0;31m                          y_numeric=True, multi_output=True)\n\u001b[0m\u001b[1;32m    513\u001b[0m \u001b[0;34m\u001b[0m\u001b[0m\n\u001b[1;32m    514\u001b[0m         \u001b[0;32mif\u001b[0m \u001b[0msample_weight\u001b[0m \u001b[0;32mis\u001b[0m \u001b[0;32mnot\u001b[0m \u001b[0;32mNone\u001b[0m \u001b[0;32mand\u001b[0m \u001b[0mnp\u001b[0m\u001b[0;34m.\u001b[0m\u001b[0matleast_1d\u001b[0m\u001b[0;34m(\u001b[0m\u001b[0msample_weight\u001b[0m\u001b[0;34m)\u001b[0m\u001b[0;34m.\u001b[0m\u001b[0mndim\u001b[0m \u001b[0;34m>\u001b[0m \u001b[0;36m1\u001b[0m\u001b[0;34m:\u001b[0m\u001b[0;34m\u001b[0m\u001b[0m\n",
      "\u001b[0;32m/Users/ross.blanchard/anaconda/lib/python3.6/site-packages/sklearn/utils/validation.py\u001b[0m in \u001b[0;36mcheck_X_y\u001b[0;34m(X, y, accept_sparse, dtype, order, copy, force_all_finite, ensure_2d, allow_nd, multi_output, ensure_min_samples, ensure_min_features, y_numeric, warn_on_dtype, estimator)\u001b[0m\n\u001b[1;32m    519\u001b[0m     X = check_array(X, accept_sparse, dtype, order, copy, force_all_finite,\n\u001b[1;32m    520\u001b[0m                     \u001b[0mensure_2d\u001b[0m\u001b[0;34m,\u001b[0m \u001b[0mallow_nd\u001b[0m\u001b[0;34m,\u001b[0m \u001b[0mensure_min_samples\u001b[0m\u001b[0;34m,\u001b[0m\u001b[0;34m\u001b[0m\u001b[0m\n\u001b[0;32m--> 521\u001b[0;31m                     ensure_min_features, warn_on_dtype, estimator)\n\u001b[0m\u001b[1;32m    522\u001b[0m     \u001b[0;32mif\u001b[0m \u001b[0mmulti_output\u001b[0m\u001b[0;34m:\u001b[0m\u001b[0;34m\u001b[0m\u001b[0m\n\u001b[1;32m    523\u001b[0m         y = check_array(y, 'csr', force_all_finite=True, ensure_2d=False,\n",
      "\u001b[0;32m/Users/ross.blanchard/anaconda/lib/python3.6/site-packages/sklearn/utils/validation.py\u001b[0m in \u001b[0;36mcheck_array\u001b[0;34m(array, accept_sparse, dtype, order, copy, force_all_finite, ensure_2d, allow_nd, ensure_min_samples, ensure_min_features, warn_on_dtype, estimator)\u001b[0m\n\u001b[1;32m    405\u001b[0m                              % (array.ndim, estimator_name))\n\u001b[1;32m    406\u001b[0m         \u001b[0;32mif\u001b[0m \u001b[0mforce_all_finite\u001b[0m\u001b[0;34m:\u001b[0m\u001b[0;34m\u001b[0m\u001b[0m\n\u001b[0;32m--> 407\u001b[0;31m             \u001b[0m_assert_all_finite\u001b[0m\u001b[0;34m(\u001b[0m\u001b[0marray\u001b[0m\u001b[0;34m)\u001b[0m\u001b[0;34m\u001b[0m\u001b[0m\n\u001b[0m\u001b[1;32m    408\u001b[0m \u001b[0;34m\u001b[0m\u001b[0m\n\u001b[1;32m    409\u001b[0m     \u001b[0mshape_repr\u001b[0m \u001b[0;34m=\u001b[0m \u001b[0m_shape_repr\u001b[0m\u001b[0;34m(\u001b[0m\u001b[0marray\u001b[0m\u001b[0;34m.\u001b[0m\u001b[0mshape\u001b[0m\u001b[0;34m)\u001b[0m\u001b[0;34m\u001b[0m\u001b[0m\n",
      "\u001b[0;32m/Users/ross.blanchard/anaconda/lib/python3.6/site-packages/sklearn/utils/validation.py\u001b[0m in \u001b[0;36m_assert_all_finite\u001b[0;34m(X)\u001b[0m\n\u001b[1;32m     56\u001b[0m             and not np.isfinite(X).all()):\n\u001b[1;32m     57\u001b[0m         raise ValueError(\"Input contains NaN, infinity\"\n\u001b[0;32m---> 58\u001b[0;31m                          \" or a value too large for %r.\" % X.dtype)\n\u001b[0m\u001b[1;32m     59\u001b[0m \u001b[0;34m\u001b[0m\u001b[0m\n\u001b[1;32m     60\u001b[0m \u001b[0;34m\u001b[0m\u001b[0m\n",
      "\u001b[0;31mValueError\u001b[0m: Input contains NaN, infinity or a value too large for dtype('float64')."
     ]
    }
   ],
   "source": [
    "# drop rows with at least 3 NA\n",
    "dataPt2 = bpdNa[['pm2.5', 'DEWP', 'TEMP', 'PRES', 'Iws']].dropna(thresh=3)\n",
    "\n",
    "lm = LinearRegression()\n",
    "\n",
    "X = dataPt1.drop('pm2.5', axis=1)\n",
    "y = dataPt1['pm2.5']\n",
    "\n",
    "lm.fit(X, y)\n",
    "print(f\"r2 = {lm.score(X, y)}\")\n",
    "print(f\"mean squared error = {mean_squared_error(y, lm.predict(X))}\")"
   ]
  },
  {
   "cell_type": "code",
   "execution_count": 64,
   "metadata": {},
   "outputs": [
    {
     "name": "stdout",
     "output_type": "stream",
     "text": [
      "r2 = 0.17055361273454628\n",
      "mean squared error = 7050.075490517768\n"
     ]
    }
   ],
   "source": [
    "# imputing 0 for NaNs\n",
    "dataPt3 = bpdNa[['pm2.5', 'DEWP', 'TEMP', 'PRES', 'Iws']].fillna(0)\n",
    "\n",
    "lm = LinearRegression()\n",
    "\n",
    "X = dataPt3.drop('pm2.5', axis=1)\n",
    "y = dataPt3['pm2.5']\n",
    "\n",
    "lm.fit(X, y)\n",
    "print(f\"r2 = {lm.score(X, y)}\")\n",
    "print(f\"mean squared error = {mean_squared_error(y, lm.predict(X))}\")"
   ]
  },
  {
   "cell_type": "code",
   "execution_count": 67,
   "metadata": {},
   "outputs": [
    {
     "name": "stdout",
     "output_type": "stream",
     "text": [
      "r2 = 0.19610148684201745\n",
      "mean squared error = 6391.933172835538\n"
     ]
    }
   ],
   "source": [
    "# imputing mean for NaNs\n",
    "dataPt4 = bpdNa[['pm2.5', 'DEWP', 'TEMP', 'PRES', 'Iws']].fillna(bpdNa.mean())\n",
    "\n",
    "lm = LinearRegression()\n",
    "\n",
    "X = dataPt4.drop('pm2.5', axis=1)\n",
    "y = dataPt4['pm2.5']\n",
    "\n",
    "lm.fit(X, y)\n",
    "print(f\"r2 = {lm.score(X, y)}\")\n",
    "print(f\"mean squared error = {mean_squared_error(y, lm.predict(X))}\")"
   ]
  },
  {
   "cell_type": "code",
   "execution_count": 71,
   "metadata": {},
   "outputs": [
    {
     "name": "stdout",
     "output_type": "stream",
     "text": [
      "r2 = 0.1950498251138234\n",
      "mean squared error = 6432.392472664963\n"
     ]
    }
   ],
   "source": [
    "# imputing median for NaNs\n",
    "dataPt5 = bpdNa[['pm2.5', 'DEWP', 'TEMP', 'PRES', 'Iws']].fillna(bpdNa.median())\n",
    "\n",
    "lm = LinearRegression()\n",
    "\n",
    "X = dataPt5.drop('pm2.5', axis=1)\n",
    "y = dataPt5['pm2.5']\n",
    "\n",
    "lm.fit(X, y)\n",
    "print(f\"r2 = {lm.score(X, y)}\")\n",
    "print(f\"mean squared error = {mean_squared_error(y, lm.predict(X))}\")"
   ]
  },
  {
   "cell_type": "code",
   "execution_count": 73,
   "metadata": {},
   "outputs": [
    {
     "name": "stdout",
     "output_type": "stream",
     "text": [
      "r2 = 0.17677509078480047\n",
      "mean squared error = 6862.495946702779\n"
     ]
    }
   ],
   "source": [
    "# imputing mode for NaNs\n",
    "dataPt6 = bpdNa[['pm2.5', 'DEWP', 'TEMP', 'PRES', 'Iws']].fillna(bpdNa.mode().iloc[0])\n",
    "\n",
    "lm = LinearRegression()\n",
    "\n",
    "X = dataPt6.drop('pm2.5', axis=1)\n",
    "y = dataPt6['pm2.5']\n",
    "\n",
    "lm.fit(X, y)\n",
    "print(f\"r2 = {lm.score(X, y)}\")\n",
    "print(f\"mean squared error = {mean_squared_error(y, lm.predict(X))}\")"
   ]
  },
  {
   "cell_type": "markdown",
   "metadata": {},
   "source": [
    "MSE is lowest for the mean imputation method, but r2 is highest for dropping all NaNs. Seems to make sense to combine them in some way"
   ]
  },
  {
   "cell_type": "code",
   "execution_count": 108,
   "metadata": {},
   "outputs": [
    {
     "name": "stdout",
     "output_type": "stream",
     "text": [
      "r2 for dropping pm2.5 NaNs = 0.21024793174043876\n",
      "mean squared error for dropping pm2.5 NaNs = 6695.587907555551\n"
     ]
    }
   ],
   "source": [
    "lmData = bpdNa[['pm2.5', 'DEWP', 'TEMP', 'PRES', 'Iws']]\n",
    "lmData = lmData[pd.notnull(bpdNa['pm2.5'])]\n",
    "lmData = lmData.fillna(lmData.mean())\n",
    "\n",
    "lm = LinearRegression()\n",
    "\n",
    "X = lmData.drop('pm2.5', axis=1)\n",
    "y = lmData['pm2.5']\n",
    "\n",
    "lm.fit(X, y)\n",
    "print(f\"r2 for dropping pm2.5 NaNs = {lm.score(X, y)}\")\n",
    "print(f\"mean squared error for dropping pm2.5 NaNs = {mean_squared_error(y, lm.predict(X))}\")"
   ]
  },
  {
   "cell_type": "code",
   "execution_count": 109,
   "metadata": {
    "scrolled": false
   },
   "outputs": [
    {
     "name": "stdout",
     "output_type": "stream",
     "text": [
      "r2 for imputing pm2.5 mean = 0.21133137717828723\n",
      "mean squared error for imputing pm2.5 mean = 6286.50011122515\n"
     ]
    },
    {
     "name": "stderr",
     "output_type": "stream",
     "text": [
      "/Users/ross.blanchard/anaconda/lib/python3.6/site-packages/ipykernel_launcher.py:2: SettingWithCopyWarning: \n",
      "A value is trying to be set on a copy of a slice from a DataFrame.\n",
      "Try using .loc[row_indexer,col_indexer] = value instead\n",
      "\n",
      "See the caveats in the documentation: http://pandas.pydata.org/pandas-docs/stable/indexing.html#indexing-view-versus-copy\n",
      "  \n"
     ]
    }
   ],
   "source": [
    "lmData2 = bpdNa[['pm2.5', 'DEWP', 'TEMP', 'PRES', 'Iws']]\n",
    "lmData2['pm2.5'] = lmData2['pm2.5'].fillna(lmData2['pm2.5'].mean())\n",
    "lmData2 = lmData2.dropna()\n",
    "\n",
    "lm = LinearRegression()\n",
    "\n",
    "X = lmData2.drop('pm2.5', axis=1)\n",
    "y = lmData2['pm2.5']\n",
    "\n",
    "lm.fit(X, y)\n",
    "print(f\"r2 for imputing pm2.5 mean = {lm.score(X, y)}\")\n",
    "print(f\"mean squared error for imputing pm2.5 mean = {mean_squared_error(y, lm.predict(X))}\")"
   ]
  },
  {
   "cell_type": "markdown",
   "metadata": {},
   "source": [
    "Dropping the NaNs from the dependent variables and imputting the mean on the independent variable seems to have given the best result of MSE and r2"
   ]
  },
  {
   "cell_type": "markdown",
   "metadata": {
    "collapsed": true
   },
   "source": [
    "## Categorical Data\n",
    "Sometimes your data will contain categorical variables which need to be handled carefully depending on the machine learning algorithm you choose to use.  Encoding categorical variables comes in two flavors: oridinal (ordered) and nominal (unordered) features.  In this exercise, you'll further explore the Beijing PM2.5 dataset, this time using categorical variables."
   ]
  },
  {
   "cell_type": "markdown",
   "metadata": {},
   "source": [
    "1. Which variables are categorical?  Encode them properly, taking care to insure that they are properly classified as either ordinal or nominal.\n",
    "1. Perform a multilinear regression, using the classified data, removing the `NA` values.  Comment on your results.\n",
    "1. Create a new encoding for days in which it rained, snowed, neither, and both, and then rerun the regression.  Are the results any better?\n",
    "1. Create a new encoding for the quartile that a day falls under by wind speed and rerun the regression.  Comment on your results.\n",
    "1. Create a new encoding for deciles of the `DEWP` variable.  Then select the row containing the highest temperature, and using `Pandas` `category` data type, select all rows in a lesser `DEWP` decile than this row."
   ]
  },
  {
   "cell_type": "code",
   "execution_count": 111,
   "metadata": {
    "collapsed": true
   },
   "outputs": [
    {
     "name": "stdout",
     "output_type": "stream",
     "text": [
      "<class 'pandas.core.frame.DataFrame'>\n",
      "RangeIndex: 43824 entries, 0 to 43823\n",
      "Data columns (total 8 columns):\n",
      "pm2.5    41757 non-null float64\n",
      "DEWP     43824 non-null int64\n",
      "TEMP     43824 non-null float64\n",
      "PRES     43824 non-null float64\n",
      "cbwd     43824 non-null object\n",
      "Iws      43824 non-null float64\n",
      "Is       43824 non-null int64\n",
      "Ir       43824 non-null int64\n",
      "dtypes: float64(4), int64(3), object(1)\n",
      "memory usage: 2.7+ MB\n"
     ]
    }
   ],
   "source": [
    "# 1.\n",
    "bpd.info()"
   ]
  },
  {
   "cell_type": "markdown",
   "metadata": {},
   "source": [
    "cdwd is the only categorical variable, and as wind direction has no inherent order, it's an ordinal variable"
   ]
  },
  {
   "cell_type": "code",
   "execution_count": 163,
   "metadata": {
    "collapsed": true
   },
   "outputs": [
    {
     "data": {
      "text/html": [
       "<div>\n",
       "<style>\n",
       "    .dataframe thead tr:only-child th {\n",
       "        text-align: right;\n",
       "    }\n",
       "\n",
       "    .dataframe thead th {\n",
       "        text-align: left;\n",
       "    }\n",
       "\n",
       "    .dataframe tbody tr th {\n",
       "        vertical-align: top;\n",
       "    }\n",
       "</style>\n",
       "<table border=\"1\" class=\"dataframe\">\n",
       "  <thead>\n",
       "    <tr style=\"text-align: right;\">\n",
       "      <th></th>\n",
       "      <th>pm2.5</th>\n",
       "      <th>DEWP</th>\n",
       "      <th>TEMP</th>\n",
       "      <th>PRES</th>\n",
       "      <th>Iws</th>\n",
       "      <th>Is</th>\n",
       "      <th>Ir</th>\n",
       "      <th>NE</th>\n",
       "      <th>NW</th>\n",
       "      <th>SE</th>\n",
       "      <th>cv</th>\n",
       "    </tr>\n",
       "  </thead>\n",
       "  <tbody>\n",
       "    <tr>\n",
       "      <th>0</th>\n",
       "      <td>NaN</td>\n",
       "      <td>-21</td>\n",
       "      <td>-11.0</td>\n",
       "      <td>1021.0</td>\n",
       "      <td>1.79</td>\n",
       "      <td>0</td>\n",
       "      <td>0</td>\n",
       "      <td>0</td>\n",
       "      <td>1</td>\n",
       "      <td>0</td>\n",
       "      <td>0</td>\n",
       "    </tr>\n",
       "    <tr>\n",
       "      <th>1</th>\n",
       "      <td>NaN</td>\n",
       "      <td>-21</td>\n",
       "      <td>-12.0</td>\n",
       "      <td>1020.0</td>\n",
       "      <td>4.92</td>\n",
       "      <td>0</td>\n",
       "      <td>0</td>\n",
       "      <td>0</td>\n",
       "      <td>1</td>\n",
       "      <td>0</td>\n",
       "      <td>0</td>\n",
       "    </tr>\n",
       "    <tr>\n",
       "      <th>2</th>\n",
       "      <td>NaN</td>\n",
       "      <td>-21</td>\n",
       "      <td>-11.0</td>\n",
       "      <td>1019.0</td>\n",
       "      <td>6.71</td>\n",
       "      <td>0</td>\n",
       "      <td>0</td>\n",
       "      <td>0</td>\n",
       "      <td>1</td>\n",
       "      <td>0</td>\n",
       "      <td>0</td>\n",
       "    </tr>\n",
       "    <tr>\n",
       "      <th>3</th>\n",
       "      <td>NaN</td>\n",
       "      <td>-21</td>\n",
       "      <td>-14.0</td>\n",
       "      <td>1019.0</td>\n",
       "      <td>9.84</td>\n",
       "      <td>0</td>\n",
       "      <td>0</td>\n",
       "      <td>0</td>\n",
       "      <td>1</td>\n",
       "      <td>0</td>\n",
       "      <td>0</td>\n",
       "    </tr>\n",
       "    <tr>\n",
       "      <th>4</th>\n",
       "      <td>NaN</td>\n",
       "      <td>-20</td>\n",
       "      <td>-12.0</td>\n",
       "      <td>1018.0</td>\n",
       "      <td>12.97</td>\n",
       "      <td>0</td>\n",
       "      <td>0</td>\n",
       "      <td>0</td>\n",
       "      <td>1</td>\n",
       "      <td>0</td>\n",
       "      <td>0</td>\n",
       "    </tr>\n",
       "  </tbody>\n",
       "</table>\n",
       "</div>"
      ],
      "text/plain": [
       "   pm2.5  DEWP  TEMP    PRES    Iws  Is  Ir  NE  NW  SE  cv\n",
       "0    NaN   -21 -11.0  1021.0   1.79   0   0   0   1   0   0\n",
       "1    NaN   -21 -12.0  1020.0   4.92   0   0   0   1   0   0\n",
       "2    NaN   -21 -11.0  1019.0   6.71   0   0   0   1   0   0\n",
       "3    NaN   -21 -14.0  1019.0   9.84   0   0   0   1   0   0\n",
       "4    NaN   -20 -12.0  1018.0  12.97   0   0   0   1   0   0"
      ]
     },
     "execution_count": 163,
     "metadata": {},
     "output_type": "execute_result"
    }
   ],
   "source": [
    "# 2.\n",
    "catData = bpd.copy()\n",
    "\n",
    "dummies = pd.get_dummies(catData['cbwd'])\n",
    "catData = catData.join(dummies).drop('cbwd', axis=1)\n",
    "catData.head()"
   ]
  },
  {
   "cell_type": "code",
   "execution_count": 165,
   "metadata": {},
   "outputs": [
    {
     "name": "stdout",
     "output_type": "stream",
     "text": [
      "r2 = 0.2605655420307925\n",
      "mean squared error = 6265.280560951087\n"
     ]
    }
   ],
   "source": [
    "catData = catData.dropna()\n",
    "\n",
    "multLinReg(catData)"
   ]
  },
  {
   "cell_type": "markdown",
   "metadata": {},
   "source": [
    "Results are better than when not using categorical data"
   ]
  },
  {
   "cell_type": "code",
   "execution_count": 166,
   "metadata": {},
   "outputs": [
    {
     "name": "stdout",
     "output_type": "stream",
     "text": [
      "r2 = 0.2615373538508471\n",
      "mean squared error = 6257.046330534219\n"
     ]
    }
   ],
   "source": [
    "# 2.\n",
    "catData['yr'] = np.where(catData['Ir'] != 0, 1, 0)\n",
    "catData['ys'] = np.where(catData['Is'] != 0, 1, 0)\n",
    "catData['nrns'] = np.where((catData['Is'] == 0) & (catData['Is'] == 0), 1, 0)\n",
    "catData['yrys'] = np.where((catData['Is'] != 0) & (catData['Is'] != 0), 1, 0)\n",
    "multLinReg(catData)"
   ]
  },
  {
   "cell_type": "markdown",
   "metadata": {},
   "source": [
    "Eh, about the same results as before. Slightly better r2 and MSE but not significant"
   ]
  },
  {
   "cell_type": "code",
   "execution_count": 157,
   "metadata": {},
   "outputs": [],
   "source": [
    "# 4.\n",
    "quartiles = list(bpd['Iws'].describe().iloc[4:7].values)"
   ]
  },
  {
   "cell_type": "code",
   "execution_count": 169,
   "metadata": {},
   "outputs": [
    {
     "name": "stdout",
     "output_type": "stream",
     "text": [
      "r2 = 0.26835890324200895\n",
      "mean squared error = 6199.246859147137\n"
     ]
    }
   ],
   "source": [
    "def assignQuartile(x):\n",
    "    if x < quartiles[0]:\n",
    "        return '1st'\n",
    "    if x < quartiles[1]:\n",
    "        return '2nd'\n",
    "    if x < quartiles[2]:\n",
    "        return '3rd'\n",
    "    return '4th'\n",
    "\n",
    "catData['wind_quart'] = catData['Iws'].apply(lambda x: assignQuartile(x))\n",
    "dummies = pd.get_dummies(catData['wind_quart'])\n",
    "catData = catData.join(dummies).drop('wind_quart', axis=1)\n",
    "catData.head()\n",
    "\n",
    "multLinReg(catData)"
   ]
  },
  {
   "cell_type": "markdown",
   "metadata": {},
   "source": [
    "Better than any other results"
   ]
  },
  {
   "cell_type": "code",
   "execution_count": 175,
   "metadata": {},
   "outputs": [],
   "source": [
    "# 5.\n",
    "decile = list(np.percentile(catData['DEWP'], range(10,110,10)))\n",
    "decString = ['1st', '2nd', '3rd', '4th', '5th' ,'6th', '7th', '8th', '9th', '10th']\n",
    "\n",
    "def assignDecile(x):\n",
    "    for num in decile:\n",
    "        if x <= num:\n",
    "            return decString[decile.index(num)]\n",
    "\n",
    "catData['DewpDec'] = catData['DEWP'].apply(lambda x: assignDecile(x))"
   ]
  },
  {
   "cell_type": "code",
   "execution_count": 191,
   "metadata": {},
   "outputs": [
    {
     "name": "stdout",
     "output_type": "stream",
     "text": [
      "<class 'pandas.core.frame.DataFrame'>\n",
      "Int64Index: 21400 entries, 24 to 43823\n",
      "Data columns (total 20 columns):\n",
      "pm2.5      21400 non-null float64\n",
      "DEWP       21400 non-null int64\n",
      "TEMP       21400 non-null float64\n",
      "PRES       21400 non-null float64\n",
      "Iws        21400 non-null float64\n",
      "Is         21400 non-null int64\n",
      "Ir         21400 non-null int64\n",
      "NE         21400 non-null uint8\n",
      "NW         21400 non-null uint8\n",
      "SE         21400 non-null uint8\n",
      "cv         21400 non-null uint8\n",
      "yr         21400 non-null int64\n",
      "ys         21400 non-null int64\n",
      "nrns       21400 non-null int64\n",
      "yrys       21400 non-null int64\n",
      "1st        21400 non-null uint8\n",
      "2nd        21400 non-null uint8\n",
      "3rd        21400 non-null uint8\n",
      "4th        21400 non-null uint8\n",
      "DewpDec    21400 non-null category\n",
      "dtypes: category(1), float64(4), int64(7), uint8(8)\n",
      "memory usage: 2.1 MB\n"
     ]
    }
   ],
   "source": [
    "catData['DewpDec'] = pd.Categorical(catData['DewpDec'], categories=decString, ordered=True)\n",
    "catDataDewp = catData[catData['DewpDec'] < catData[catData['TEMP'] == catData['TEMP'].max()]['DewpDec'].values]\n",
    "catDataDewp.info()"
   ]
  },
  {
   "cell_type": "markdown",
   "metadata": {},
   "source": [
    "## Feature Scaling\n",
    "Many of the machine learning algorithms we have at our disposal require that the feautures be on the the same scale in order to work properly.  In this exercise, you'll test out a few techniques with and without feature scaling and observe the outcomes."
   ]
  },
  {
   "cell_type": "markdown",
   "metadata": {},
   "source": [
    "1. Head over to the [Machine Learning Repository](http://archive.ics.uci.edu/ml/index.php), download the [Wine Dataset](http://archive.ics.uci.edu/ml/datasets/Wine), and put it in a dataframe, being sure to label the columns properly.\n",
    "1. Fit a Nearest Neighbors model to the data, using a normalized data set, a stardardized data set, and the original.  Split into test and train sets and compute the accuracy of the classifications and comment on your results.\n",
    "1. Fit a Naive Bayes model to the data, using a normalized data set, a standardized data set, and the original.  Comment on your results."
   ]
  },
  {
   "cell_type": "code",
   "execution_count": 204,
   "metadata": {
    "collapsed": true
   },
   "outputs": [],
   "source": [
    "from sklearn.preprocessing import MinMaxScaler\n",
    "from sklearn.preprocessing import StandardScaler\n",
    "from sklearn.model_selection import train_test_split\n",
    "from sklearn.neighbors import KNeighborsClassifier"
   ]
  },
  {
   "cell_type": "code",
   "execution_count": 203,
   "metadata": {},
   "outputs": [
    {
     "data": {
      "text/html": [
       "<div>\n",
       "<style>\n",
       "    .dataframe thead tr:only-child th {\n",
       "        text-align: right;\n",
       "    }\n",
       "\n",
       "    .dataframe thead th {\n",
       "        text-align: left;\n",
       "    }\n",
       "\n",
       "    .dataframe tbody tr th {\n",
       "        vertical-align: top;\n",
       "    }\n",
       "</style>\n",
       "<table border=\"1\" class=\"dataframe\">\n",
       "  <thead>\n",
       "    <tr style=\"text-align: right;\">\n",
       "      <th></th>\n",
       "      <th>class</th>\n",
       "      <th>alcohol</th>\n",
       "      <th>malicAcid</th>\n",
       "      <th>ash</th>\n",
       "      <th>ashAlc</th>\n",
       "      <th>mg</th>\n",
       "      <th>phenols</th>\n",
       "      <th>flavanoids</th>\n",
       "      <th>nonFlavPhenols</th>\n",
       "      <th>proanthocyanins</th>\n",
       "      <th>colorIntensity</th>\n",
       "      <th>hue</th>\n",
       "      <th>od280Od315</th>\n",
       "      <th>proline</th>\n",
       "    </tr>\n",
       "  </thead>\n",
       "  <tbody>\n",
       "    <tr>\n",
       "      <th>0</th>\n",
       "      <td>1</td>\n",
       "      <td>13.20</td>\n",
       "      <td>1.78</td>\n",
       "      <td>2.14</td>\n",
       "      <td>11.2</td>\n",
       "      <td>100</td>\n",
       "      <td>2.65</td>\n",
       "      <td>2.76</td>\n",
       "      <td>0.26</td>\n",
       "      <td>1.28</td>\n",
       "      <td>4.38</td>\n",
       "      <td>1.05</td>\n",
       "      <td>3.40</td>\n",
       "      <td>1050</td>\n",
       "    </tr>\n",
       "    <tr>\n",
       "      <th>1</th>\n",
       "      <td>1</td>\n",
       "      <td>13.16</td>\n",
       "      <td>2.36</td>\n",
       "      <td>2.67</td>\n",
       "      <td>18.6</td>\n",
       "      <td>101</td>\n",
       "      <td>2.80</td>\n",
       "      <td>3.24</td>\n",
       "      <td>0.30</td>\n",
       "      <td>2.81</td>\n",
       "      <td>5.68</td>\n",
       "      <td>1.03</td>\n",
       "      <td>3.17</td>\n",
       "      <td>1185</td>\n",
       "    </tr>\n",
       "    <tr>\n",
       "      <th>2</th>\n",
       "      <td>1</td>\n",
       "      <td>14.37</td>\n",
       "      <td>1.95</td>\n",
       "      <td>2.50</td>\n",
       "      <td>16.8</td>\n",
       "      <td>113</td>\n",
       "      <td>3.85</td>\n",
       "      <td>3.49</td>\n",
       "      <td>0.24</td>\n",
       "      <td>2.18</td>\n",
       "      <td>7.80</td>\n",
       "      <td>0.86</td>\n",
       "      <td>3.45</td>\n",
       "      <td>1480</td>\n",
       "    </tr>\n",
       "    <tr>\n",
       "      <th>3</th>\n",
       "      <td>1</td>\n",
       "      <td>13.24</td>\n",
       "      <td>2.59</td>\n",
       "      <td>2.87</td>\n",
       "      <td>21.0</td>\n",
       "      <td>118</td>\n",
       "      <td>2.80</td>\n",
       "      <td>2.69</td>\n",
       "      <td>0.39</td>\n",
       "      <td>1.82</td>\n",
       "      <td>4.32</td>\n",
       "      <td>1.04</td>\n",
       "      <td>2.93</td>\n",
       "      <td>735</td>\n",
       "    </tr>\n",
       "    <tr>\n",
       "      <th>4</th>\n",
       "      <td>1</td>\n",
       "      <td>14.20</td>\n",
       "      <td>1.76</td>\n",
       "      <td>2.45</td>\n",
       "      <td>15.2</td>\n",
       "      <td>112</td>\n",
       "      <td>3.27</td>\n",
       "      <td>3.39</td>\n",
       "      <td>0.34</td>\n",
       "      <td>1.97</td>\n",
       "      <td>6.75</td>\n",
       "      <td>1.05</td>\n",
       "      <td>2.85</td>\n",
       "      <td>1450</td>\n",
       "    </tr>\n",
       "  </tbody>\n",
       "</table>\n",
       "</div>"
      ],
      "text/plain": [
       "   class  alcohol  malicAcid   ash  ashAlc   mg  phenols  flavanoids  \\\n",
       "0      1    13.20       1.78  2.14    11.2  100     2.65        2.76   \n",
       "1      1    13.16       2.36  2.67    18.6  101     2.80        3.24   \n",
       "2      1    14.37       1.95  2.50    16.8  113     3.85        3.49   \n",
       "3      1    13.24       2.59  2.87    21.0  118     2.80        2.69   \n",
       "4      1    14.20       1.76  2.45    15.2  112     3.27        3.39   \n",
       "\n",
       "   nonFlavPhenols  proanthocyanins  colorIntensity   hue  od280Od315  proline  \n",
       "0            0.26             1.28            4.38  1.05        3.40     1050  \n",
       "1            0.30             2.81            5.68  1.03        3.17     1185  \n",
       "2            0.24             2.18            7.80  0.86        3.45     1480  \n",
       "3            0.39             1.82            4.32  1.04        2.93      735  \n",
       "4            0.34             1.97            6.75  1.05        2.85     1450  "
      ]
     },
     "execution_count": 203,
     "metadata": {},
     "output_type": "execute_result"
    }
   ],
   "source": [
    "# 1.\n",
    "wine = pd.read_csv('wine.data')\n",
    "wine.columns=['class', 'alcohol', 'malicAcid', 'ash', 'ashAlc', 'mg', 'phenols', 'flavanoids', 'nonFlavPhenols', \n",
    "              'proanthocyanins', 'colorIntensity', 'hue', 'od280Od315', 'proline']\n",
    "wine.head()"
   ]
  },
  {
   "cell_type": "code",
   "execution_count": 209,
   "metadata": {},
   "outputs": [],
   "source": [
    "# 2.\n",
    "X = wine.drop('class', axis=1)\n",
    "y = wine['class']\n",
    "XTrain, XTest, yTrain, yTest = train_test_split(X, y, test_size=0.2, random_state=1)\n",
    "\n",
    "mms = MinMaxScaler()\n",
    "ss = StandardScaler()\n",
    "\n",
    "NormXTrain = mms.fit_transform(XTrain)\n",
    "NormXTest = mms.fit_transform(XTest)\n",
    "\n",
    "StdXTrain = ss.fit_transform(XTrain)\n",
    "StdXTest = ss.fit_transform(XTest)"
   ]
  },
  {
   "cell_type": "code",
   "execution_count": 212,
   "metadata": {},
   "outputs": [
    {
     "name": "stdout",
     "output_type": "stream",
     "text": [
      "The best Original dataset's fit score is 0.778\n",
      "The best Normed dataset's fit score is 0.917\n",
      "The best Standardized dataset's fit score is 0.944\n"
     ]
    }
   ],
   "source": [
    "orig_score = 0\n",
    "norm_score = 0\n",
    "std_score = 0\n",
    "for x in range(1,7):\n",
    "    kn = KNeighborsClassifier(n_neighbors=x)\n",
    "    kn.fit(XTrain, yTrain)\n",
    "    if kn.score(XTest, yTest) > orig_score:\n",
    "        orig_score = round(kn.score(XTest, yTest),3)\n",
    "        \n",
    "    kn.fit(NormXTrain, yTrain)\n",
    "    if kn.score(NormXTest, yTest) > norm_score:\n",
    "        norm_score = round(kn.score(NormXTest, yTest),3)\n",
    "        \n",
    "    kn.fit(StdXTrain, yTrain)\n",
    "    if kn.score(StdXTest, yTest) > std_score:\n",
    "        std_score = round(kn.score(StdXTest, yTest),3)\n",
    "        \n",
    "print(f\"The best Original dataset's fit score is {orig_score}\")\n",
    "print(f\"The best Normed dataset's fit score is {norm_score}\")\n",
    "print(f\"The best Standardized dataset's fit score is {std_score}\")"
   ]
  },
  {
   "cell_type": "code",
   "execution_count": 213,
   "metadata": {},
   "outputs": [
    {
     "name": "stdout",
     "output_type": "stream",
     "text": [
      "The best Original dataset's Naive Bayes fit score is 0.944\n",
      "The best Normed dataset's Naive Bayes fit score is 0.917\n",
      "The best Standardized dataset's Naive Bayes fit score is 0.917\n"
     ]
    }
   ],
   "source": [
    "# 3.\n",
    "from sklearn.naive_bayes import GaussianNB\n",
    "nb = GaussianNB()\n",
    "nb.fit(XTrain, yTrain)\n",
    "print(f\"The best Original dataset's Naive Bayes fit score is {round(nb.score(XTest, yTest),3)}\")\n",
    "nb.fit(NormXTrain, yTrain)\n",
    "print(f\"The best Normed dataset's Naive Bayes fit score is {round(nb.score(NormXTest, yTest),3)}\")\n",
    "nb.fit(StdXTrain, yTrain)\n",
    "print(f\"The best Standardized dataset's Naive Bayes fit score is {round(nb.score(StdXTest, yTest),3)}\")"
   ]
  },
  {
   "cell_type": "markdown",
   "metadata": {},
   "source": [
    "## Feature Selection\n",
    "With many datasets, you will find yourself in a situation where not all of the provided features are relevant to your model and it may be best to discard them.  This is a very complex topic, involving many techniques, a few of which we will explore in this exercise, using the `Boston` housing data."
   ]
  },
  {
   "cell_type": "markdown",
   "metadata": {},
   "source": [
    "1. From sklearn import the `load_boston` package, and put the data into a data frame with the proper column names, and then split into training and testing sets.\n",
    "1. Fit a series of least squares multilinear regression models to the data, and use the F-Statistic to select the K best features for values of `k` ranging from `1` to the total number of features.  Plot the MSE for each model against the test set and print the best features for each iteration.  Comment on your results.\n",
    "1. Do the same as in part (2) instead this time using recursive feature selection.\n",
    "1. Fit a Ridge Regression model to the data and use recursive feature elimination and `SelectFromModel` in `sklearn` to select your features.  Generate the same plots and best features as in parts (2) and (3) and comment and compare your results to what you have found previously.\n",
    "1. L1 regularization can also be used for model selection.  Choose an algorithm in `sklearn` and repeat part (4) using model selection via regularization."
   ]
  },
  {
   "cell_type": "code",
   "execution_count": 214,
   "metadata": {
    "collapsed": true
   },
   "outputs": [],
   "source": [
    "from sklearn.datasets import load_boston"
   ]
  },
  {
   "cell_type": "code",
   "execution_count": 219,
   "metadata": {},
   "outputs": [],
   "source": [
    "boston = load_boston()\n",
    "X = pd.DataFrame(boston.data)\n",
    "y = pd.DataFrame(boston.target)\n",
    "X.columns = boston.feature_names"
   ]
  },
  {
   "cell_type": "code",
   "execution_count": 234,
   "metadata": {
    "collapsed": true
   },
   "outputs": [],
   "source": [
    "XTrain, XTest, yTrain, yTest = train_test_split(X, y, test_size=0.2, random_state=1)"
   ]
  },
  {
   "cell_type": "code",
   "execution_count": 279,
   "metadata": {
    "scrolled": true
   },
   "outputs": [],
   "source": [
    "from sklearn.feature_selection import f_regression, SelectKBest\n",
    "from itertools import compress\n",
    "\n",
    "feature_length = list(range(1, len(X.columns)+1))\n",
    "\n",
    "skbMseList = []\n",
    "skbBestFeatures = []\n",
    "for features in feature_length:\n",
    "    # skb works by fit_transforming the X and y datasets using f_regression, then using those transformed datasets as\n",
    "    # input to the linear regression model\n",
    "    skb = SelectKBest(f_regression, k=features)\n",
    "    \n",
    "    XTrainTemp = skb.fit_transform(XTrain, yTrain.values.ravel())\n",
    "    XTestTemp = skb.transform(XTest)\n",
    "    \n",
    "    lm = LinearRegression(normalize = True)\n",
    "    lm.fit(XTrainTemp, yTrain)\n",
    "    \n",
    "    skbMseList.append(mean_squared_error(yTest, lm.predict(XTestTemp)))\n",
    "    # get_support returns a boolean list of the features used for the select K Best model\n",
    "    \n",
    "    skbBestFeatures.append(list(compress(list(boston.feature_names),skb.get_support())))"
   ]
  },
  {
   "cell_type": "code",
   "execution_count": 277,
   "metadata": {
    "collapsed": true
   },
   "outputs": [
    {
     "data": {
      "image/png": "[encoded data removed]",
      "text/plain": [
       "<matplotlib.figure.Figure at 0x120dcd0f0>"
      ]
     },
     "metadata": {},
     "output_type": "display_data"
    },
    {
     "name": "stdout",
     "output_type": "stream",
     "text": [
      "['LSTAT']\n",
      "['RM', 'LSTAT']\n",
      "['RM', 'PTRATIO', 'LSTAT']\n",
      "['INDUS', 'RM', 'PTRATIO', 'LSTAT']\n",
      "['INDUS', 'RM', 'TAX', 'PTRATIO', 'LSTAT']\n",
      "['INDUS', 'NOX', 'RM', 'TAX', 'PTRATIO', 'LSTAT']\n",
      "['INDUS', 'NOX', 'RM', 'AGE', 'TAX', 'PTRATIO', 'LSTAT']\n",
      "['INDUS', 'NOX', 'RM', 'AGE', 'RAD', 'TAX', 'PTRATIO', 'LSTAT']\n",
      "['CRIM', 'INDUS', 'NOX', 'RM', 'AGE', 'RAD', 'TAX', 'PTRATIO', 'LSTAT']\n",
      "['CRIM', 'ZN', 'INDUS', 'NOX', 'RM', 'AGE', 'RAD', 'TAX', 'PTRATIO', 'LSTAT']\n",
      "['CRIM', 'ZN', 'INDUS', 'NOX', 'RM', 'AGE', 'RAD', 'TAX', 'PTRATIO', 'B', 'LSTAT']\n",
      "['CRIM', 'ZN', 'INDUS', 'NOX', 'RM', 'AGE', 'DIS', 'RAD', 'TAX', 'PTRATIO', 'B', 'LSTAT']\n",
      "['CRIM', 'ZN', 'INDUS', 'CHAS', 'NOX', 'RM', 'AGE', 'DIS', 'RAD', 'TAX', 'PTRATIO', 'B', 'LSTAT']\n"
     ]
    }
   ],
   "source": [
    "plt.figure(figsize=(12,8))\n",
    "plt.plot(feature_length, skbMseList)\n",
    "plt.xlabel('Number of SKB features used')\n",
    "plt.ylabel('MSE')\n",
    "plt.title('MSE vs. Number of SKB Features')\n",
    "plt.show()\n",
    "for feats in skbBestFeatures:\n",
    "    print(str(feats))"
   ]
  },
  {
   "cell_type": "markdown",
   "metadata": {},
   "source": [
    "The lowest error is when you use all 13 features"
   ]
  },
  {
   "cell_type": "code",
   "execution_count": 273,
   "metadata": {},
   "outputs": [],
   "source": [
    "from sklearn.feature_selection import RFE\n",
    "\n",
    "feature_length = list(range(1, len(X.columns)+1))\n",
    "\n",
    "rfeMseList = []\n",
    "rfeBestFeatures = []\n",
    "for features in feature_length:\n",
    "    # skb works by fit_transforming the X and y datasets using f_regression, then using those transformed datasets as\n",
    "    # input to the linear regression model\n",
    "    lm = LinearRegression(normalize = True)\n",
    "    rfe = RFE(lm, features)\n",
    "    \n",
    "    XTrainTemp = rfe.fit_transform(XTrain, yTrain.values.ravel())\n",
    "    XTestTemp = rfe.transform(XTest)\n",
    "    \n",
    "    lm.fit(XTrainTemp, yTrain)\n",
    "    \n",
    "    rfeMseList.append(mean_squared_error(yTest, lm.predict(XTestTemp)))\n",
    "    # get_support returns a boolean list of the features used for the select K Best model\n",
    "    \n",
    "    rfeBestFeatures.append(list(compress(list(boston.feature_names),rfe.get_support())))"
   ]
  },
  {
   "cell_type": "code",
   "execution_count": 278,
   "metadata": {},
   "outputs": [
    {
     "data": {
      "image/png": "[encoded data removed]",
      "text/plain": [
       "<matplotlib.figure.Figure at 0x11a3b8f28>"
      ]
     },
     "metadata": {},
     "output_type": "display_data"
    },
    {
     "name": "stdout",
     "output_type": "stream",
     "text": [
      "['NOX']\n",
      "['NOX', 'RM']\n",
      "['CHAS', 'NOX', 'RM']\n",
      "['CHAS', 'NOX', 'RM', 'PTRATIO']\n",
      "['CHAS', 'NOX', 'RM', 'DIS', 'PTRATIO']\n",
      "['CHAS', 'NOX', 'RM', 'DIS', 'PTRATIO', 'LSTAT']\n",
      "['CHAS', 'NOX', 'RM', 'DIS', 'RAD', 'PTRATIO', 'LSTAT']\n",
      "['CRIM', 'CHAS', 'NOX', 'RM', 'DIS', 'RAD', 'PTRATIO', 'LSTAT']\n",
      "['CRIM', 'INDUS', 'CHAS', 'NOX', 'RM', 'DIS', 'RAD', 'PTRATIO', 'LSTAT']\n",
      "['CRIM', 'ZN', 'INDUS', 'CHAS', 'NOX', 'RM', 'DIS', 'RAD', 'PTRATIO', 'LSTAT']\n",
      "['CRIM', 'ZN', 'INDUS', 'CHAS', 'NOX', 'RM', 'DIS', 'RAD', 'TAX', 'PTRATIO', 'LSTAT']\n",
      "['CRIM', 'ZN', 'INDUS', 'CHAS', 'NOX', 'RM', 'DIS', 'RAD', 'TAX', 'PTRATIO', 'B', 'LSTAT']\n",
      "['CRIM', 'ZN', 'INDUS', 'CHAS', 'NOX', 'RM', 'AGE', 'DIS', 'RAD', 'TAX', 'PTRATIO', 'B', 'LSTAT']\n"
     ]
    }
   ],
   "source": [
    "plt.figure(figsize=(12,8))\n",
    "plt.plot(feature_length, rfeMseList)\n",
    "plt.xlabel('Number of RFE features used')\n",
    "plt.ylabel('MSE')\n",
    "plt.title('MSE vs. Number of RFE Features')\n",
    "plt.show()\n",
    "for feats in rfeBestFeatures:\n",
    "    print(str(feats))"
   ]
  },
  {
   "cell_type": "code",
   "execution_count": 284,
   "metadata": {},
   "outputs": [
    {
     "name": "stdout",
     "output_type": "stream",
     "text": [
      "25.3520865852\n",
      "['CHAS', 'NOX', 'RM', 'DIS', 'PTRATIO', 'LSTAT']\n"
     ]
    }
   ],
   "source": [
    "from sklearn.linear_model import Ridge\n",
    "from sklearn.feature_selection import SelectFromModel\n",
    "\n",
    "\n",
    "sfmMseList = []\n",
    "sfmBestFeatures = []\n",
    "sfm.fit(X, y)\n",
    "n_features = sfm.transform(X).shape[1]\n",
    "\n",
    "while n_features > 2:\n",
    "    sfm.threshold += 0.1\n",
    "    X_transform = sfm.transform(X)\n",
    "    n_features = X_transform.shape[1]\n",
    "    \n",
    "    \n",
    "for thresh in range(0.2,.99,0.1):\n",
    "    # skb works by fit_transforming the X and y datasets using f_regression, then using those transformed datasets as\n",
    "    # input to the linear regression model\n",
    "    rm = Ridge(normalize=True)\n",
    "    sfm = SelectFromModel(rm, threshold=thresh)\n",
    "\n",
    "    XTrainTemp = sfm.fit_transform(XTrain, yTrain.values.ravel())\n",
    "    XTestTemp = sfm.transform(XTest)\n",
    "\n",
    "    lm.fit(XTrainTemp, yTrain)\n",
    "\n",
    "    print(mean_squared_error(yTest, lm.predict(XTestTemp)))\n",
    "    # get_support returns a boolean list of the features used for the select K Best model\n",
    "\n",
    "    print(list(compress(list(boston.feature_names),sfm.get_support())))\n",
    "    \n",
    "\n",
    "# plt.figure(figsize=(12,8))\n",
    "# plt.plot(feature_length, sfmMseList)\n",
    "# plt.xlabel('Number of SFM features used')\n",
    "# plt.ylabel('MSE')\n",
    "# plt.title('MSE vs. Number of SFM Features')\n",
    "# plt.show()\n",
    "for feats in sfmBestFeatures:\n",
    "    print(str(feats))"
   ]
  },
  {
   "cell_type": "code",
   "execution_count": null,
   "metadata": {
    "collapsed": true
   },
   "outputs": [],
   "source": []
  }
 ],
 "metadata": {
  "anaconda-cloud": {},
  "kernelspec": {
   "display_name": "Python 3",
   "language": "python",
   "name": "python3"
  },
  "language_info": {
   "codemirror_mode": {
    "name": "ipython",
    "version": 3
   },
   "file_extension": ".py",
   "mimetype": "text/x-python",
   "name": "python",
   "nbconvert_exporter": "python",
   "pygments_lexer": "ipython3",
   "version": "3.6.1"
  }
 },
 "nbformat": 4,
 "nbformat_minor": 2
}
