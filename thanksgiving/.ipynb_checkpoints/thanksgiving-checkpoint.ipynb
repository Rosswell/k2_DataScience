{
 "cells": [
  {
   "cell_type": "markdown",
   "metadata": {},
   "source": [
    "## Data Analysis with pandas\n",
    "\n",
    "Each survey respondent was asked questions about what they typically eat for Thanksgiving, along with some demographic questions, like their gender, income, and location. This dataset will allow us to discover regional and income-based patterns in what Americans eat for Thanksgiving dinner.\n",
    "\n",
    "Using this Thanksgiving survey data, we can answer quite a few interesting questions, like:\n",
    "\n",
    "- Do people in Suburban areas eat more Tofurkey than people in Rural areas?\n",
    "- Where do people go to Black Friday sales most often?\n",
    "- Is there a correlation between praying on Thanksgiving and income?\n",
    "- What income groups are most likely to have homemade cranberry sauce?"
   ]
  },
  {
   "cell_type": "markdown",
   "metadata": {},
   "source": [
    "### Task 1 - Load Data\n",
    "\n",
    "- Read about the [data set](https://github.com/fivethirtyeight/data/tree/master/thanksgiving-2015)\n",
    "- Read in the data to pandas\n",
    "- Check the shape of the dataframe and examine the different columns\n",
    "- Check the summary statistics of the dataframe"
   ]
  },
  {
   "cell_type": "code",
   "execution_count": 102,
   "metadata": {
    "collapsed": true
   },
   "outputs": [],
   "source": [
    "% matplotlib inline\n",
    "import pandas as pd\n",
    "import numpy as np\n",
    "import matplotlib.pyplot as plt"
   ]
  },
  {
   "cell_type": "code",
   "execution_count": 103,
   "metadata": {
    "collapsed": false
   },
   "outputs": [],
   "source": [
    "tgiving = pd.read_csv(\"thanksgiving.csv\", encoding='Latin-1')"
   ]
  },
  {
   "cell_type": "code",
   "execution_count": 104,
   "metadata": {
    "collapsed": false
   },
   "outputs": [
    {
     "name": "stdout",
     "output_type": "stream",
     "text": [
      "(1058, 65)\n",
      "<class 'pandas.core.frame.DataFrame'>\n",
      "RangeIndex: 1058 entries, 0 to 1057\n",
      "Data columns (total 65 columns):\n",
      "RespondentID                                                                                                                                    1058 non-null int64\n",
      "Do you celebrate Thanksgiving?                                                                                                                  1058 non-null object\n",
      "What is typically the main dish at your Thanksgiving dinner?                                                                                    974 non-null object\n",
      "What is typically the main dish at your Thanksgiving dinner? - Other (please specify)                                                           35 non-null object\n",
      "How is the main dish typically cooked?                                                                                                          974 non-null object\n",
      "How is the main dish typically cooked? - Other (please specify)                                                                                 51 non-null object\n",
      "What kind of stuffing/dressing do you typically have?                                                                                           974 non-null object\n",
      "What kind of stuffing/dressing do you typically have? - Other (please specify)                                                                  36 non-null object\n",
      "What type of cranberry saucedo you typically have?                                                                                              974 non-null object\n",
      "What type of cranberry saucedo you typically have? - Other (please specify)                                                                     25 non-null object\n",
      "Do you typically have gravy?                                                                                                                    974 non-null object\n",
      "Which of these side dishes aretypically served at your Thanksgiving dinner? Please select all that apply. - Brussel sprouts                     155 non-null object\n",
      "Which of these side dishes aretypically served at your Thanksgiving dinner? Please select all that apply. - Carrots                             242 non-null object\n",
      "Which of these side dishes aretypically served at your Thanksgiving dinner? Please select all that apply. - Cauliflower                         88 non-null object\n",
      "Which of these side dishes aretypically served at your Thanksgiving dinner? Please select all that apply. - Corn                                464 non-null object\n",
      "Which of these side dishes aretypically served at your Thanksgiving dinner? Please select all that apply. - Cornbread                           235 non-null object\n",
      "Which of these side dishes aretypically served at your Thanksgiving dinner? Please select all that apply. - Fruit salad                         215 non-null object\n",
      "Which of these side dishes aretypically served at your Thanksgiving dinner? Please select all that apply. - Green beans/green bean casserole    686 non-null object\n",
      "Which of these side dishes aretypically served at your Thanksgiving dinner? Please select all that apply. - Macaroni and cheese                 206 non-null object\n",
      "Which of these side dishes aretypically served at your Thanksgiving dinner? Please select all that apply. - Mashed potatoes                     817 non-null object\n",
      "Which of these side dishes aretypically served at your Thanksgiving dinner? Please select all that apply. - Rolls/biscuits                      766 non-null object\n",
      "Which of these side dishes aretypically served at your Thanksgiving dinner? Please select all that apply. - Squash                              171 non-null object\n",
      "Which of these side dishes aretypically served at your Thanksgiving dinner? Please select all that apply. - Vegetable salad                     209 non-null object\n",
      "Which of these side dishes aretypically served at your Thanksgiving dinner? Please select all that apply. - Yams/sweet potato casserole         631 non-null object\n",
      "Which of these side dishes aretypically served at your Thanksgiving dinner? Please select all that apply. - Other (please specify)              111 non-null object\n",
      "Which of these side dishes aretypically served at your Thanksgiving dinner? Please select all that apply. - Other (please specify).1            111 non-null object\n",
      "Which type of pie is typically served at your Thanksgiving dinner? Please select all that apply. - Apple                                        514 non-null object\n",
      "Which type of pie is typically served at your Thanksgiving dinner? Please select all that apply. - Buttermilk                                   35 non-null object\n",
      "Which type of pie is typically served at your Thanksgiving dinner? Please select all that apply. - Cherry                                       113 non-null object\n",
      "Which type of pie is typically served at your Thanksgiving dinner? Please select all that apply. - Chocolate                                    133 non-null object\n",
      "Which type of pie is typically served at your Thanksgiving dinner? Please select all that apply. - Coconut cream                                36 non-null object\n",
      "Which type of pie is typically served at your Thanksgiving dinner? Please select all that apply. - Key lime                                     39 non-null object\n",
      "Which type of pie is typically served at your Thanksgiving dinner? Please select all that apply. - Peach                                        34 non-null object\n",
      "Which type of pie is typically served at your Thanksgiving dinner? Please select all that apply. - Pecan                                        342 non-null object\n",
      "Which type of pie is typically served at your Thanksgiving dinner? Please select all that apply. - Pumpkin                                      729 non-null object\n",
      "Which type of pie is typically served at your Thanksgiving dinner? Please select all that apply. - Sweet Potato                                 152 non-null object\n",
      "Which type of pie is typically served at your Thanksgiving dinner? Please select all that apply. - None                                         40 non-null object\n",
      "Which type of pie is typically served at your Thanksgiving dinner? Please select all that apply. - Other (please specify)                       71 non-null object\n",
      "Which type of pie is typically served at your Thanksgiving dinner? Please select all that apply. - Other (please specify).1                     71 non-null object\n",
      "Which of these desserts do you typically have at Thanksgiving dinner? Please select all that apply.   - Apple cobbler                           110 non-null object\n",
      "Which of these desserts do you typically have at Thanksgiving dinner? Please select all that apply.   - Blondies                                16 non-null object\n",
      "Which of these desserts do you typically have at Thanksgiving dinner? Please select all that apply.   - Brownies                                128 non-null object\n",
      "Which of these desserts do you typically have at Thanksgiving dinner? Please select all that apply.   - Carrot cake                             72 non-null object\n",
      "Which of these desserts do you typically have at Thanksgiving dinner? Please select all that apply.   - Cheesecake                              191 non-null object\n",
      "Which of these desserts do you typically have at Thanksgiving dinner? Please select all that apply.   - Cookies                                 204 non-null object\n",
      "Which of these desserts do you typically have at Thanksgiving dinner? Please select all that apply.   - Fudge                                   43 non-null object\n",
      "Which of these desserts do you typically have at Thanksgiving dinner? Please select all that apply.   - Ice cream                               266 non-null object\n",
      "Which of these desserts do you typically have at Thanksgiving dinner? Please select all that apply.   - Peach cobbler                           103 non-null object\n",
      "Which of these desserts do you typically have at Thanksgiving dinner? Please select all that apply.   - None                                    295 non-null object\n",
      "Which of these desserts do you typically have at Thanksgiving dinner? Please select all that apply.   - Other (please specify)                  134 non-null object\n",
      "Which of these desserts do you typically have at Thanksgiving dinner? Please select all that apply.   - Other (please specify).1                134 non-null object\n",
      "Do you typically pray before or after the Thanksgiving meal?                                                                                    959 non-null object\n",
      "How far will you travel for Thanksgiving?                                                                                                       951 non-null object\n",
      "Will you watch any of the following programs on Thanksgiving? Please select all that apply. - Macy's Parade                                     502 non-null object\n",
      "What's the age cutoff at your \"kids' table\" at Thanksgiving?                                                                                    951 non-null object\n",
      "Have you ever tried to meet up with hometown friends on Thanksgiving night?                                                                     951 non-null object\n",
      "Have you ever attended a \"Friendsgiving?\"                                                                                                       951 non-null object\n",
      "Will you shop any Black Friday sales on Thanksgiving Day?                                                                                       951 non-null object\n",
      "Do you work in retail?                                                                                                                          951 non-null object\n",
      "Will you employer make you work on Black Friday?                                                                                                70 non-null object\n",
      "How would you describe where you live?                                                                                                          948 non-null object\n",
      "Age                                                                                                                                             1025 non-null object\n",
      "What is your gender?                                                                                                                            1025 non-null object\n",
      "How much total combined money did all members of your HOUSEHOLD earn last year?                                                                 1025 non-null object\n",
      "US Region                                                                                                                                       999 non-null object\n",
      "dtypes: int64(1), object(64)\n",
      "memory usage: 537.3+ KB\n"
     ]
    }
   ],
   "source": [
    "print(tgiving.shape)\n",
    "tgiving.info()"
   ]
  },
  {
   "cell_type": "markdown",
   "metadata": {},
   "source": [
    "### Task 2 - Initial Data Analysis\n",
    "\n",
    "- Create a new dataframe that only includes people that celebrate Thanksgiving\n",
    "- Find out what the most popular main dish is.\n",
    "- Do people who eat Tofurkey also have gravy as a side dish (calculate proportions)?\n",
    "- What is the most popular pie?\n",
    "- How many pies are eaten other than Apple, Pecan and Pumpkin?\n",
    "- Look at the age distribution.\n",
    "- Write a function that approximates each respondent's age given the ranges and apply it to all cells (remember type conversion).\n",
    "- Examine the summary statistics of the age column now.\n",
    "- Look at the income distribution.\n",
    "- Write a function that approximates each respondent's income given the ranges and apply it to all cells (remember type conversion).\n",
    "- Examine the summary statistics of the income column now.\n",
    "- Look at the distance traveled for lower income (< 50,000) vs. higher income (>150,000) respondents.\n",
    "- Use the pivot_table function to examine what ages and incomes are more likely to \"attend a Friendsgiving\" or \"meetup with hometown friends.\n"
   ]
  },
  {
   "cell_type": "code",
   "execution_count": 105,
   "metadata": {
    "collapsed": false
   },
   "outputs": [
    {
     "name": "stdout",
     "output_type": "stream",
     "text": [
      "<class 'pandas.core.frame.DataFrame'>\n",
      "Int64Index: 980 entries, 0 to 1057\n",
      "Data columns (total 65 columns):\n",
      "RespondentID                                                                                                                                    980 non-null int64\n",
      "Do you celebrate Thanksgiving?                                                                                                                  980 non-null object\n",
      "What is typically the main dish at your Thanksgiving dinner?                                                                                    974 non-null object\n",
      "What is typically the main dish at your Thanksgiving dinner? - Other (please specify)                                                           35 non-null object\n",
      "How is the main dish typically cooked?                                                                                                          974 non-null object\n",
      "How is the main dish typically cooked? - Other (please specify)                                                                                 51 non-null object\n",
      "What kind of stuffing/dressing do you typically have?                                                                                           974 non-null object\n",
      "What kind of stuffing/dressing do you typically have? - Other (please specify)                                                                  36 non-null object\n",
      "What type of cranberry saucedo you typically have?                                                                                              974 non-null object\n",
      "What type of cranberry saucedo you typically have? - Other (please specify)                                                                     25 non-null object\n",
      "Do you typically have gravy?                                                                                                                    974 non-null object\n",
      "Which of these side dishes aretypically served at your Thanksgiving dinner? Please select all that apply. - Brussel sprouts                     155 non-null object\n",
      "Which of these side dishes aretypically served at your Thanksgiving dinner? Please select all that apply. - Carrots                             242 non-null object\n",
      "Which of these side dishes aretypically served at your Thanksgiving dinner? Please select all that apply. - Cauliflower                         88 non-null object\n",
      "Which of these side dishes aretypically served at your Thanksgiving dinner? Please select all that apply. - Corn                                464 non-null object\n",
      "Which of these side dishes aretypically served at your Thanksgiving dinner? Please select all that apply. - Cornbread                           235 non-null object\n",
      "Which of these side dishes aretypically served at your Thanksgiving dinner? Please select all that apply. - Fruit salad                         215 non-null object\n",
      "Which of these side dishes aretypically served at your Thanksgiving dinner? Please select all that apply. - Green beans/green bean casserole    686 non-null object\n",
      "Which of these side dishes aretypically served at your Thanksgiving dinner? Please select all that apply. - Macaroni and cheese                 206 non-null object\n",
      "Which of these side dishes aretypically served at your Thanksgiving dinner? Please select all that apply. - Mashed potatoes                     817 non-null object\n",
      "Which of these side dishes aretypically served at your Thanksgiving dinner? Please select all that apply. - Rolls/biscuits                      766 non-null object\n",
      "Which of these side dishes aretypically served at your Thanksgiving dinner? Please select all that apply. - Squash                              171 non-null object\n",
      "Which of these side dishes aretypically served at your Thanksgiving dinner? Please select all that apply. - Vegetable salad                     209 non-null object\n",
      "Which of these side dishes aretypically served at your Thanksgiving dinner? Please select all that apply. - Yams/sweet potato casserole         631 non-null object\n",
      "Which of these side dishes aretypically served at your Thanksgiving dinner? Please select all that apply. - Other (please specify)              111 non-null object\n",
      "Which of these side dishes aretypically served at your Thanksgiving dinner? Please select all that apply. - Other (please specify).1            111 non-null object\n",
      "Which type of pie is typically served at your Thanksgiving dinner? Please select all that apply. - Apple                                        514 non-null object\n",
      "Which type of pie is typically served at your Thanksgiving dinner? Please select all that apply. - Buttermilk                                   35 non-null object\n",
      "Which type of pie is typically served at your Thanksgiving dinner? Please select all that apply. - Cherry                                       113 non-null object\n",
      "Which type of pie is typically served at your Thanksgiving dinner? Please select all that apply. - Chocolate                                    133 non-null object\n",
      "Which type of pie is typically served at your Thanksgiving dinner? Please select all that apply. - Coconut cream                                36 non-null object\n",
      "Which type of pie is typically served at your Thanksgiving dinner? Please select all that apply. - Key lime                                     39 non-null object\n",
      "Which type of pie is typically served at your Thanksgiving dinner? Please select all that apply. - Peach                                        34 non-null object\n",
      "Which type of pie is typically served at your Thanksgiving dinner? Please select all that apply. - Pecan                                        342 non-null object\n",
      "Which type of pie is typically served at your Thanksgiving dinner? Please select all that apply. - Pumpkin                                      729 non-null object\n",
      "Which type of pie is typically served at your Thanksgiving dinner? Please select all that apply. - Sweet Potato                                 152 non-null object\n",
      "Which type of pie is typically served at your Thanksgiving dinner? Please select all that apply. - None                                         40 non-null object\n",
      "Which type of pie is typically served at your Thanksgiving dinner? Please select all that apply. - Other (please specify)                       71 non-null object\n",
      "Which type of pie is typically served at your Thanksgiving dinner? Please select all that apply. - Other (please specify).1                     71 non-null object\n",
      "Which of these desserts do you typically have at Thanksgiving dinner? Please select all that apply.   - Apple cobbler                           110 non-null object\n",
      "Which of these desserts do you typically have at Thanksgiving dinner? Please select all that apply.   - Blondies                                16 non-null object\n",
      "Which of these desserts do you typically have at Thanksgiving dinner? Please select all that apply.   - Brownies                                128 non-null object\n",
      "Which of these desserts do you typically have at Thanksgiving dinner? Please select all that apply.   - Carrot cake                             72 non-null object\n",
      "Which of these desserts do you typically have at Thanksgiving dinner? Please select all that apply.   - Cheesecake                              191 non-null object\n",
      "Which of these desserts do you typically have at Thanksgiving dinner? Please select all that apply.   - Cookies                                 204 non-null object\n",
      "Which of these desserts do you typically have at Thanksgiving dinner? Please select all that apply.   - Fudge                                   43 non-null object\n",
      "Which of these desserts do you typically have at Thanksgiving dinner? Please select all that apply.   - Ice cream                               266 non-null object\n",
      "Which of these desserts do you typically have at Thanksgiving dinner? Please select all that apply.   - Peach cobbler                           103 non-null object\n",
      "Which of these desserts do you typically have at Thanksgiving dinner? Please select all that apply.   - None                                    295 non-null object\n",
      "Which of these desserts do you typically have at Thanksgiving dinner? Please select all that apply.   - Other (please specify)                  134 non-null object\n",
      "Which of these desserts do you typically have at Thanksgiving dinner? Please select all that apply.   - Other (please specify).1                134 non-null object\n",
      "Do you typically pray before or after the Thanksgiving meal?                                                                                    959 non-null object\n",
      "How far will you travel for Thanksgiving?                                                                                                       951 non-null object\n",
      "Will you watch any of the following programs on Thanksgiving? Please select all that apply. - Macy's Parade                                     502 non-null object\n",
      "What's the age cutoff at your \"kids' table\" at Thanksgiving?                                                                                    951 non-null object\n",
      "Have you ever tried to meet up with hometown friends on Thanksgiving night?                                                                     951 non-null object\n",
      "Have you ever attended a \"Friendsgiving?\"                                                                                                       951 non-null object\n",
      "Will you shop any Black Friday sales on Thanksgiving Day?                                                                                       951 non-null object\n",
      "Do you work in retail?                                                                                                                          951 non-null object\n",
      "Will you employer make you work on Black Friday?                                                                                                70 non-null object\n",
      "How would you describe where you live?                                                                                                          948 non-null object\n",
      "Age                                                                                                                                             947 non-null object\n",
      "What is your gender?                                                                                                                            947 non-null object\n",
      "How much total combined money did all members of your HOUSEHOLD earn last year?                                                                 947 non-null object\n",
      "US Region                                                                                                                                       931 non-null object\n",
      "dtypes: int64(1), object(64)\n",
      "memory usage: 505.3+ KB\n"
     ]
    }
   ],
   "source": [
    "americans = tgiving[tgiving[\"Do you celebrate Thanksgiving?\"] == 'Yes']\n",
    "americans.info()"
   ]
  },
  {
   "cell_type": "code",
   "execution_count": 106,
   "metadata": {
    "collapsed": false
   },
   "outputs": [
    {
     "data": {
      "text/plain": [
       "'Turkey'"
      ]
     },
     "execution_count": 106,
     "metadata": {},
     "output_type": "execute_result"
    }
   ],
   "source": [
    "# gets the max occurring value from the column\n",
    "americans['What is typically the main dish at your Thanksgiving dinner?'].value_counts().idxmax()"
   ]
  },
  {
   "cell_type": "code",
   "execution_count": 107,
   "metadata": {
    "collapsed": false,
    "scrolled": true
   },
   "outputs": [
    {
     "name": "stdout",
     "output_type": "stream",
     "text": [
      "60.0% of tofurkey eaters like to have gravy\n"
     ]
    }
   ],
   "source": [
    "# filter americans by eaters of tofurkey\n",
    "tofurkey = americans[americans['What is typically the main dish at your Thanksgiving dinner?'] == 'Tofurkey']\n",
    "\n",
    "# makes 2 more dataframes that are the number of entries where people answered yes/no to having gravy\n",
    "no_grav = len(tofurkey[tofurkey['Do you typically have gravy?'] == 'No'])\n",
    "yes_grav = len(tofurkey[tofurkey['Do you typically have gravy?'] == 'Yes'])\n",
    "\n",
    "# calculates the percentage of people that like gravy and tofurkey\n",
    "print(\"{}% of tofurkey eaters like to have gravy\".format(yes_grav/(yes_grav + no_grav) * 100))"
   ]
  },
  {
   "cell_type": "code",
   "execution_count": 108,
   "metadata": {
    "collapsed": false
   },
   "outputs": [
    {
     "data": {
      "text/plain": [
       "'Pumpkin'"
      ]
     },
     "execution_count": 108,
     "metadata": {},
     "output_type": "execute_result"
    }
   ],
   "source": [
    "# creates a new dataframe of pie data so I can avoid having to type out all those names\n",
    "all_pies = pd.DataFrame(americans.iloc[:,27:40])\n",
    "pie_count = {}\n",
    "# creates a dictionary that has the column names as keys and the non-null length of the serises as the values\n",
    "for column in all_pies:\n",
    "    pie_count[column] = len(all_pies[column].dropna())\n",
    "\n",
    "# returns the pie flavor portion of the key that contains the largest non-null column\n",
    "max(pie_count.keys(), key=(lambda key: pie_count[key]))[99:]"
   ]
  },
  {
   "cell_type": "code",
   "execution_count": 109,
   "metadata": {
    "collapsed": false
   },
   "outputs": [
    {
     "name": "stdout",
     "output_type": "stream",
     "text": [
      "724\n"
     ]
    }
   ],
   "source": [
    "# bad_pie_count is the number of pies that people eat that aren't apple, pecan, and pumpkin\n",
    "bad_pie_count = 0\n",
    "column_import = []\n",
    "for column in all_pies:\n",
    "    if 'Apple' not in column and 'Pecan' not in column and 'Pumpkin' not in column:\n",
    "        bad_pie_count += len(all_pies[column].dropna())\n",
    "print(bad_pie_count)\n"
   ]
  },
  {
   "cell_type": "code",
   "execution_count": 110,
   "metadata": {
    "collapsed": false
   },
   "outputs": [
    {
     "data": {
      "text/plain": [
       "<matplotlib.axes._subplots.AxesSubplot at 0x120498e80>"
      ]
     },
     "execution_count": 110,
     "metadata": {},
     "output_type": "execute_result"
    },
    {
     "data": {
      "image/png": "[encoded data removed]",
      "text/plain": [
       "<matplotlib.figure.Figure at 0x120498278>"
      ]
     },
     "metadata": {},
     "output_type": "display_data"
    }
   ],
   "source": [
    "age = americans.groupby(\"Age\")[\"Age\"].count()\n",
    "age.plot(kind='bar')"
   ]
  },
  {
   "cell_type": "code",
   "execution_count": 111,
   "metadata": {
    "collapsed": false
   },
   "outputs": [
    {
     "name": "stderr",
     "output_type": "stream",
     "text": [
      "/Users/ross.blanchard/anaconda/lib/python3.6/site-packages/ipykernel/__main__.py:9: SettingWithCopyWarning: \n",
      "A value is trying to be set on a copy of a slice from a DataFrame.\n",
      "Try using .loc[row_indexer,col_indexer] = value instead\n",
      "\n",
      "See the caveats in the documentation: http://pandas.pydata.org/pandas-docs/stable/indexing.html#indexing-view-versus-copy\n"
     ]
    },
    {
     "data": {
      "text/plain": [
       "0    23.5\n",
       "1    23.5\n",
       "2    23.5\n",
       "3    37.0\n",
       "4    37.0\n",
       "Name: Age, dtype: float64"
      ]
     },
     "execution_count": 111,
     "metadata": {},
     "output_type": "execute_result"
    }
   ],
   "source": [
    "# creating a list to later create a list of ints that corresponds to the current string range\n",
    "mean_dict = {'18 - 29':np.mean([18,29]), '30 - 44':np.mean([30,44]), '45 - 59':np.mean([45,59]), '60+':np.mean([60,85])}\n",
    "new_age = []\n",
    "\n",
    "# uses the dictionary above to create a list of corresponding mean ints\n",
    "for value in americans['Age'].values:\n",
    "    if isinstance(value, str):\n",
    "        new_age.append(mean_dict[value])\n",
    "    else:\n",
    "        new_age.append(value)\n",
    "        \n",
    "# reassigns the age column to the newly created list\n",
    "new_americans = americans\n",
    "new_americans['Age'] = pd.Series(new_age)\n",
    "new_americans['Age'].head()"
   ]
  },
  {
   "cell_type": "markdown",
   "metadata": {},
   "source": [
    "Examine the summary statistics of the age column now."
   ]
  },
  {
   "cell_type": "code",
   "execution_count": 112,
   "metadata": {
    "collapsed": false
   },
   "outputs": [
    {
     "data": {
      "text/plain": [
       "count    878.000000\n",
       "mean      48.336560\n",
       "std       17.805128\n",
       "min       23.500000\n",
       "25%       37.000000\n",
       "50%       52.000000\n",
       "75%       72.500000\n",
       "max       72.500000\n",
       "Name: Age, dtype: float64"
      ]
     },
     "execution_count": 112,
     "metadata": {},
     "output_type": "execute_result"
    }
   ],
   "source": [
    "new_americans['Age'].describe()"
   ]
  },
  {
   "cell_type": "markdown",
   "metadata": {},
   "source": [
    "Look at the income distribution."
   ]
  },
  {
   "cell_type": "code",
   "execution_count": 113,
   "metadata": {
    "collapsed": false
   },
   "outputs": [
    {
     "data": {
      "text/plain": [
       "<matplotlib.axes._subplots.AxesSubplot at 0x12047e8d0>"
      ]
     },
     "execution_count": 113,
     "metadata": {},
     "output_type": "execute_result"
    },
    {
     "data": {
      "image/png": "[encoded data removed]",
      "text/plain": [
       "<matplotlib.figure.Figure at 0x1207155c0>"
      ]
     },
     "metadata": {},
     "output_type": "display_data"
    }
   ],
   "source": [
    "# reassigned the long column title to avoid a very long line for plotting\n",
    "income = 'How much total combined money did all members of your HOUSEHOLD earn last year?'\n",
    "new_americans.groupby(income)[income].count().plot(kind='bar')"
   ]
  },
  {
   "cell_type": "markdown",
   "metadata": {},
   "source": [
    "Write a function that approximates each respondent's income given the ranges and apply it to all cells (remember type conversion)."
   ]
  },
  {
   "cell_type": "code",
   "execution_count": 114,
   "metadata": {
    "collapsed": false
   },
   "outputs": [
    {
     "name": "stderr",
     "output_type": "stream",
     "text": [
      "/Users/ross.blanchard/anaconda/lib/python3.6/site-packages/pandas/core/generic.py:3554: SettingWithCopyWarning: \n",
      "A value is trying to be set on a copy of a slice from a DataFrame\n",
      "\n",
      "See the caveats in the documentation: http://pandas.pydata.org/pandas-docs/stable/indexing.html#indexing-view-versus-copy\n",
      "  self._update_inplace(new_data)\n"
     ]
    },
    {
     "data": {
      "text/plain": [
       "0     87499.5\n",
       "1     62499.5\n",
       "2      4999.5\n",
       "3    300000.0\n",
       "4    112499.5\n",
       "Name: How much total combined money did all members of your HOUSEHOLD earn last year?, dtype: float64"
      ]
     },
     "execution_count": 114,
     "metadata": {},
     "output_type": "execute_result"
    }
   ],
   "source": [
    "# after watching the video, I realize there is an easier way of doing this, but I'll leave this here to better display\n",
    "# my thought processes. Also I get this SettingWithCopyWarning regardless of weather I'm using .loc/.iloc or not, so I've just been ignoring it\n",
    "def income_replacement(dataset, income_column):\n",
    "    dataset.loc[:,income_column].replace('$0 to $9,999', np.mean([0,9999]), inplace=True)\n",
    "    dataset.loc[:,income_column].replace('$10,000 to $24,999', np.mean([10000,24999]), inplace=True)\n",
    "    dataset.loc[:,income_column].replace('$100,000 to $124,999', np.mean([100000,124999]), inplace=True)\n",
    "    dataset.loc[:,income_column].replace('$125,000 to $149,999', np.mean([125000,149999]), inplace=True)\n",
    "    dataset.loc[:,income_column].replace('$150,000 to $174,999', np.mean([150000,174999]), inplace=True)\n",
    "    dataset.loc[:,income_column].replace('$175,000 to $199,999', np.mean([175000,199999]), inplace=True)\n",
    "    dataset.loc[:,income_column].replace('$200,000 and up', np.mean([200000,400000]), inplace=True)\n",
    "    dataset.loc[:,income_column].replace('$25,000 to $49,999', np.mean([25000,49999]), inplace=True)\n",
    "    dataset.loc[:,income_column].replace('$50,000 to $74,999', np.mean([50000,74999]), inplace=True)\n",
    "    dataset.loc[:,income_column].replace('$75,000 to $99,999', np.mean([75000,99999]), inplace=True)\n",
    "    dataset.loc[:,income_column].replace('Prefer not to answer', np.nan, inplace=True)\n",
    "\n",
    "income_replacement(new_americans, income)\n",
    "\n",
    "new_americans[income].head()"
   ]
  },
  {
   "cell_type": "markdown",
   "metadata": {},
   "source": [
    "Examine the summary statistics of the income column now."
   ]
  },
  {
   "cell_type": "code",
   "execution_count": 115,
   "metadata": {
    "collapsed": false
   },
   "outputs": [
    {
     "data": {
      "text/plain": [
       "count       829.000000\n",
       "mean      95653.948733\n",
       "std       79102.313789\n",
       "min        4999.500000\n",
       "25%       37499.500000\n",
       "50%       87499.500000\n",
       "75%      112499.500000\n",
       "max      300000.000000\n",
       "Name: How much total combined money did all members of your HOUSEHOLD earn last year?, dtype: float64"
      ]
     },
     "execution_count": 115,
     "metadata": {},
     "output_type": "execute_result"
    }
   ],
   "source": [
    "new_americans[income].describe()"
   ]
  },
  {
   "cell_type": "markdown",
   "metadata": {},
   "source": [
    "Look at the distance traveled for lower income (< 50,000) vs. higher income (>150,000) respondents."
   ]
  },
  {
   "cell_type": "code",
   "execution_count": 116,
   "metadata": {
    "collapsed": false
   },
   "outputs": [
    {
     "data": {
      "text/plain": [
       "<matplotlib.axes._subplots.AxesSubplot at 0x120ac7710>"
      ]
     },
     "execution_count": 116,
     "metadata": {},
     "output_type": "execute_result"
    },
    {
     "data": {
      "image/png": "[encoded data removed]",
      "text/plain": [
       "<matplotlib.figure.Figure at 0x12067e400>"
      ]
     },
     "metadata": {},
     "output_type": "display_data"
    }
   ],
   "source": [
    "distance = \"How far will you travel for Thanksgiving?\"\n",
    "\n",
    "# create new series of distance values where income is less than 50k and more than 150k, respectively\n",
    "poor_burgers = new_americans[distance][new_americans[income] < 50000].value_counts()\n",
    "rich_burgers = new_americans[distance][new_americans[income] > 150000].value_counts()\n",
    "\n",
    "# create a new dataframe from the new series to be able to graph the result easier\n",
    "distance_traveled = pd.DataFrame({'poor_burgers':poor_burgers, 'rich_burgers':rich_burgers})\n",
    "\n",
    "#bar plot seems the best for visualization\n",
    "distance_traveled.plot(kind='bar')"
   ]
  },
  {
   "cell_type": "markdown",
   "metadata": {},
   "source": [
    "Use the pivot_table function to examine what ages and incomes are more likely to \"attend a Friendsgiving\" or \"meetup with hometown friends."
   ]
  },
  {
   "cell_type": "code",
   "execution_count": 153,
   "metadata": {
    "collapsed": false,
    "scrolled": false
   },
   "outputs": [
    {
     "data": {
      "text/html": [
       "<div>\n",
       "<table border=\"1\" class=\"dataframe\">\n",
       "  <thead>\n",
       "    <tr style=\"text-align: right;\">\n",
       "      <th></th>\n",
       "      <th>Age</th>\n",
       "      <th>How much total combined money did all members of your HOUSEHOLD earn last year?</th>\n",
       "    </tr>\n",
       "    <tr>\n",
       "      <th>Have you ever tried to meet up with hometown friends on Thanksgiving night?</th>\n",
       "      <th></th>\n",
       "      <th></th>\n",
       "    </tr>\n",
       "  </thead>\n",
       "  <tbody>\n",
       "    <tr>\n",
       "      <th>Yes</th>\n",
       "      <td>48.942724</td>\n",
       "      <td>91077.664062</td>\n",
       "    </tr>\n",
       "  </tbody>\n",
       "</table>\n",
       "</div>"
      ],
      "text/plain": [
       "                                                          Age  \\\n",
       "Have you ever tried to meet up with hometown fr...              \n",
       "Yes                                                 48.942724   \n",
       "\n",
       "                                                    How much total combined money did all members of your HOUSEHOLD earn last year?  \n",
       "Have you ever tried to meet up with hometown fr...                                                                                   \n",
       "Yes                                                                                      91077.664062                                "
      ]
     },
     "execution_count": 153,
     "metadata": {},
     "output_type": "execute_result"
    }
   ],
   "source": [
    "# column declaration for legibility\n",
    "hometown = \"Have you ever tried to meet up with hometown friends on Thanksgiving night?\"\n",
    "fgiving = \"Have you ever attended a \\\"Friendsgiving?\\\"\"\n",
    "\n",
    "# using the hometown column as an index, and the age and income columns as values for the new pivot table\n",
    "home_pivot = pd.pivot_table(new_americans, values=['Age', income], index=hometown)\n",
    "\n",
    "# filtering the pivot table by attendees\n",
    "home_pivot[home_pivot.index == 'Yes']"
   ]
  },
  {
   "cell_type": "code",
   "execution_count": 154,
   "metadata": {
    "collapsed": false
   },
   "outputs": [
    {
     "data": {
      "text/html": [
       "<div>\n",
       "<table border=\"1\" class=\"dataframe\">\n",
       "  <thead>\n",
       "    <tr style=\"text-align: right;\">\n",
       "      <th></th>\n",
       "      <th>Age</th>\n",
       "      <th>How much total combined money did all members of your HOUSEHOLD earn last year?</th>\n",
       "    </tr>\n",
       "    <tr>\n",
       "      <th>Have you ever attended a \"Friendsgiving?\"</th>\n",
       "      <th></th>\n",
       "      <th></th>\n",
       "    </tr>\n",
       "  </thead>\n",
       "  <tbody>\n",
       "    <tr>\n",
       "      <th>Yes</th>\n",
       "      <td>46.935417</td>\n",
       "      <td>86041.203947</td>\n",
       "    </tr>\n",
       "  </tbody>\n",
       "</table>\n",
       "</div>"
      ],
      "text/plain": [
       "                                                 Age  \\\n",
       "Have you ever attended a \"Friendsgiving?\"              \n",
       "Yes                                        46.935417   \n",
       "\n",
       "                                           How much total combined money did all members of your HOUSEHOLD earn last year?  \n",
       "Have you ever attended a \"Friendsgiving?\"                                                                                   \n",
       "Yes                                                                             86041.203947                                "
      ]
     },
     "execution_count": 154,
     "metadata": {},
     "output_type": "execute_result"
    }
   ],
   "source": [
    "# using the friendsgiving column as an index, and the age and income columns as values for the new pivot table\n",
    "fgiving_pivot = pd.pivot_table(new_americans, values=['Age', income], index=fgiving)\n",
    "\n",
    "#filtering the pivot table by attendees\n",
    "fgiving_pivot[fgiving_pivot.index == 'Yes']"
   ]
  },
  {
   "cell_type": "markdown",
   "metadata": {},
   "source": [
    "### Task 3 - Visualization\n",
    "\n",
    "matplotlib\n",
    "- Use groupby to examine the breakdown of income by type of cranberry sauce\n",
    "- Use agg to compute the mean and plot the results in a bar chart\n",
    "- Use agg to find the average income of people who eat \"Homemade\" cranberry sauce and \"Tofurkey\"\n",
    "- Choose an appropriate plot or chart to visualize the results"
   ]
  },
  {
   "cell_type": "code",
   "execution_count": 74,
   "metadata": {
    "collapsed": false
   },
   "outputs": [
    {
     "data": {
      "text/plain": [
       "<matplotlib.axes._subplots.AxesSubplot at 0x11dc0bf60>"
      ]
     },
     "execution_count": 74,
     "metadata": {},
     "output_type": "execute_result"
    },
    {
     "data": {
      "image/png": "[encoded data removed]",
      "text/plain": [
       "<matplotlib.figure.Figure at 0x11dcca978>"
      ]
     },
     "metadata": {},
     "output_type": "display_data"
    }
   ],
   "source": [
    "cranberry = \"What type of cranberry saucedo you typically have?\"\n",
    "\n",
    "# defining the new cranberry groupby object using the mean of the income column for values\n",
    "cranberry_inc = new_americans.groupby(cranberry)[income].mean()\n",
    "plt.ylabel(\"Income\")\n",
    "cranberry_inc.plot(kind='bar')"
   ]
  },
  {
   "cell_type": "markdown",
   "metadata": {},
   "source": [
    "Use agg to find the average income of people who eat \"Homemade\" cranberry sauce and \"Tofurkey\""
   ]
  },
  {
   "cell_type": "code",
   "execution_count": 79,
   "metadata": {
    "collapsed": false
   },
   "outputs": [
    {
     "data": {
      "text/plain": [
       "57916.166666666664"
      ]
     },
     "execution_count": 79,
     "metadata": {},
     "output_type": "execute_result"
    }
   ],
   "source": [
    "tof = \"What is typically the main dish at your Thanksgiving dinner?\"\n",
    "\n",
    "# I'm not entirely sure how to make two filters work in one line, couldn't do it with and or &, so did it in two lines\n",
    "homemade = new_americans[new_americans[cranberry] == 'Homemade']\n",
    "homemade_tof = homemade[homemade[tof] == \"Tofurkey\"]\n",
    "homemade_tof[income].mean()\n"
   ]
  },
  {
   "cell_type": "markdown",
   "metadata": {},
   "source": [
    "Choose an appropriate plot or chart to visualize the results"
   ]
  },
  {
   "cell_type": "code",
   "execution_count": 86,
   "metadata": {
    "collapsed": false
   },
   "outputs": [
    {
     "data": {
      "text/plain": [
       "<matplotlib.axes._subplots.AxesSubplot at 0x1203e27f0>"
      ]
     },
     "execution_count": 86,
     "metadata": {},
     "output_type": "execute_result"
    },
    {
     "data": {
      "image/png": "[encoded data removed]",
      "text/plain": [
       "<matplotlib.figure.Figure at 0x120493208>"
      ]
     },
     "metadata": {},
     "output_type": "display_data"
    }
   ],
   "source": [
    "plt.title(\"Income Distribution of people that eat homemade cranberry sauce\")\n",
    "plt.ylabel(\"Income\")\n",
    "homemade_tof[income].plot(kind='box')"
   ]
  },
  {
   "cell_type": "code",
   "execution_count": null,
   "metadata": {
    "collapsed": true
   },
   "outputs": [],
   "source": []
  }
 ],
 "metadata": {
  "anaconda-cloud": {},
  "kernelspec": {
   "display_name": "Python 3",
   "language": "python",
   "name": "python3"
  },
  "language_info": {
   "codemirror_mode": {
    "name": "ipython",
    "version": 3
   },
   "file_extension": ".py",
   "mimetype": "text/x-python",
   "name": "python",
   "nbconvert_exporter": "python",
   "pygments_lexer": "ipython3",
   "version": "3.6.0"
  }
 },
 "nbformat": 4,
 "nbformat_minor": 1
}
