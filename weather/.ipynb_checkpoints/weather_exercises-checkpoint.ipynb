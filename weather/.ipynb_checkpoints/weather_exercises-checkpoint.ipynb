{
 "cells": [
  {
   "cell_type": "markdown",
   "metadata": {},
   "source": [
    "\n",
    "## 1. Scrape your [local weather](http://forecast.weather.gov/MapClick.php?lat=40.7142&lon=-74.0059) forecast."
   ]
  },
  {
   "cell_type": "code",
   "execution_count": 2,
   "metadata": {
    "collapsed": false
   },
   "outputs": [
    {
     "name": "stdout",
     "output_type": "stream",
     "text": [
      "https://api.weather.gov/points/32.9329,-117.2235/forecast \n",
      " 200\n"
     ]
    }
   ],
   "source": [
    "import requests\n",
    "# requesting the weekly forecast with longitudinal data from google\n",
    "latlong = \"32.932865,-117.223542\"\n",
    "r = requests.get('https://api.weather.gov/points/' + latlong + '/forecast')\n",
    "print(r.url, '\\n',r.status_code)"
   ]
  },
  {
   "cell_type": "markdown",
   "metadata": {},
   "source": [
    "## 2. What is today's weather like?"
   ]
  },
  {
   "cell_type": "code",
   "execution_count": 36,
   "metadata": {
    "collapsed": false
   },
   "outputs": [
    {
     "name": "stdout",
     "output_type": "stream",
     "text": [
      "Cloudy\n"
     ]
    }
   ],
   "source": [
    "import json\n",
    "import pandas as pd\n",
    "\n",
    "# breaking down the json into a lot of differently leveled dicts, might need them later\n",
    "full_week_forecast = r.json()\n",
    "week_forecast_prop = full_week_forecast['properties']\n",
    "week_forecast_details = week_forecast_prop['periods']\n",
    "\n",
    "# converting the forecast details to important details\n",
    "forecast_df = pd.DataFrame(week_forecast_details)\n",
    "\n",
    "# filtering the forecast by 'today' and making the print output pretty\n",
    "print(''.join(forecast_df['shortForecast'][forecast_df['name'] == 'Today'].values))"
   ]
  },
  {
   "cell_type": "markdown",
   "metadata": {},
   "source": [
    "## 3. Extract the longer weather description for each forecast."
   ]
  },
  {
   "cell_type": "code",
   "execution_count": 38,
   "metadata": {
    "collapsed": false
   },
   "outputs": [
    {
     "name": "stdout",
     "output_type": "stream",
     "text": [
      "Cloudy, with a high near 67. West northwest wind 1 to 9 mph.\n"
     ]
    }
   ],
   "source": [
    "print(''.join(forecast_df['detailedForecast'][forecast_df['name'] == 'Today'].values))"
   ]
  },
  {
   "cell_type": "markdown",
   "metadata": {},
   "source": [
    "## 4. Extract the numeric temperature for all the forecasts."
   ]
  },
  {
   "cell_type": "code",
   "execution_count": 55,
   "metadata": {
    "collapsed": false
   },
   "outputs": [
    {
     "name": "stdout",
     "output_type": "stream",
     "text": [
      "Today : 67\n",
      "Tonight : 59\n",
      "Saturday : 64\n",
      "Saturday Night : 53\n",
      "Sunday : 61\n",
      "Sunday Night : 54\n",
      "Monday : 66\n",
      "Monday Night : 56\n",
      "Tuesday : 66\n",
      "Tuesday Night : 56\n",
      "Wednesday : 67\n",
      "Wednesday Night : 57\n",
      "Thursday : 69\n",
      "Thursday Night : 57\n"
     ]
    }
   ],
   "source": [
    "forecast_df.head()\n",
    "# list comprehension is pretty long, so rewrote as for loop.\n",
    "# works through the forecast dataframe and prints the timeframe of the weather prediction and the temperature\n",
    "#[''.join(forecast_df['name'][forecast_df['number'] == num].values), ':', int(forecast_df['temperature'][forecast_df['number'] == num].values) for num in range(1,len(forecast_df.number)+1)]\n",
    "for num in range(1,len(forecast_df.number)+1):\n",
    "    print(''.join(forecast_df['name'][forecast_df['number'] == num].values), ':', int(forecast_df['temperature'][forecast_df['number'] == num].values))"
   ]
  },
  {
   "cell_type": "markdown",
   "metadata": {},
   "source": [
    "## 5. Store the Day, Short Forecast, Numeric Temperature, High or Low, and extended forecast in a data structure of your choice. Export your final data to a [pickle object](https://docs.python.org/3/library/pickle.html)."
   ]
  },
  {
   "cell_type": "code",
   "execution_count": 83,
   "metadata": {
    "collapsed": false
   },
   "outputs": [
    {
     "name": "stdout",
     "output_type": "stream",
     "text": [
      "['low', 'high', 'low', 'high', 'high', 'high', 'low', 'high', 'low', 'high', 'low', 'high', 'low', 'high']\n"
     ]
    }
   ],
   "source": [
    "highlowlist = []\n",
    "\n",
    "# creating a list of high or low if the detailed forecast contains high or not\n",
    "for index in range(len(forecast_df.number)):\n",
    "    if 'high' in str(forecast_df['detailedForecast'][forecast_df['number'] == index].values):\n",
    "        highlowlist.append('high')\n",
    "    else:\n",
    "        highlowlist.append('low')\n",
    "        \n",
    "# checking contents\n",
    "print(highlowlist)\n",
    "\n",
    "# creating a new column containing high or low information\n",
    "forecast_df['HighLow'] = highlowlist"
   ]
  },
  {
   "cell_type": "code",
   "execution_count": 84,
   "metadata": {
    "collapsed": false
   },
   "outputs": [],
   "source": [
    "import pickle\n",
    "\n",
    "# new dataframe with only relevant information\n",
    "trunc_forecast = forecast_df[['name','shortForecast','temperature','HighLow','detailedForecast']]\n",
    "\n",
    "# data segregation class\n",
    "class forecast(object):\n",
    "    def __init__(self, name, value):\n",
    "        self.name = name\n",
    "        self.value = value\n",
    "\n",
    "# writing the pickle file\n",
    "with open('forecast_data.pkl', 'wb') as output:\n",
    "    forecast1 = forecast(trunc_forecast.columns, trunc_forecast.values)\n",
    "    pickle.dump(forecast1, output, pickle.HIGHEST_PROTOCOL)\n",
    "\n",
    "# deleting the created object\n",
    "del forecast1"
   ]
  },
  {
   "cell_type": "code",
   "execution_count": 85,
   "metadata": {
    "collapsed": false
   },
   "outputs": [
    {
     "name": "stdout",
     "output_type": "stream",
     "text": [
      "Index(['name', 'shortForecast', 'temperature', 'HighLow', 'detailedForecast'], dtype='object')\n",
      "[['Today' 'Cloudy' 67 'low'\n",
      "  'Cloudy, with a high near 67. West northwest wind 1 to 9 mph.']\n",
      " ['Tonight' 'Cloudy then Slight Chance Rain Showers' 59 'high'\n",
      "  'A slight chance of rain showers after 5am. Cloudy, with a low around 59. Southwest wind around 7 mph. Chance of precipitation is 20%. New rainfall amounts less than a tenth of an inch possible.']\n",
      " ['Saturday' 'Chance Rain Showers' 64 'low'\n",
      "  'A chance of rain showers. Cloudy, with a high near 64. Southwest wind 7 to 15 mph, with gusts as high as 25 mph. Chance of precipitation is 50%. New rainfall amounts between a tenth and quarter of an inch possible.']\n",
      " ['Saturday Night' 'Showers And Thunderstorms Likely' 53 'high'\n",
      "  'A chance of rain showers before 11pm, then showers and thunderstorms likely. Some of the storms could produce heavy rain. Mostly cloudy, with a low around 53. West southwest wind 9 to 15 mph, with gusts as high as 24 mph. Chance of precipitation is 70%. New rainfall amounts between a half and three quarters of an inch possible.']\n",
      " ['Sunday' 'Showers And Thunderstorms Likely' 61 'high'\n",
      "  'Showers and thunderstorms likely. Mostly cloudy, with a high near 61. West southwest wind 9 to 15 mph, with gusts as high as 24 mph. Chance of precipitation is 70%. New rainfall amounts between a quarter and half of an inch possible.']\n",
      " ['Sunday Night' 'Showers And Thunderstorms Likely' 54 'high'\n",
      "  'Showers and thunderstorms likely. Mostly cloudy, with a low around 54. Chance of precipitation is 60%. New rainfall amounts less than a tenth of an inch possible.']\n",
      " ['Monday'\n",
      "  'Chance Showers And Thunderstorms then Slight Chance Showers And Thunderstorms'\n",
      "  66 'low'\n",
      "  'A chance of showers and thunderstorms before 11am, then a slight chance of showers and thunderstorms between 11am and 5pm. Partly sunny, with a high near 66. Chance of precipitation is 30%. New rainfall amounts less than a tenth of an inch possible.']\n",
      " ['Monday Night' 'Mostly Cloudy' 56 'high'\n",
      "  'Mostly cloudy, with a low around 56.']\n",
      " ['Tuesday' 'Chance Rain Showers' 66 'low'\n",
      "  'A chance of rain showers after 11am. Partly sunny, with a high near 66. Chance of precipitation is 30%.']\n",
      " ['Tuesday Night' 'Chance Rain Showers' 56 'high'\n",
      "  'A chance of rain showers. Mostly cloudy, with a low around 56. Chance of precipitation is 30%.']\n",
      " ['Wednesday' 'Slight Chance Rain Showers then Mostly Sunny' 67 'low'\n",
      "  'A slight chance of rain showers before 11am. Mostly sunny, with a high near 67. Chance of precipitation is 20%.']\n",
      " ['Wednesday Night' 'Mostly Cloudy' 57 'high'\n",
      "  'Mostly cloudy, with a low around 57.']\n",
      " ['Thursday' 'Mostly Sunny' 69 'low' 'Mostly sunny, with a high near 69.']\n",
      " ['Thursday Night' 'Patchy Fog' 57 'high'\n",
      "  'Patchy fog after 11pm. Mostly cloudy, with a low around 57.']]\n"
     ]
    }
   ],
   "source": [
    "# checking the contents of the pickle file for accuracy\n",
    "with open('forecast_data.pkl', 'rb') as input:\n",
    "    forecast1 = pickle.load(input)\n",
    "    print(forecast1.name)  \n",
    "    print(forecast1.value)  "
   ]
  }
 ],
 "metadata": {
  "anaconda-cloud": {},
  "kernelspec": {
   "display_name": "Python 3",
   "language": "python",
   "name": "python3"
  },
  "language_info": {
   "codemirror_mode": {
    "name": "ipython",
    "version": 3
   },
   "file_extension": ".py",
   "mimetype": "text/x-python",
   "name": "python",
   "nbconvert_exporter": "python",
   "pygments_lexer": "ipython3",
   "version": "3.6.0"
  }
 },
 "nbformat": 4,
 "nbformat_minor": 1
}
