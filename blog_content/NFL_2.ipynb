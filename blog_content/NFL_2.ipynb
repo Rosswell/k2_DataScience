{
 "cells": [
  {
   "cell_type": "markdown",
   "metadata": {},
   "source": [
    "# ML for NFL Analysis, Part II\n",
    "\n",
    "In the initial analysis, we identified some variables that seemed to have high importance, and some that had less high importance when it came to linear relationships with the output variable. There were also some potentially interesting inferences concerning trends over time. Today we'll take a look at more complicated variable relationships and attempt to discern higher dimensional multivariate analyses (relationships between multiple input variables and the output variable). \n",
    "\n",
    "As there is a lot that can be done with this data, I'd like to touch on application. At the moment, I'm still attempting to figure out the best analysis that can be done with this type of input. Analyses could potentially range from stats that contribute to concussions, how many rushes per season result in a substantially decreased effort the subsequent season, what stats contribute the most to winning and losing, outlier players at their position, or attempting to identify bets to make on games. Personally, I'm interested in all of these things, and hopefully they can all be built out over time. In order to build complexity, however, we will start simple: \n",
    "\n",
    "**Can we predict that a team wins, and to what degree of accuracy?**\n",
    "\n",
    "To do this, we will need to: \n",
    "1. Capture all the positional statistics that come out of a single game. (Note: currently I only have tables for QBs, WRs, and RBs. I assume that accuracy will be increased with more data, and that is coming, in due time). I stored these results in a local sqlite DB for ease of access. Right now, I'm only using QB data from the past 10 years, as it is arguably the position that holds the most influence on a game's outcome. Obviously there are many many other factors, and the dataset will be expanded to accommodate other positions, but for a proof on concept, QB data should be enough.\n",
    "2. Manipulate the data to make it ML-friendly - this involved mapping the players, teams, opponents, stripping oddly formatted fields, dropping null values, converting date strings to datetimes.\n",
    "3. I decided that the best way to reflect real-life scenarios would be to split the data into game-day properies and past data - so game day properties would be the team, the opponents, the time of year, and the starting QB. For past data, I decided to aggregate the stats for every game that that starting QB has played in the past.\n",
    "4. In order to optimize the training models, I used sklearn's GridSearchCV to test different combinations of parameters for each classification model. This also allowed for some control over testing parameters to decrease iteration time.\n",
    "5. In the optimization class, I built in dimensionality reduction, so you can turn PCA on or off for that purpose (doesn't work on all models though).\n",
    "6. Then just rank the models! I used purely test score for my ranking (the accuracy of the model in classifying data that was not included in the training set), which turned out to be very consistent across all models, which is comforting.\n",
    "7. Lastly, I created a dataframe that shows the predictions for the week's games, and an aggregated prediction across all the models. We'll see how it does during week one, and optimize from there."
   ]
  },
  {
   "cell_type": "code",
   "execution_count": 1,
   "metadata": {
    "scrolled": true
   },
   "outputs": [
    {
     "name": "stderr",
     "output_type": "stream",
     "text": [
      "/Library/Frameworks/Python.framework/Versions/3.6/lib/python3.6/site-packages/scipy/linalg/basic.py:1018: RuntimeWarning: internal gelsd driver lwork query error, required iwork dimension not returned. This is likely the result of LAPACK bug 0038, fixed in LAPACK 3.2.2 (released July 21, 2010). Falling back to 'gelss' driver.\n",
      "  warnings.warn(mesg, RuntimeWarning)\n"
     ]
    }
   ],
   "source": [
    "# importing standard packages and custom classes\n",
    "import pandas as pd\n",
    "import numpy as np\n",
    "import time\n",
    "import seaborn as sns\n",
    "import matplotlib.pyplot as plt\n",
    "% matplotlib inline\n",
    "from src.main.python3.NFL_data_cleaning import dataInitializer, mlOptimizer"
   ]
  },
  {
   "cell_type": "markdown",
   "metadata": {},
   "source": [
    " "
   ]
  },
  {
   "cell_type": "markdown",
   "metadata": {},
   "source": [
    "## 1. Capture Positional Statistics\n",
    "\n",
    "Here, we create a connection to the sqlite DB that houses the QB data. The first 5 rows of the 3784 row dataframe are shown here, with all the raw statistics. "
   ]
  },
  {
   "cell_type": "code",
   "execution_count": 5,
   "metadata": {
    "scrolled": false
   },
   "outputs": [
    {
     "data": {
      "text/plain": [
       "'<table border=\"1\" class=\"dataframe\">\\n  <thead>\\n    <tr style=\"text-align: right;\">\\n      <th></th>\\n      <th>date</th>\\n      <th>team</th>\\n      <th>opponent</th>\\n      <th>result</th>\\n      <th>attempts</th>\\n      <th>completions</th>\\n      <th>percent</th>\\n      <th>yards</th>\\n      <th>yards_per_attempt</th>\\n      <th>touchdowns</th>\\n      <th>interceptions</th>\\n      <th>longest_completion</th>\\n      <th>qb_rating</th>\\n      <th>player_name</th>\\n      <th>sacks</th>\\n    </tr>\\n  </thead>\\n  <tbody>\\n    <tr>\\n      <th>0</th>\\n      <td>160811</td>\\n      <td>Jax</td>\\n      <td>@ NYJ</td>\\n      <td>L, 17-13</td>\\n      <td>19</td>\\n      <td>10</td>\\n      <td>52.6</td>\\n      <td>138</td>\\n      <td>7.3</td>\\n      <td>0</td>\\n      <td>1</td>\\n      <td>27</td>\\n      <td>54.3</td>\\n      <td>brandon allen</td>\\n      <td>1/10</td>\\n    </tr>\\n    <tr>\\n      <th>1</th>\\n      <td>160820</td>\\n      <td>Jax</td>\\n      <td>TB</td>\\n      <td>L, 27-21</td>\\n      <td>3</td>\\n      <td>0</td>\\n      <td>0.0</td>\\n      <td>0</td>\\n      <td>0.0</td>\\n      <td>0</td>\\n      <td>1</td>\\n      <td>0</td>\\n      <td>0.0</td>\\n      <td>brandon allen</td>\\n      <td>0/0</td>\\n    </tr>\\n    <tr>\\n      <th>2</th>\\n      <td>160901</td>\\n      <td>Jax</td>\\n      <td>@ Atl</td>\\n      <td>L, 17-15</td>\\n      <td>26</td>\\n      <td>17</td>\\n      <td>65.4</td>\\n      <td>164</td>\\n      <td>6.3</td>\\n      <td>2</td>\\n      <td>1</td>\\n      <td>25t</td>\\n      <td>92.5</td>\\n      <td>brandon allen</td>\\n      <td>2/18</td>\\n    </tr>\\n    <tr>\\n      <th>3</th>\\n      <td>160826</td>\\n      <td>Car</td>\\n      <td>NE</td>\\n      <td>L, 19-17</td>\\n      <td>9</td>\\n      <td>5</td>\\n      <td>55.6</td>\\n      <td>37</td>\\n      <td>4.1</td>\\n      <td>0</td>\\n      <td>1</td>\\n      <td>18</td>\\n      <td>25.9</td>\\n      <td>derek anderson</td>\\n      <td>0/0</td>\\n    </tr>\\n    <tr>\\n      <th>4</th>\\n      <td>160925</td>\\n      <td>Car</td>\\n      <td>Min</td>\\n      <td>L, 22-10</td>\\n      <td>1</td>\\n      <td>1</td>\\n      <td>100.0</td>\\n      <td>3</td>\\n      <td>3.0</td>\\n      <td>0</td>\\n      <td>0</td>\\n      <td>3</td>\\n      <td>79.2</td>\\n      <td>derek anderson</td>\\n      <td>0/0</td>\\n    </tr>\\n  </tbody>\\n</table>'"
      ]
     },
     "execution_count": 5,
     "metadata": {},
     "output_type": "execute_result"
    }
   ],
   "source": [
    "dataConnection = dataInitializer()\n",
    "qbDf = dataConnection.fetchData('qbs')\n",
    "\n",
    "qbDf.head().to_html()\n",
    "\n",
    "# qbDf.head()"
   ]
  },
  {
   "cell_type": "markdown",
   "metadata": {},
   "source": [
    " "
   ]
  },
  {
   "cell_type": "markdown",
   "metadata": {},
   "source": [
    "## 2. Clean the Data\n",
    "\n",
    "As can be seen from the above raw data, many of these columns need to be parsed prior to being fed to a ML model. For example, sacks is in the format (number of sacks)/(total sack yardage), so that can be split into two numeric columns. Additionally, all pure string columns like player_name can be mapped to a unique numeric value. \n",
    "\n",
    "There are several ways of doing this - sklearn has the sklearn.preprocessing.OneHotEncoder object, which creates a binary column for each unique string, or sklearn.preprocessing.LabelEncoder, which creates a dictionary map of string:encoding values. However, these are both transient objects. I prefer to have my maps permanently accessible, so for that purpose, I created a team and player map table in my DB to call upon when translations were needed. dataInitializer.cleanData() is the function I created to convert all the columns to to ML-friendly format."
   ]
  },
  {
   "cell_type": "code",
   "execution_count": 3,
   "metadata": {},
   "outputs": [
    {
     "data": {
      "text/html": [
       "<div>\n",
       "<style>\n",
       "    .dataframe thead tr:only-child th {\n",
       "        text-align: right;\n",
       "    }\n",
       "\n",
       "    .dataframe thead th {\n",
       "        text-align: left;\n",
       "    }\n",
       "\n",
       "    .dataframe tbody tr th {\n",
       "        vertical-align: top;\n",
       "    }\n",
       "</style>\n",
       "<table border=\"1\" class=\"dataframe\">\n",
       "  <thead>\n",
       "    <tr style=\"text-align: right;\">\n",
       "      <th></th>\n",
       "      <th>attempts</th>\n",
       "      <th>completions</th>\n",
       "      <th>percent</th>\n",
       "      <th>yards</th>\n",
       "      <th>yards_per_attempt</th>\n",
       "      <th>touchdowns</th>\n",
       "      <th>interceptions</th>\n",
       "      <th>longest_completion</th>\n",
       "      <th>qb_rating</th>\n",
       "      <th>score</th>\n",
       "      <th>win_loss</th>\n",
       "      <th>week</th>\n",
       "      <th>season</th>\n",
       "      <th>times_sacked</th>\n",
       "      <th>sack_length</th>\n",
       "      <th>team_id</th>\n",
       "      <th>opponent_id</th>\n",
       "      <th>player_id</th>\n",
       "    </tr>\n",
       "  </thead>\n",
       "  <tbody>\n",
       "    <tr>\n",
       "      <th>4</th>\n",
       "      <td>1</td>\n",
       "      <td>1</td>\n",
       "      <td>100.0</td>\n",
       "      <td>3</td>\n",
       "      <td>3.0</td>\n",
       "      <td>0</td>\n",
       "      <td>0</td>\n",
       "      <td>3</td>\n",
       "      <td>79.2</td>\n",
       "      <td>10</td>\n",
       "      <td>0</td>\n",
       "      <td>3</td>\n",
       "      <td>2016</td>\n",
       "      <td>0</td>\n",
       "      <td>0</td>\n",
       "      <td>3796.0</td>\n",
       "      <td>3792.0</td>\n",
       "      <td>74</td>\n",
       "    </tr>\n",
       "    <tr>\n",
       "      <th>5</th>\n",
       "      <td>23</td>\n",
       "      <td>17</td>\n",
       "      <td>73.9</td>\n",
       "      <td>172</td>\n",
       "      <td>7.5</td>\n",
       "      <td>2</td>\n",
       "      <td>2</td>\n",
       "      <td>48</td>\n",
       "      <td>87.6</td>\n",
       "      <td>33</td>\n",
       "      <td>0</td>\n",
       "      <td>4</td>\n",
       "      <td>2016</td>\n",
       "      <td>0</td>\n",
       "      <td>0</td>\n",
       "      <td>3796.0</td>\n",
       "      <td>3768.0</td>\n",
       "      <td>74</td>\n",
       "    </tr>\n",
       "    <tr>\n",
       "      <th>6</th>\n",
       "      <td>28</td>\n",
       "      <td>18</td>\n",
       "      <td>64.3</td>\n",
       "      <td>278</td>\n",
       "      <td>9.9</td>\n",
       "      <td>0</td>\n",
       "      <td>2</td>\n",
       "      <td>34</td>\n",
       "      <td>67.3</td>\n",
       "      <td>14</td>\n",
       "      <td>0</td>\n",
       "      <td>5</td>\n",
       "      <td>2016</td>\n",
       "      <td>0</td>\n",
       "      <td>0</td>\n",
       "      <td>3796.0</td>\n",
       "      <td>3787.0</td>\n",
       "      <td>74</td>\n",
       "    </tr>\n",
       "    <tr>\n",
       "      <th>7</th>\n",
       "      <td>1</td>\n",
       "      <td>0</td>\n",
       "      <td>0.0</td>\n",
       "      <td>0</td>\n",
       "      <td>0.0</td>\n",
       "      <td>0</td>\n",
       "      <td>1</td>\n",
       "      <td>0</td>\n",
       "      <td>0.0</td>\n",
       "      <td>7</td>\n",
       "      <td>0</td>\n",
       "      <td>13</td>\n",
       "      <td>2016</td>\n",
       "      <td>0</td>\n",
       "      <td>0</td>\n",
       "      <td>3796.0</td>\n",
       "      <td>3618.0</td>\n",
       "      <td>74</td>\n",
       "    </tr>\n",
       "    <tr>\n",
       "      <th>8</th>\n",
       "      <td>0</td>\n",
       "      <td>0</td>\n",
       "      <td>0.0</td>\n",
       "      <td>0</td>\n",
       "      <td>0.0</td>\n",
       "      <td>0</td>\n",
       "      <td>0</td>\n",
       "      <td>0</td>\n",
       "      <td>0.0</td>\n",
       "      <td>44</td>\n",
       "      <td>1</td>\n",
       "      <td>11</td>\n",
       "      <td>2015</td>\n",
       "      <td>0</td>\n",
       "      <td>0</td>\n",
       "      <td>3796.0</td>\n",
       "      <td>3674.0</td>\n",
       "      <td>74</td>\n",
       "    </tr>\n",
       "  </tbody>\n",
       "</table>\n",
       "</div>"
      ],
      "text/plain": [
       "   attempts  completions  percent  yards  yards_per_attempt  touchdowns  \\\n",
       "4         1            1    100.0      3                3.0           0   \n",
       "5        23           17     73.9    172                7.5           2   \n",
       "6        28           18     64.3    278                9.9           0   \n",
       "7         1            0      0.0      0                0.0           0   \n",
       "8         0            0      0.0      0                0.0           0   \n",
       "\n",
       "   interceptions  longest_completion  qb_rating  score  win_loss  week  \\\n",
       "4              0                   3       79.2     10         0     3   \n",
       "5              2                  48       87.6     33         0     4   \n",
       "6              2                  34       67.3     14         0     5   \n",
       "7              1                   0        0.0      7         0    13   \n",
       "8              0                   0        0.0     44         1    11   \n",
       "\n",
       "   season  times_sacked  sack_length  team_id  opponent_id  player_id  \n",
       "4    2016             0            0   3796.0       3792.0         74  \n",
       "5    2016             0            0   3796.0       3768.0         74  \n",
       "6    2016             0            0   3796.0       3787.0         74  \n",
       "7    2016             0            0   3796.0       3618.0         74  \n",
       "8    2015             0            0   3796.0       3674.0         74  "
      ]
     },
     "execution_count": 3,
     "metadata": {},
     "output_type": "execute_result"
    }
   ],
   "source": [
    "qbDf = dataConnection.cleanData(qbDf, 'qbs')\n",
    "qbDf.head()"
   ]
  },
  {
   "cell_type": "markdown",
   "metadata": {},
   "source": [
    " "
   ]
  },
  {
   "cell_type": "markdown",
   "metadata": {},
   "source": [
    "## 3. Statistics Aggregation\n",
    "\n",
    "Then we aggregate the statistics on columns that make sense to aggregate. This determination was rather manual - it obviously doesn't make sense to aggregate seasons or weeks, but it might make sense in the future to have a total season column."
   ]
  },
  {
   "cell_type": "code",
   "execution_count": 4,
   "metadata": {
    "collapsed": true
   },
   "outputs": [],
   "source": [
    "aggQbData = dataConnection.aggregateData(qbDf)\n",
    "optimizer = mlOptimizer(aggQbData, 'win_loss')"
   ]
  },
  {
   "cell_type": "markdown",
   "metadata": {},
   "source": [
    " "
   ]
  },
  {
   "cell_type": "markdown",
   "metadata": {},
   "source": [
    "## 4. Lots of Model Optimization & 5. Dimensionality Reduction\n",
    "\n",
    "For the model optimization, I pre-loaded parameters from the model page in sklearn's documentation, and pared it down to the point where there were negligible accuracy differences, but took significantly less computational effort. Some models still take a bit of time, notably SVC with the rbf kernel, and (understandably) all ensemble models. While optimizing the optimizer, I included a verbose setting in the GridSearchCV function to get a sense of the time each model took to brute force through all the parameters provided to make it easier to identify hangups. In the final version, I just added a manual timer, since verbose=1 is still more than is necessaary for this amount of fits. The PCA parameter was set to True for models that allowed for it in their pipelines. \n",
    "\n",
    "Lastly, the mlOptimizer.optimizeModel() function saves the model with the best test accuracy to a dictionary, which will be called on later for plotting and predictions.\n",
    "\n",
    "Note - For these fits, I was using a 3.1Ghz i7 MacBook Pro with 16GB RAM on MacOS Sierra"
   ]
  },
  {
   "cell_type": "code",
   "execution_count": 5,
   "metadata": {},
   "outputs": [
    {
     "name": "stdout",
     "output_type": "stream",
     "text": [
      "Total fitting time (s): 2.66\n"
     ]
    }
   ],
   "source": [
    "t0 = time.perf_counter()\n",
    "optimizer.optimizeModel('LogisticRegression', pca=False)\n",
    "optimizer.optimizeModel('LogisticRegression', pca=True)\n",
    "optimizer.optimizeModel('LDA', pca=True)\n",
    "optimizer.optimizeModel('LDA', pca=False)\n",
    "optimizer.optimizeModel('QDA', pca=True)\n",
    "optimizer.optimizeModel('QDA', pca=False)\n",
    "t1 = time.perf_counter()\n",
    "print(f\"Total fitting time (s): {round(t1-t0, 2)}\")"
   ]
  },
  {
   "cell_type": "code",
   "execution_count": 6,
   "metadata": {},
   "outputs": [
    {
     "name": "stdout",
     "output_type": "stream",
     "text": [
      "Total fitting time (s): 4.29\n"
     ]
    }
   ],
   "source": [
    "t0 = time.perf_counter()\n",
    "optimizer.optimizeModel('GaussianNB', pca=False)\n",
    "optimizer.optimizeModel('GaussianNB', pca=True)\n",
    "optimizer.optimizeModel('MultinomialNB', pca=False)\n",
    "optimizer.optimizeModel('DecisionTreeClassifier', pca=False)\n",
    "optimizer.optimizeModel('DecisionTreeClassifier', pca=True)\n",
    "t1 = time.perf_counter()\n",
    "print(f\"Total fitting time (s): {round(t1-t0, 2)}\")"
   ]
  },
  {
   "cell_type": "code",
   "execution_count": 7,
   "metadata": {},
   "outputs": [
    {
     "name": "stdout",
     "output_type": "stream",
     "text": [
      "Total fitting time (s): 738.4\n"
     ]
    }
   ],
   "source": [
    "t0 = time.perf_counter()\n",
    "optimizer.optimizeModel('SVC', pca=False)\n",
    "optimizer.optimizeModel('SVC', pca=True)\n",
    "optimizer.optimizeModel('KNeighborsClassifier', pca=False)\n",
    "optimizer.optimizeModel('KNeighborsClassifier', pca=True)\n",
    "optimizer.optimizeModel('RandomForest', pca=False)\n",
    "t1 = time.perf_counter()\n",
    "print(f\"Total fitting time (s): {round(t1-t0, 2)}\")"
   ]
  },
  {
   "cell_type": "code",
   "execution_count": 8,
   "metadata": {},
   "outputs": [
    {
     "name": "stdout",
     "output_type": "stream",
     "text": [
      "Total fitting time (s): 725.61\n"
     ]
    }
   ],
   "source": [
    "t0 = time.perf_counter()\n",
    "optimizer.optimizeModel('GradientBoostingClassifier', pca=False)\n",
    "optimizer.optimizeModel('AdaBoostClassifier', pca=False)\n",
    "t1 = time.perf_counter()\n",
    "print(f\"Total fitting time (s): {round(t1-t0, 2)}\")"
   ]
  },
  {
   "cell_type": "markdown",
   "metadata": {},
   "source": [
    " "
   ]
  },
  {
   "cell_type": "markdown",
   "metadata": {},
   "source": [
    "## 6. Ranking the Models\n",
    "\n",
    "mlOptimizer.view() returns the \"best classifier\" results from the optimiztion above. These results are sorted by test score, which is a measurement of classification accuracy. In this context, it means: for a model with a test score of 0.55, the model correctly predicted whether or not a team would win a game with 55% accuracy. "
   ]
  },
  {
   "cell_type": "code",
   "execution_count": 9,
   "metadata": {
    "scrolled": true
   },
   "outputs": [
    {
     "data": {
      "text/html": [
       "<div>\n",
       "<style>\n",
       "    .dataframe thead tr:only-child th {\n",
       "        text-align: right;\n",
       "    }\n",
       "\n",
       "    .dataframe thead th {\n",
       "        text-align: left;\n",
       "    }\n",
       "\n",
       "    .dataframe tbody tr th {\n",
       "        vertical-align: top;\n",
       "    }\n",
       "</style>\n",
       "<table border=\"1\" class=\"dataframe\">\n",
       "  <thead>\n",
       "    <tr style=\"text-align: right;\">\n",
       "      <th></th>\n",
       "      <th>Model</th>\n",
       "      <th>Training Score</th>\n",
       "      <th>Test Score</th>\n",
       "      <th>Fit Time</th>\n",
       "      <th>Best Model Params</th>\n",
       "      <th>Best Model Instance</th>\n",
       "    </tr>\n",
       "  </thead>\n",
       "  <tbody>\n",
       "    <tr>\n",
       "      <th>15</th>\n",
       "      <td>Random Forest</td>\n",
       "      <td>0.588927</td>\n",
       "      <td>0.561043</td>\n",
       "      <td>0.017180</td>\n",
       "      <td>{'bootstrap': True, 'class_weight': None, 'cri...</td>\n",
       "      <td>Pipeline(memory=None,\\n     steps=[('model', R...</td>\n",
       "    </tr>\n",
       "    <tr>\n",
       "      <th>6</th>\n",
       "      <td>Gaussian Naive Bayes</td>\n",
       "      <td>0.542592</td>\n",
       "      <td>0.543563</td>\n",
       "      <td>0.002244</td>\n",
       "      <td>{'priors': None}</td>\n",
       "      <td>Pipeline(memory=None, steps=[('model', Gaussia...</td>\n",
       "    </tr>\n",
       "    <tr>\n",
       "      <th>16</th>\n",
       "      <td>Gradient Boosting Classifier</td>\n",
       "      <td>0.688955</td>\n",
       "      <td>0.541065</td>\n",
       "      <td>0.131309</td>\n",
       "      <td>{'criterion': 'friedman_mse', 'init': None, 'l...</td>\n",
       "      <td>Pipeline(memory=None,\\n     steps=[('model', G...</td>\n",
       "    </tr>\n",
       "    <tr>\n",
       "      <th>3</th>\n",
       "      <td>LDA</td>\n",
       "      <td>0.583240</td>\n",
       "      <td>0.535516</td>\n",
       "      <td>0.002643</td>\n",
       "      <td>{'n_components': None, 'priors': None, 'shrink...</td>\n",
       "      <td>Pipeline(memory=None,\\n     steps=[('model', L...</td>\n",
       "    </tr>\n",
       "    <tr>\n",
       "      <th>8</th>\n",
       "      <td>Multinomial Naive Bayes</td>\n",
       "      <td>0.535376</td>\n",
       "      <td>0.535239</td>\n",
       "      <td>0.001697</td>\n",
       "      <td>{'alpha': 1.0, 'class_prior': None, 'fit_prior...</td>\n",
       "      <td>Pipeline(memory=None,\\n     steps=[('model', M...</td>\n",
       "    </tr>\n",
       "    <tr>\n",
       "      <th>10</th>\n",
       "      <td>5 Component PCA + Decision Tree</td>\n",
       "      <td>0.754579</td>\n",
       "      <td>0.533019</td>\n",
       "      <td>0.016077</td>\n",
       "      <td>{'class_weight': None, 'criterion': 'gini', 'm...</td>\n",
       "      <td>Pipeline(memory=None,\\n     steps=[('pca', PCA...</td>\n",
       "    </tr>\n",
       "    <tr>\n",
       "      <th>2</th>\n",
       "      <td>3 Component PCA + LDA</td>\n",
       "      <td>0.553273</td>\n",
       "      <td>0.530799</td>\n",
       "      <td>0.004538</td>\n",
       "      <td>{'n_components': None, 'priors': None, 'shrink...</td>\n",
       "      <td>Pipeline(memory=None,\\n     steps=[('pca', PCA...</td>\n",
       "    </tr>\n",
       "    <tr>\n",
       "      <th>1</th>\n",
       "      <td>3 Component PCA + Logistic Regression</td>\n",
       "      <td>0.548418</td>\n",
       "      <td>0.529134</td>\n",
       "      <td>0.006272</td>\n",
       "      <td>{'C': 0.01, 'class_weight': None, 'dual': Fals...</td>\n",
       "      <td>Pipeline(memory=None,\\n     steps=[('pca', PCA...</td>\n",
       "    </tr>\n",
       "    <tr>\n",
       "      <th>14</th>\n",
       "      <td>3 Component PCA + K Neighbors Classifier</td>\n",
       "      <td>0.660933</td>\n",
       "      <td>0.525805</td>\n",
       "      <td>0.007245</td>\n",
       "      <td>{'algorithm': 'auto', 'leaf_size': 30, 'metric...</td>\n",
       "      <td>Pipeline(memory=None,\\n     steps=[('pca', PCA...</td>\n",
       "    </tr>\n",
       "    <tr>\n",
       "      <th>5</th>\n",
       "      <td>QDA</td>\n",
       "      <td>0.606825</td>\n",
       "      <td>0.524695</td>\n",
       "      <td>0.002105</td>\n",
       "      <td>{'priors': None, 'reg_param': 0.0, 'store_cova...</td>\n",
       "      <td>Pipeline(memory=None,\\n     steps=[('model', Q...</td>\n",
       "    </tr>\n",
       "    <tr>\n",
       "      <th>17</th>\n",
       "      <td>Ada Boost Classifier</td>\n",
       "      <td>0.681881</td>\n",
       "      <td>0.524140</td>\n",
       "      <td>0.477444</td>\n",
       "      <td>{'algorithm': 'SAMME.R', 'base_estimator': Non...</td>\n",
       "      <td>Pipeline(memory=None,\\n     steps=[('model', A...</td>\n",
       "    </tr>\n",
       "    <tr>\n",
       "      <th>0</th>\n",
       "      <td>Logistic Regression</td>\n",
       "      <td>0.575056</td>\n",
       "      <td>0.523030</td>\n",
       "      <td>0.025394</td>\n",
       "      <td>{'C': 0.1, 'class_weight': None, 'dual': False...</td>\n",
       "      <td>Pipeline(memory=None,\\n     steps=[('model', L...</td>\n",
       "    </tr>\n",
       "    <tr>\n",
       "      <th>12</th>\n",
       "      <td>3 Component PCA + RBF SVC</td>\n",
       "      <td>0.522753</td>\n",
       "      <td>0.522752</td>\n",
       "      <td>0.125876</td>\n",
       "      <td>{'C': 0.1, 'cache_size': 200, 'class_weight': ...</td>\n",
       "      <td>Pipeline(memory=None,\\n     steps=[('pca', PCA...</td>\n",
       "    </tr>\n",
       "    <tr>\n",
       "      <th>11</th>\n",
       "      <td>RBF SVC</td>\n",
       "      <td>0.522753</td>\n",
       "      <td>0.522752</td>\n",
       "      <td>0.280608</td>\n",
       "      <td>{'C': 0.1, 'cache_size': 200, 'class_weight': ...</td>\n",
       "      <td>Pipeline(memory=None,\\n     steps=[('model', S...</td>\n",
       "    </tr>\n",
       "    <tr>\n",
       "      <th>13</th>\n",
       "      <td>K Neighbors Classifier</td>\n",
       "      <td>0.667315</td>\n",
       "      <td>0.521920</td>\n",
       "      <td>0.003175</td>\n",
       "      <td>{'algorithm': 'auto', 'leaf_size': 30, 'metric...</td>\n",
       "      <td>Pipeline(memory=None,\\n     steps=[('model', K...</td>\n",
       "    </tr>\n",
       "    <tr>\n",
       "      <th>7</th>\n",
       "      <td>6 Component PCA + Gaussian Naive Bayes</td>\n",
       "      <td>0.565067</td>\n",
       "      <td>0.521920</td>\n",
       "      <td>0.004991</td>\n",
       "      <td>{'priors': None}</td>\n",
       "      <td>Pipeline(memory=None,\\n     steps=[('pca', PCA...</td>\n",
       "    </tr>\n",
       "    <tr>\n",
       "      <th>4</th>\n",
       "      <td>4 Component PCA + QDA</td>\n",
       "      <td>0.570478</td>\n",
       "      <td>0.520255</td>\n",
       "      <td>0.004230</td>\n",
       "      <td>{'priors': None, 'reg_param': 0.0, 'store_cova...</td>\n",
       "      <td>Pipeline(memory=None,\\n     steps=[('pca', PCA...</td>\n",
       "    </tr>\n",
       "    <tr>\n",
       "      <th>9</th>\n",
       "      <td>Decision Tree</td>\n",
       "      <td>0.779136</td>\n",
       "      <td>0.519978</td>\n",
       "      <td>0.024633</td>\n",
       "      <td>{'class_weight': None, 'criterion': 'gini', 'm...</td>\n",
       "      <td>Pipeline(memory=None,\\n     steps=[('model', D...</td>\n",
       "    </tr>\n",
       "  </tbody>\n",
       "</table>\n",
       "</div>"
      ],
      "text/plain": [
       "                                       Model  Training Score  Test Score  \\\n",
       "15                             Random Forest        0.588927    0.561043   \n",
       "6                       Gaussian Naive Bayes        0.542592    0.543563   \n",
       "16              Gradient Boosting Classifier        0.688955    0.541065   \n",
       "3                                        LDA        0.583240    0.535516   \n",
       "8                    Multinomial Naive Bayes        0.535376    0.535239   \n",
       "10           5 Component PCA + Decision Tree        0.754579    0.533019   \n",
       "2                      3 Component PCA + LDA        0.553273    0.530799   \n",
       "1      3 Component PCA + Logistic Regression        0.548418    0.529134   \n",
       "14  3 Component PCA + K Neighbors Classifier        0.660933    0.525805   \n",
       "5                                        QDA        0.606825    0.524695   \n",
       "17                      Ada Boost Classifier        0.681881    0.524140   \n",
       "0                        Logistic Regression        0.575056    0.523030   \n",
       "12                 3 Component PCA + RBF SVC        0.522753    0.522752   \n",
       "11                                   RBF SVC        0.522753    0.522752   \n",
       "13                    K Neighbors Classifier        0.667315    0.521920   \n",
       "7     6 Component PCA + Gaussian Naive Bayes        0.565067    0.521920   \n",
       "4                      4 Component PCA + QDA        0.570478    0.520255   \n",
       "9                              Decision Tree        0.779136    0.519978   \n",
       "\n",
       "    Fit Time                                  Best Model Params  \\\n",
       "15  0.017180  {'bootstrap': True, 'class_weight': None, 'cri...   \n",
       "6   0.002244                                   {'priors': None}   \n",
       "16  0.131309  {'criterion': 'friedman_mse', 'init': None, 'l...   \n",
       "3   0.002643  {'n_components': None, 'priors': None, 'shrink...   \n",
       "8   0.001697  {'alpha': 1.0, 'class_prior': None, 'fit_prior...   \n",
       "10  0.016077  {'class_weight': None, 'criterion': 'gini', 'm...   \n",
       "2   0.004538  {'n_components': None, 'priors': None, 'shrink...   \n",
       "1   0.006272  {'C': 0.01, 'class_weight': None, 'dual': Fals...   \n",
       "14  0.007245  {'algorithm': 'auto', 'leaf_size': 30, 'metric...   \n",
       "5   0.002105  {'priors': None, 'reg_param': 0.0, 'store_cova...   \n",
       "17  0.477444  {'algorithm': 'SAMME.R', 'base_estimator': Non...   \n",
       "0   0.025394  {'C': 0.1, 'class_weight': None, 'dual': False...   \n",
       "12  0.125876  {'C': 0.1, 'cache_size': 200, 'class_weight': ...   \n",
       "11  0.280608  {'C': 0.1, 'cache_size': 200, 'class_weight': ...   \n",
       "13  0.003175  {'algorithm': 'auto', 'leaf_size': 30, 'metric...   \n",
       "7   0.004991                                   {'priors': None}   \n",
       "4   0.004230  {'priors': None, 'reg_param': 0.0, 'store_cova...   \n",
       "9   0.024633  {'class_weight': None, 'criterion': 'gini', 'm...   \n",
       "\n",
       "                                  Best Model Instance  \n",
       "15  Pipeline(memory=None,\\n     steps=[('model', R...  \n",
       "6   Pipeline(memory=None, steps=[('model', Gaussia...  \n",
       "16  Pipeline(memory=None,\\n     steps=[('model', G...  \n",
       "3   Pipeline(memory=None,\\n     steps=[('model', L...  \n",
       "8   Pipeline(memory=None,\\n     steps=[('model', M...  \n",
       "10  Pipeline(memory=None,\\n     steps=[('pca', PCA...  \n",
       "2   Pipeline(memory=None,\\n     steps=[('pca', PCA...  \n",
       "1   Pipeline(memory=None,\\n     steps=[('pca', PCA...  \n",
       "14  Pipeline(memory=None,\\n     steps=[('pca', PCA...  \n",
       "5   Pipeline(memory=None,\\n     steps=[('model', Q...  \n",
       "17  Pipeline(memory=None,\\n     steps=[('model', A...  \n",
       "0   Pipeline(memory=None,\\n     steps=[('model', L...  \n",
       "12  Pipeline(memory=None,\\n     steps=[('pca', PCA...  \n",
       "11  Pipeline(memory=None,\\n     steps=[('model', S...  \n",
       "13  Pipeline(memory=None,\\n     steps=[('model', K...  \n",
       "7   Pipeline(memory=None,\\n     steps=[('pca', PCA...  \n",
       "4   Pipeline(memory=None,\\n     steps=[('pca', PCA...  \n",
       "9   Pipeline(memory=None,\\n     steps=[('model', D...  "
      ]
     },
     "execution_count": 9,
     "metadata": {},
     "output_type": "execute_result"
    }
   ],
   "source": [
    "optimizer.view()"
   ]
  },
  {
   "cell_type": "markdown",
   "metadata": {},
   "source": [
    " "
   ]
  },
  {
   "cell_type": "markdown",
   "metadata": {},
   "source": [
    "## 7. Predicting the Games\n",
    "\n",
    "I split this into fetching the games for any particular week/season, and then using the top 5 scoring classification models to predict the games for that week, and returning a dataframe with that data. I also included an aggregated data column, to see if that serves as a better predictor. I have yet to write the function to save results in the DB and assess prediction accuracy once the games have been played, but it's on my todo list.\n",
    "\n",
    "I'm open to suggestions on how to display this best, at the moment I'm just using a modified seaborn heatmap. The teams are listed in order of playing. Interestingly, because the predictions are computed independently per team, there are plenty of cases in which the models are predicting that both teams that play each other win, which is obviously impossible. Something to think about."
   ]
  },
  {
   "cell_type": "code",
   "execution_count": 10,
   "metadata": {
    "collapsed": true
   },
   "outputs": [],
   "source": [
    "week1Games = optimizer.fetchGames(week='1', year='2017')\n",
    "x_train = aggQbData.drop('win_loss', 1)\n",
    "y_train = aggQbData['win_loss']\n",
    "week1Predictions, week1PlottingPredictions = optimizer.predictWeek(week1Games, x_train, y_train)"
   ]
  },
  {
   "cell_type": "code",
   "execution_count": 12,
   "metadata": {},
   "outputs": [
    {
     "data": {
      "image/png": "[encoded data removed]",
      "text/plain": [
       "<matplotlib.figure.Figure at 0x10dcc05c0>"
      ]
     },
     "metadata": {},
     "output_type": "display_data"
    }
   ],
   "source": [
    "week1PlottingPredictions['Aggregate Prediction'] = np.where(week1Predictions['Aggregate Prediction'] == 'Win', 1, 0)\n",
    "plt.figure(figsize=(15,15))\n",
    "sns.heatmap(week1PlottingPredictions, annot=week1Predictions, linewidths=.5, cmap='RdYlGn', cbar=False, fmt=\"s\")\n",
    "plt.xticks(rotation=45, size=15)\n",
    "plt.yticks(rotation=0, size=12)\n",
    "plt.show()"
   ]
  }
 ],
 "metadata": {
  "kernelspec": {
   "display_name": "Python 3",
   "language": "python",
   "name": "python3"
  },
  "language_info": {
   "codemirror_mode": {
    "name": "ipython",
    "version": 3
   },
   "file_extension": ".py",
   "mimetype": "text/x-python",
   "name": "python",
   "nbconvert_exporter": "python",
   "pygments_lexer": "ipython3",
   "version": "3.6.2"
  }
 },
 "nbformat": 4,
 "nbformat_minor": 2
}
