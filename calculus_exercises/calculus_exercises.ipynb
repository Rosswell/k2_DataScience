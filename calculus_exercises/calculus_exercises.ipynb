{
 "cells": [
  {
   "cell_type": "markdown",
   "metadata": {},
   "source": [
    "# Solve using [SymPy](http://docs.sympy.org/latest/tutorial/calculus.html)"
   ]
  },
  {
   "cell_type": "markdown",
   "metadata": {},
   "source": [
    "--------------------------"
   ]
  },
  {
   "cell_type": "markdown",
   "metadata": {},
   "source": [
    "## Exercise 1 - Explain how functions work from the perspective of sets."
   ]
  },
  {
   "cell_type": "markdown",
   "metadata": {
    "collapsed": true
   },
   "source": [
    "Functions are actions that assigns objects that are members of one set to another set "
   ]
  },
  {
   "cell_type": "markdown",
   "metadata": {},
   "source": [
    "## Exercise 2 - What is a limit? Find the limit of (1/x) as x approaches infinity, 0 from the left, and 0 from the right. Graph the function as well."
   ]
  },
  {
   "cell_type": "code",
   "execution_count": 3,
   "metadata": {
    "collapsed": false
   },
   "outputs": [],
   "source": [
    "import sympy\n",
    "import numpy as np\n",
    "import matplotlib.pyplot as plt\n",
    "import math"
   ]
  },
  {
   "cell_type": "code",
   "execution_count": 10,
   "metadata": {
    "collapsed": false
   },
   "outputs": [
    {
     "name": "stderr",
     "output_type": "stream",
     "text": [
      "/Users/ross.blanchard/anaconda/lib/python3.6/site-packages/ipykernel/__main__.py:2: RuntimeWarning: divide by zero encountered in true_divide\n",
      "  from ipykernel import kernelapp as app\n"
     ]
    },
    {
     "data": {
      "image/png": "[encoded data removed]",
      "text/plain": [
       "<matplotlib.figure.Figure at 0x116d525f8>"
      ]
     },
     "metadata": {},
     "output_type": "display_data"
    }
   ],
   "source": [
    "# array from -20 to 19 that can be acted on by an int\n",
    "x = np.array(range(-20, 20))\n",
    "\n",
    "# creating a new array of 1/x\n",
    "y = 1/x\n",
    "\n",
    "# plotting the result\n",
    "plt.plot(x, y)\n",
    "plt.show()"
   ]
  },
  {
   "cell_type": "code",
   "execution_count": 16,
   "metadata": {
    "collapsed": false
   },
   "outputs": [
    {
     "name": "stdout",
     "output_type": "stream",
     "text": [
      "0\n",
      "oo\n",
      "-oo\n"
     ]
    }
   ],
   "source": [
    "# allowing x to by used in sympy functions\n",
    "x = sympy.Symbol('x')\n",
    "\n",
    "# lim (x -> oo) 1/x\n",
    "print(sympy.limit(1/x, x, sympy.S.Infinity))\n",
    "\n",
    "# positive lim (x -> 0) 1/x\n",
    "print(sympy.limit(1/x, x, 0, dir='+'))\n",
    "\n",
    "# negative lim (x-> 0) 1/x\n",
    "print(sympy.limit(1/x, x, 0, dir='-'))"
   ]
  },
  {
   "cell_type": "markdown",
   "metadata": {},
   "source": [
    "## Exercise 3 - What is a derivative? Find the derivative of the following equation.\n",
    "\n",
    "    S(t) = 5(t)^2 + 2(t) + 8 "
   ]
  },
  {
   "cell_type": "markdown",
   "metadata": {
    "collapsed": true
   },
   "source": [
    "A derivative is the rate of change at any particular point"
   ]
  },
  {
   "cell_type": "code",
   "execution_count": 19,
   "metadata": {
    "collapsed": false
   },
   "outputs": [
    {
     "data": {
      "text/plain": [
       "10*t + 2"
      ]
     },
     "execution_count": 19,
     "metadata": {},
     "output_type": "execute_result"
    }
   ],
   "source": [
    "t = sympy.Symbol('t')\n",
    "\n",
    "# derivative \n",
    "sympy.diff(5*t**2 + 2*t + 8)"
   ]
  },
  {
   "cell_type": "markdown",
   "metadata": {},
   "source": [
    "## Exercise 4 - Find the global maximum and minimum for the following equation.\n",
    "\n",
    "    f(x) = x^5 - 30(x)^3 + 50(x), where -5 <= x <= 5"
   ]
  },
  {
   "cell_type": "code",
   "execution_count": 95,
   "metadata": {
    "collapsed": false
   },
   "outputs": [
    {
     "data": {
      "text/plain": [
       "[127.661060789073, -127.661060789073, -703.493179468151, 703.493179468151]"
      ]
     },
     "execution_count": 95,
     "metadata": {},
     "output_type": "execute_result"
    }
   ],
   "source": [
    "import scipy\n",
    "x = sympy.Symbol('x')\n",
    "\n",
    "# assigning the function\n",
    "f = (x**5 - 30*x**3 + 50*x)\n",
    "\n",
    "# first derivative of the function\n",
    "deriv = sympy.diff(f, x)\n",
    "\n",
    "# list of critical points of the derivative of the function\n",
    "critlist = sympy.solve(deriv)\n",
    "\n",
    "# second derivative of the function\n",
    "deriv2 = sympy.diff(deriv, x)\n",
    "\n",
    "# substitutes critical points for x in the second derivative of the function, evaluating the result\n",
    "[deriv2.subs(x, crit).evalf() for crit in critlist]"
   ]
  },
  {
   "cell_type": "code",
   "execution_count": 93,
   "metadata": {
    "collapsed": false
   },
   "outputs": [
    {
     "data": {
      "text/plain": [
       "[-375.000000000000, 375.000000000000, -25.0846626340294, -705.959460380365]"
      ]
     },
     "execution_count": 93,
     "metadata": {},
     "output_type": "execute_result"
    }
   ],
   "source": [
    "# list of numbers to test as extrema\n",
    "min_test = [5, -5, critlist[0], critlist[3]]\n",
    "\n",
    "# substituting the values in for x in the original function, evaluating the result for a global minimum\n",
    "[f.subs(x, minimum).evalf() for minimum in min_test]"
   ]
  },
  {
   "cell_type": "code",
   "execution_count": 94,
   "metadata": {
    "collapsed": false
   },
   "outputs": [
    {
     "data": {
      "text/plain": [
       "[-375.000000000000, 375.000000000000, 25.0846626340294, 705.959460380365]"
      ]
     },
     "execution_count": 94,
     "metadata": {},
     "output_type": "execute_result"
    }
   ],
   "source": [
    "# list of number to test as extrema\n",
    "max_test = [5, -5, critlist[1], critlist[2]]\n",
    "\n",
    "# substituting the values in for x in the original function, evaluating the result for a global maximum\n",
    "[f.subs(x, maximum).evalf() for maximum in max_test]"
   ]
  },
  {
   "cell_type": "markdown",
   "metadata": {},
   "source": [
    "## Exercise 5 - Define an indefinite integral. Find the integral for (x^2)."
   ]
  },
  {
   "cell_type": "markdown",
   "metadata": {
    "collapsed": true
   },
   "source": [
    "An indefinite integral used to find what function was differentiated in order to find the function in question"
   ]
  },
  {
   "cell_type": "code",
   "execution_count": 20,
   "metadata": {
    "collapsed": false
   },
   "outputs": [
    {
     "data": {
      "text/plain": [
       "x**3/3"
      ]
     },
     "execution_count": 20,
     "metadata": {},
     "output_type": "execute_result"
    }
   ],
   "source": [
    "# antiderivative\n",
    "sympy.integrate(x**2, x)"
   ]
  },
  {
   "cell_type": "markdown",
   "metadata": {},
   "source": [
    "## Exercise 6 - Define a definte integral. Find the integral for (x) bounded by 2,4."
   ]
  },
  {
   "cell_type": "markdown",
   "metadata": {
    "collapsed": true
   },
   "source": [
    "An indefinite integral is the area under a curve with a start and end point, specified by bounds"
   ]
  },
  {
   "cell_type": "code",
   "execution_count": 24,
   "metadata": {
    "collapsed": false
   },
   "outputs": [
    {
     "data": {
      "text/plain": [
       "6"
      ]
     },
     "execution_count": 24,
     "metadata": {},
     "output_type": "execute_result"
    }
   ],
   "source": [
    "x = sympy.Symbol('x')\n",
    "\n",
    "# definite integral\n",
    "sympy.integrate(x,(x, 2, 4))"
   ]
  },
  {
   "cell_type": "markdown",
   "metadata": {},
   "source": [
    "## *Optional Exercises*"
   ]
  },
  {
   "cell_type": "markdown",
   "metadata": {},
   "source": [
    "## Exercise 7 - Plot a PDF of randomly generated exponential continuous variables. Explain the significance of integration."
   ]
  },
  {
   "cell_type": "code",
   "execution_count": 96,
   "metadata": {
    "collapsed": false
   },
   "outputs": [
    {
     "name": "stderr",
     "output_type": "stream",
     "text": [
      "/Users/ross.blanchard/anaconda/lib/python3.6/site-packages/statsmodels/nonparametric/kdetools.py:20: VisibleDeprecationWarning: using a non-integer number instead of an integer will result in an error in the future\n",
      "  y = X[:m/2+1] + np.r_[0,X[m/2+1:],0]*1j\n"
     ]
    },
    {
     "data": {
      "image/png": "[encoded data removed]",
      "text/plain": [
       "<matplotlib.figure.Figure at 0x11e09c748>"
      ]
     },
     "metadata": {},
     "output_type": "display_data"
    }
   ],
   "source": [
    "import random\n",
    "import seaborn as sns\n",
    "plotlist = []\n",
    "\n",
    "# function for squaring the randomly generated numbers, establishing a seed for repeatability, and assigning to a numpy array for plotting\n",
    "def numgen(numlist, seed):\n",
    "    random.seed(seed)\n",
    "    for num in numlist:\n",
    "        plotlist.append(num**2)\n",
    "    return np.array(plotlist)\n",
    "\n",
    "# plotted as a kde, but I think that a normal plt.plot is more representative of the difference of real data from a normal distribution\n",
    "sns.kdeplot(numgen(random.sample(range(1, 100), k=99), 12))\n",
    "plt.show()"
   ]
  },
  {
   "cell_type": "markdown",
   "metadata": {},
   "source": [
    "Integration is important because data is random, more often than not. Distributions normally can't be based on Gaussian curves, and for accurate statistics or slicing for a particular data segment, integration is necessary."
   ]
  },
  {
   "cell_type": "markdown",
   "metadata": {},
   "source": [
    "## Exercise 8 - Create a funtion that uses gradient descent to find the minimum value of a single variable function. This also checks for the existence of a solution for the equation, f'(x)=0 and plots the intermediate points traversed. Explain the significance of differentiation.\n",
    "\n"
   ]
  },
  {
   "cell_type": "code",
   "execution_count": null,
   "metadata": {
    "collapsed": true
   },
   "outputs": [],
   "source": [
    "# Haven't had enough time yet to figure out what this means"
   ]
  }
 ],
 "metadata": {
  "anaconda-cloud": {},
  "kernelspec": {
   "display_name": "Python 3",
   "language": "python",
   "name": "python3"
  },
  "language_info": {
   "codemirror_mode": {
    "name": "ipython",
    "version": 3
   },
   "file_extension": ".py",
   "mimetype": "text/x-python",
   "name": "python",
   "nbconvert_exporter": "python",
   "pygments_lexer": "ipython3",
   "version": "3.6.0"
  }
 },
 "nbformat": 4,
 "nbformat_minor": 1
}
