{
 "cells": [
  {
   "cell_type": "markdown",
   "metadata": {},
   "source": [
    "## US Gun Deaths Data Set\n",
    "\n",
    "[Original article by FiveThirtyEight about Guns](http://fivethirtyeight.com/features/gun-deaths/)\n",
    "\n",
    "The data set contains cleaned gun-death data from the CDC for 2012-2014."
   ]
  },
  {
   "cell_type": "markdown",
   "metadata": {},
   "source": [
    "### Assignment\n",
    "\n",
    "- Import the csv\n",
    "- Read it into a list\n",
    "- Preview the first 5 entries"
   ]
  },
  {
   "cell_type": "code",
   "execution_count": 78,
   "metadata": {
    "collapsed": false
   },
   "outputs": [
    {
     "name": "stdout",
     "output_type": "stream",
     "text": [
      "['', 'year', 'month', 'intent', 'police', 'sex', 'age', 'race', 'hispanic', 'place', 'education']\n",
      "['1', '2012', '01', 'Suicide', '0', 'M', '34', 'Asian/Pacific Islander', '100', 'Home', '4']\n",
      "['2', '2012', '01', 'Suicide', '0', 'F', '21', 'White', '100', 'Street', '3']\n",
      "['3', '2012', '01', 'Suicide', '0', 'M', '60', 'White', '100', 'Other specified', '4']\n",
      "['4', '2012', '02', 'Suicide', '0', 'M', '64', 'White', '100', 'Home', '4']\n"
     ]
    }
   ],
   "source": [
    "guns_list = []\n",
    "\n",
    "# Assigns the lines in guns.csv to a list. strips the csv's of extra quotation marks, and converts each\n",
    "# entry as a string\n",
    "with open(\"guns.csv\") as file:\n",
    "    for line in file:\n",
    "        \n",
    "        # strips all newlines and returns, splits the entries by comma\n",
    "        line = line.strip().split(',')\n",
    "        \n",
    "        # If the entry has quotes around it, splice the string from the 1st index to the second to last. Otherwise do nothing.\n",
    "        # Append these entries to the final list\n",
    "        guns_list.append([x[1:-1] if x.startswith('\\\"') else x for x in line])\n",
    "for line in range(5):\n",
    "    print(guns_list[line])"
   ]
  },
  {
   "cell_type": "markdown",
   "metadata": {},
   "source": [
    "### Assignment\n",
    "\n",
    "- Remove the header row from the list of lists\n",
    "- Save it to a separate list"
   ]
  },
  {
   "cell_type": "code",
   "execution_count": 79,
   "metadata": {
    "collapsed": false
   },
   "outputs": [],
   "source": [
    "# creates a new list without headers\n",
    "guns_list2 = guns_list[1:]"
   ]
  },
  {
   "cell_type": "markdown",
   "metadata": {},
   "source": [
    "### Assignment\n",
    "\n",
    "- Count the number of gun deaths by year\n",
    "    - It may help to do a list comprehension to get the years\n",
    "    - Iterate over the years with a dictionary to keep count\n",
    "    \n",
    "    "
   ]
  },
  {
   "cell_type": "code",
   "execution_count": 106,
   "metadata": {
    "collapsed": false
   },
   "outputs": [
    {
     "name": "stdout",
     "output_type": "stream",
     "text": [
      "{'2012': 33563, '2013': 33636, '2014': 33599}\n"
     ]
    }
   ],
   "source": [
    "#initializes the dictionary\n",
    "guns_dict = {}\n",
    "\n",
    "# if the year is present in the dictionary, increment the count by 1. If not, create a new entry. 1 is the index of the year.\n",
    "for incident in range(0,len(guns_list2)):\n",
    "    if guns_list2[incident][1] in guns_dict:\n",
    "        guns_dict[guns_list2[incident][1]] += 1\n",
    "    else:\n",
    "        guns_dict[guns_list2[incident][1]] = 1\n",
    "print(guns_dict)"
   ]
  },
  {
   "cell_type": "markdown",
   "metadata": {},
   "source": [
    "### Assignment\n",
    "\n",
    "- Import the datetime library\n",
    "- Create a new list called \"dates\" with values from the data (set all the day values to 1)    \n",
    "- Count the number of gun deaths by month and year\n",
    "\n"
   ]
  },
  {
   "cell_type": "code",
   "execution_count": 85,
   "metadata": {
    "collapsed": false
   },
   "outputs": [
    {
     "data": {
      "text/plain": [
       "{datetime.datetime(2012, 1, 1, 0, 0): 2758,\n",
       " datetime.datetime(2012, 2, 1, 0, 0): 2357,\n",
       " datetime.datetime(2012, 3, 1, 0, 0): 2743,\n",
       " datetime.datetime(2012, 4, 1, 0, 0): 2795,\n",
       " datetime.datetime(2012, 5, 1, 0, 0): 2999,\n",
       " datetime.datetime(2012, 6, 1, 0, 0): 2826,\n",
       " datetime.datetime(2012, 7, 1, 0, 0): 3026,\n",
       " datetime.datetime(2012, 8, 1, 0, 0): 2954,\n",
       " datetime.datetime(2012, 9, 1, 0, 0): 2852,\n",
       " datetime.datetime(2012, 10, 1, 0, 0): 2733,\n",
       " datetime.datetime(2012, 11, 1, 0, 0): 2729,\n",
       " datetime.datetime(2012, 12, 1, 0, 0): 2791,\n",
       " datetime.datetime(2013, 1, 1, 0, 0): 2864,\n",
       " datetime.datetime(2013, 2, 1, 0, 0): 2375,\n",
       " datetime.datetime(2013, 3, 1, 0, 0): 2862,\n",
       " datetime.datetime(2013, 4, 1, 0, 0): 2798,\n",
       " datetime.datetime(2013, 5, 1, 0, 0): 2806,\n",
       " datetime.datetime(2013, 6, 1, 0, 0): 2920,\n",
       " datetime.datetime(2013, 7, 1, 0, 0): 3079,\n",
       " datetime.datetime(2013, 8, 1, 0, 0): 2859,\n",
       " datetime.datetime(2013, 9, 1, 0, 0): 2742,\n",
       " datetime.datetime(2013, 10, 1, 0, 0): 2808,\n",
       " datetime.datetime(2013, 11, 1, 0, 0): 2758,\n",
       " datetime.datetime(2013, 12, 1, 0, 0): 2765,\n",
       " datetime.datetime(2014, 1, 1, 0, 0): 2651,\n",
       " datetime.datetime(2014, 2, 1, 0, 0): 2361,\n",
       " datetime.datetime(2014, 3, 1, 0, 0): 2684,\n",
       " datetime.datetime(2014, 4, 1, 0, 0): 2862,\n",
       " datetime.datetime(2014, 5, 1, 0, 0): 2864,\n",
       " datetime.datetime(2014, 6, 1, 0, 0): 2931,\n",
       " datetime.datetime(2014, 7, 1, 0, 0): 2884,\n",
       " datetime.datetime(2014, 8, 1, 0, 0): 2970,\n",
       " datetime.datetime(2014, 9, 1, 0, 0): 2914,\n",
       " datetime.datetime(2014, 10, 1, 0, 0): 2865,\n",
       " datetime.datetime(2014, 11, 1, 0, 0): 2756,\n",
       " datetime.datetime(2014, 12, 1, 0, 0): 2857}"
      ]
     },
     "execution_count": 85,
     "metadata": {},
     "output_type": "execute_result"
    }
   ],
   "source": [
    "import datetime as d\n",
    "dates = []\n",
    "# creates a list of all the dates in the data\n",
    "for item in range(0,len(gunslist2)):\n",
    "    dates.append(d.datetime(year=int(gunslist2[item][1]), month=int(gunslist2[item][2]), day=1))\n",
    "\n",
    "dates[:5]\n",
    "\n",
    "# performs a count of all the unique datetime entries, assigns them to a dictionary\n",
    "date_dict = {}\n",
    "for date in dates:\n",
    "    if date not in date_dict:\n",
    "        date_dict[date] = 0\n",
    "    \n",
    "    date_dict[date] += 1\n",
    "\n",
    "date_dict"
   ]
  },
  {
   "cell_type": "markdown",
   "metadata": {},
   "source": [
    "### Assignment\n",
    "\n",
    "- Find the number of gun deaths by Sex\n",
    "- Find the number of gun deaths by Race\n",
    "- How does this compare to the overall population in the US?"
   ]
  },
  {
   "cell_type": "code",
   "execution_count": 101,
   "metadata": {
    "collapsed": false
   },
   "outputs": [
    {
     "data": {
      "text/plain": [
       "{'Asian/Pacific Islander': 1326,\n",
       " 'Black': 23296,\n",
       " 'Hispanic': 9022,\n",
       " 'Native American/Native Alaskan': 917,\n",
       " 'White': 66237}"
      ]
     },
     "execution_count": 101,
     "metadata": {},
     "output_type": "execute_result"
    }
   ],
   "source": [
    "# declares the indices so I don't have to keep scrolling up\n",
    "sex_index = 5\n",
    "race_index = 7\n",
    "\n",
    "# lists all the sexes for all the gun deaths\n",
    "sex_list = [incident[sex_index] for incident in guns_list2]\n",
    "\n",
    "# sums the sexes in the sex_list\n",
    "sex_dict = {}\n",
    "for sex in sex_list:\n",
    "    if sex not in sex_dict:\n",
    "        sex_dict[sex] = 0\n",
    "    sex_dict[sex] += 1\n",
    "sex_dict\n",
    "\n",
    "# lists all the races for each gun death incident\n",
    "race_list = [incident[race_index] for incident in guns_list2]\n",
    "\n",
    "# sums the races in the race_list\n",
    "race_dict = {}\n",
    "for race in race_list:\n",
    "    if race not in race_dict:\n",
    "        race_dict[race] = 0\n",
    "    race_dict[race] += 1\n",
    "race_dict\n",
    "\n",
    "us_pop = 326474013 #from google for 2017\n",
    "\n",
    "# calculates the gun deaths by race as a percentage of the US population\n",
    "race_dict_percentage = {}\n",
    "for key, value in race_dict.items():\n",
    "    race_dict_percentage[key] = value / us_pop * 100\n",
    "race_dict"
   ]
  },
  {
   "cell_type": "markdown",
   "metadata": {},
   "source": [
    "### Assignment\n",
    "\n",
    "- Reuse the data structure counting deaths by race\n",
    "- Use the dictionary below that has the actual population of each race\n",
    "- Compute the rates of gun deaths per race per 100,000 people\n",
    "\n",
    "mapping = {\n",
    "    \"Asian/Pacific Islander\": 15159516 + 674625,\n",
    "    \"Native American/Native Alaskan\": 3739506,\n",
    "    \"Black\": 40250635,\n",
    "    \"Hispanic\": 44618105,\n",
    "    \"White\": 197318956\n",
    "}"
   ]
  },
  {
   "cell_type": "code",
   "execution_count": 102,
   "metadata": {
    "collapsed": false
   },
   "outputs": [
    {
     "data": {
      "text/plain": [
       "{'Asian/Pacific Islander': 6.72008420721626e-11,\n",
       " 'Black': 1.180626558757994e-09,\n",
       " 'Hispanic': 4.5722925880471413e-10,\n",
       " 'Native American/Native Alaskan': 4.647298052803401e-11,\n",
       " 'White': 3.3568493034191807e-09}"
      ]
     },
     "execution_count": 102,
     "metadata": {},
     "output_type": "execute_result"
    }
   ],
   "source": [
    "# dictionary from above\n",
    "mapping = { \"Asian/Pacific Islander\": 15159516 + 674625, \"Native American/Native Alaskan\": 3739506, \n",
    "           \"Black\": 40250635, \"Hispanic\": 44618105, \"White\": 197318956 }\n",
    "\n",
    "# iterates over the keys in both dictionaries and divides one by the other by 100k. Reassigns the original dictionary values\n",
    "for race_key, race_value in race_dict.items():\n",
    "    for map_key, map_value in mapping.items():\n",
    "        race_dict[race_key] = race_value / map_value / 100000\n",
    "race_dict"
   ]
  },
  {
   "cell_type": "markdown",
   "metadata": {},
   "source": [
    "### Assignment\n",
    "\n",
    "You may not know this, but over half of all gun deaths are suicide.\n",
    "\n",
    "- Redo the computation of rates of gun deaths per race per 100,000 people\n",
    "- This time only count those that are \"Homicide\"\n",
    "- How are these different than the previous calculation?\n"
   ]
  },
  {
   "cell_type": "code",
   "execution_count": 105,
   "metadata": {
    "collapsed": false
   },
   "outputs": [
    {
     "data": {
      "text/plain": [
       "{'Asian/Pacific Islander': 559,\n",
       " 'Black': 19510,\n",
       " 'Hispanic': 5634,\n",
       " 'Native American/Native Alaskan': 326,\n",
       " 'White': 9147}"
      ]
     },
     "execution_count": 105,
     "metadata": {},
     "output_type": "execute_result"
    }
   ],
   "source": [
    "# index declaration for laziness\n",
    "intent_index = 3\n",
    "race_index = 7\n",
    "\n",
    "# Establishes a list of all incidents that were homicides, and retrieves the race of that incident\n",
    "race_list = [incident[race_index] for incident in guns_list2 if incident[intent_index] == 'Homicide']\n",
    "\n",
    "race_dict_homicide = {}\n",
    "\n",
    "# sums the counts of all the individual races in the above list\n",
    "for race in race_list:\n",
    "    if race not in race_dict_homicide:\n",
    "        race_dict_homicide[race] = 0\n",
    "    race_dict_homicide[race] += 1\n",
    "race_dict_homicide"
   ]
  },
  {
   "cell_type": "code",
   "execution_count": null,
   "metadata": {
    "collapsed": true
   },
   "outputs": [],
   "source": []
  }
 ],
 "metadata": {
  "anaconda-cloud": {},
  "kernelspec": {
   "display_name": "Python 3",
   "language": "python",
   "name": "python3"
  },
  "language_info": {
   "codemirror_mode": {
    "name": "ipython",
    "version": 3
   },
   "file_extension": ".py",
   "mimetype": "text/x-python",
   "name": "python",
   "nbconvert_exporter": "python",
   "pygments_lexer": "ipython3",
   "version": "3.6.0"
  }
 },
 "nbformat": 4,
 "nbformat_minor": 0
}
