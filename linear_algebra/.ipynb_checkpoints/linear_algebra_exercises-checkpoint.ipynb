{
 "cells": [
  {
   "cell_type": "markdown",
   "metadata": {},
   "source": [
    "## Exercise 1 - Create a new 3x2 matrix. Extract 2 values via indexing.\n",
    "\n",
    "    [[1402,191],\n",
    "     [1371,821],\n",
    "     [949,1437]]\n",
    "     "
   ]
  },
  {
   "cell_type": "code",
   "execution_count": 19,
   "metadata": {
    "collapsed": false
   },
   "outputs": [
    {
     "name": "stdout",
     "output_type": "stream",
     "text": [
      "[[949]]\n",
      "[[1437]]\n"
     ]
    }
   ],
   "source": [
    "import numpy as np\n",
    "\n",
    "# matrix creation\n",
    "mat = np.matrix([[1402, 191],[1371, 821],[949, 1437]])\n",
    "\n",
    "# slicing like a pandas df, need to look into if there is a better way of doing this, I suspect that there is\n",
    "print(mat[2:,:1])\n",
    "print(mat[2:,1:])"
   ]
  },
  {
   "cell_type": "markdown",
   "metadata": {},
   "source": [
    "## Exercise 2 - Add, Subtract, Multiply and Divide 2 Matrices\n",
    "\n",
    "    [[0, 4],\n",
    "     [2, 0]]\n",
    "\n",
    "    [[-1, 2],\n",
    "     [1, -2]]"
   ]
  },
  {
   "cell_type": "code",
   "execution_count": 7,
   "metadata": {
    "collapsed": false
   },
   "outputs": [
    {
     "name": "stdout",
     "output_type": "stream",
     "text": [
      "[[-1  6]\n",
      " [ 3 -2]] \n",
      "\n",
      "[[1 2]\n",
      " [1 2]] \n",
      "\n",
      "[[ 4 -8]\n",
      " [-2  4]] \n",
      "\n",
      "[[-0.  2.]\n",
      " [ 2. -0.]] \n",
      "\n"
     ]
    }
   ],
   "source": [
    "A = np.matrix([[0, 4],[2, 0]])\n",
    "B = np.matrix([[-1,2],[1,-2]])\n",
    "\n",
    "# standard operations\n",
    "print(A+B,'\\n')\n",
    "print(A-B,'\\n')\n",
    "\n",
    "# I read that multiplication requires the dot function, but if I just use *, I get the same result. Unsure why\n",
    "print(np.dot(A,B),'\\n')\n",
    "print(A/B,'\\n')"
   ]
  },
  {
   "cell_type": "markdown",
   "metadata": {},
   "source": [
    "## Exercise 3 - Create a 3x3 Identity Matrix. Show that for any matrix A, AI=IA=A.\n",
    "\n",
    "    [[4,2,1],\n",
    "     [4,8,3],\n",
    "     [1,1,0]]"
   ]
  },
  {
   "cell_type": "code",
   "execution_count": 9,
   "metadata": {
    "collapsed": false
   },
   "outputs": [
    {
     "name": "stdout",
     "output_type": "stream",
     "text": [
      "AI: \n",
      "[[4 2 1]\n",
      " [4 8 3]\n",
      " [1 1 0]]\n",
      "IA: \n",
      "[[4 2 1]\n",
      " [4 8 3]\n",
      " [1 1 0]]\n",
      "A: \n",
      "[[4 2 1]\n",
      " [4 8 3]\n",
      " [1 1 0]]\n"
     ]
    }
   ],
   "source": [
    "import numpy.linalg\n",
    "\n",
    "# I believe there is a function specifically for this\n",
    "iden = np.matrix([[1,0,0],[0,1,0],[0,0,1]])\n",
    "\n",
    "\n",
    "A = np.matrix([[4,2,1],[4,8,3],[1,1,0]])\n",
    "\n",
    "print(\"AI: \\n{}\".format(A*iden))\n",
    "print(\"IA: \\n{}\".format(iden*A))\n",
    "print(\"A: \\n{}\".format(A))"
   ]
  },
  {
   "cell_type": "markdown",
   "metadata": {},
   "source": [
    "## Exercise 4 - Transpose a Matrix. What do we need to pivot a matrix?\n",
    "\n",
    "    [[0 1]\n",
    "     [2 3]\n",
    "     [4 5]]"
   ]
  },
  {
   "cell_type": "code",
   "execution_count": 20,
   "metadata": {
    "collapsed": false
   },
   "outputs": [
    {
     "name": "stdout",
     "output_type": "stream",
     "text": [
      "[[0 2 4]\n",
      " [1 3 5]]\n"
     ]
    }
   ],
   "source": [
    "A = np.matrix([[0,1],[2,3],[4,5]])\n",
    "\n",
    "print(A.transpose())"
   ]
  },
  {
   "cell_type": "markdown",
   "metadata": {},
   "source": [
    "As far as I can tell, you can always transpose a matrix, so I don't really understand the question"
   ]
  },
  {
   "cell_type": "markdown",
   "metadata": {},
   "source": [
    "## Exercise 5 - Invert a Matrix. What happens when a matrix is not invertible?\n",
    "\n",
    "    [[1, 4],\n",
    "     [2, 0]]"
   ]
  },
  {
   "cell_type": "code",
   "execution_count": 21,
   "metadata": {
    "collapsed": false
   },
   "outputs": [
    {
     "name": "stdout",
     "output_type": "stream",
     "text": [
      "[[ 0.     0.5  ]\n",
      " [ 0.25  -0.125]]\n"
     ]
    }
   ],
   "source": [
    "A = np.matrix([[1,4],[2,0]])\n",
    "\n",
    "print(np.linalg.inv(A))"
   ]
  },
  {
   "cell_type": "markdown",
   "metadata": {},
   "source": [
    "The matrix is singular if it cannot be inverted"
   ]
  },
  {
   "cell_type": "markdown",
   "metadata": {},
   "source": [
    "## Exercise 6 - Find the determinant for the following 3 matrices.\n",
    "\n",
    "        [[1, 2], \n",
    "         [3, 4]], \n",
    "        \n",
    "        [[1, 2], \n",
    "         [2, 1]],\n",
    "        \n",
    "        [[1, 3],\n",
    "         [3, 1]]"
   ]
  },
  {
   "cell_type": "code",
   "execution_count": 24,
   "metadata": {
    "collapsed": false
   },
   "outputs": [
    {
     "name": "stdout",
     "output_type": "stream",
     "text": [
      "-2.0 \n",
      "\n",
      "-3.0 \n",
      "\n",
      "-8.0\n"
     ]
    }
   ],
   "source": [
    "A = np.matrix([[1,2],[3,4]])\n",
    "\n",
    "B = np.matrix([[1,2],[2,1]])\n",
    "\n",
    "C = np.matrix([[1,3],[3,1]])\n",
    "\n",
    "print(np.linalg.det(A), '\\n')\n",
    "print(np.linalg.det(B), '\\n')\n",
    "print(np.linalg.det(C))"
   ]
  },
  {
   "cell_type": "markdown",
   "metadata": {},
   "source": [
    "## Exercise 6 - Solve the following linear system.\n",
    "\n",
    "- 3x + y = 9\n",
    "- x + 2y = 8"
   ]
  },
  {
   "cell_type": "markdown",
   "metadata": {
    "collapsed": true
   },
   "source": [
    "y = 3x - 9\n",
    "x + 2(3x - 9) = 8\n",
    "7x - 18 = 8\n",
    "x = -1.428\n",
    "3(-1.428) + y = 9\n",
    "y = 13.286"
   ]
  },
  {
   "cell_type": "markdown",
   "metadata": {},
   "source": [
    "## Exercise 7 - Compute the eigenvalues and eigenvectors for the following matrix. What do these represent?\n",
    "\n",
    "    [[1, 2, 1],\n",
    "     [6, -1, 0],\n",
    "     [-1, -2, -1]]"
   ]
  },
  {
   "cell_type": "code",
   "execution_count": 29,
   "metadata": {
    "collapsed": false
   },
   "outputs": [
    {
     "name": "stdout",
     "output_type": "stream",
     "text": [
      "Eigenvalues:\n",
      "[ -4.00000000e+00   3.00000000e+00   1.71642331e-16]\n",
      "Eigenvector:\n",
      "[[ 0.40824829 -0.48507125 -0.0696733 ]\n",
      " [-0.81649658 -0.72760688 -0.41803981]\n",
      " [-0.40824829  0.48507125  0.90575292]]\n"
     ]
    }
   ],
   "source": [
    "A = np.matrix([[1,2,1],[6,-1,0],[-1,-2,-1]])\n",
    "\n",
    "# eig returns eigenvalues, then eigenvectors\n",
    "vals, vect = np.linalg.eig(A)\n",
    "print(\"Eigenvalues:\\n{}\".format(vals))\n",
    "print('Eigenvector:\\n{}'.format(vect))"
   ]
  },
  {
   "cell_type": "markdown",
   "metadata": {},
   "source": [
    "An eigenvector of a matrix is a non-zero vector that, when a scalar eigenvalue is applied to it, is the same direction as the original matrix. "
   ]
  }
 ],
 "metadata": {
  "anaconda-cloud": {},
  "kernelspec": {
   "display_name": "Python 3",
   "language": "python",
   "name": "python3"
  },
  "language_info": {
   "codemirror_mode": {
    "name": "ipython",
    "version": 3
   },
   "file_extension": ".py",
   "mimetype": "text/x-python",
   "name": "python",
   "nbconvert_exporter": "python",
   "pygments_lexer": "ipython3",
   "version": "3.6.0"
  }
 },
 "nbformat": 4,
 "nbformat_minor": 1
}
