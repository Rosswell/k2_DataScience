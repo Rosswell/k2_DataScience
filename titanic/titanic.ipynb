{
 "cells": [
  {
   "cell_type": "markdown",
   "metadata": {},
   "source": [
    "# Titanic Data Set - Statistics Review\n",
    "\n",
    "[Variable Descriptions](https://www.kaggle.com/c/titanic/data)."
   ]
  },
  {
   "cell_type": "code",
   "execution_count": 2,
   "metadata": {
    "collapsed": true
   },
   "outputs": [],
   "source": [
    "import pandas as pd\n",
    "import numpy as np\n",
    "import matplotlib.pyplot as plt\n",
    "import scipy.stats  as stats\n",
    "import random"
   ]
  },
  {
   "cell_type": "code",
   "execution_count": 3,
   "metadata": {
    "collapsed": true
   },
   "outputs": [],
   "source": [
    "df = pd.read_csv('titanic.csv')"
   ]
  },
  {
   "cell_type": "markdown",
   "metadata": {},
   "source": [
    "**Describe the data. **\n",
    "- How big?\n",
    "- What are the columns and what do they mean?"
   ]
  },
  {
   "cell_type": "code",
   "execution_count": 4,
   "metadata": {
    "collapsed": false
   },
   "outputs": [
    {
     "name": "stdout",
     "output_type": "stream",
     "text": [
      "<class 'pandas.core.frame.DataFrame'>\n",
      "RangeIndex: 891 entries, 0 to 890\n",
      "Data columns (total 12 columns):\n",
      "PassengerId    891 non-null int64\n",
      "Survived       891 non-null int64\n",
      "Pclass         891 non-null int64\n",
      "Name           891 non-null object\n",
      "Sex            891 non-null object\n",
      "Age            714 non-null float64\n",
      "SibSp          891 non-null int64\n",
      "Parch          891 non-null int64\n",
      "Ticket         891 non-null object\n",
      "Fare           891 non-null float64\n",
      "Cabin          204 non-null object\n",
      "Embarked       889 non-null object\n",
      "dtypes: float64(2), int64(5), object(5)\n",
      "memory usage: 83.6+ KB\n"
     ]
    },
    {
     "data": {
      "text/plain": [
       "'\\nVariable\\tDefinition\\tKey\\nsurvival\\tSurvival\\t0 = No, 1 = Yes\\npclass\\tTicket class\\t1 = 1st, 2 = 2nd, 3 = 3rd\\nsex\\tSex\\t\\nAge\\tAge in years\\t\\nsibsp\\t# of siblings / spouses aboard the Titanic\\t\\nparch\\t# of parents / children aboard the Titanic\\t\\nticket\\tTicket number\\t\\nfare\\tPassenger fare\\t\\ncabin\\tCabin number\\t\\nembarked\\tPort of Embarkation\\tC = Cherbourg, Q = Queenstown, S = Southampton\\n'"
      ]
     },
     "execution_count": 4,
     "metadata": {},
     "output_type": "execute_result"
    }
   ],
   "source": [
    "df.info()\n",
    "df.head()\n",
    "'''\n",
    "Variable\tDefinition\tKey\n",
    "survival\tSurvival\t0 = No, 1 = Yes\n",
    "pclass\tTicket class\t1 = 1st, 2 = 2nd, 3 = 3rd\n",
    "sex\tSex\t\n",
    "Age\tAge in years\t\n",
    "sibsp\t# of siblings / spouses aboard the Titanic\t\n",
    "parch\t# of parents / children aboard the Titanic\t\n",
    "ticket\tTicket number\t\n",
    "fare\tPassenger fare\t\n",
    "cabin\tCabin number\t\n",
    "embarked\tPort of Embarkation\tC = Cherbourg, Q = Queenstown, S = Southampton\n",
    "'''"
   ]
  },
  {
   "cell_type": "markdown",
   "metadata": {},
   "source": [
    "**What’s the average age of:**\n",
    "\n",
    "- Any Titanic passenger\n",
    "- A survivor\n",
    "- A non-surviving first-class passenger\n",
    "- Male survivors older than 30 from anywhere but Queenstown"
   ]
  },
  {
   "cell_type": "code",
   "execution_count": 5,
   "metadata": {
    "collapsed": false
   },
   "outputs": [
    {
     "data": {
      "text/plain": [
       "29.69911764705882"
      ]
     },
     "execution_count": 5,
     "metadata": {},
     "output_type": "execute_result"
    }
   ],
   "source": [
    "# mean of the age column\n",
    "age_overall = df.Age.mean()\n",
    "age_overall"
   ]
  },
  {
   "cell_type": "code",
   "execution_count": 6,
   "metadata": {
    "collapsed": false
   },
   "outputs": [
    {
     "data": {
      "text/plain": [
       "28.343689655172415"
      ]
     },
     "execution_count": 6,
     "metadata": {},
     "output_type": "execute_result"
    }
   ],
   "source": [
    "# mean of the age column filtering by survivors\n",
    "age_alive = df[\"Age\"][df['Survived'] == 1].mean()\n",
    "age_alive"
   ]
  },
  {
   "cell_type": "code",
   "execution_count": 7,
   "metadata": {
    "collapsed": false
   },
   "outputs": [
    {
     "data": {
      "text/plain": [
       "43.6953125"
      ]
     },
     "execution_count": 7,
     "metadata": {},
     "output_type": "execute_result"
    }
   ],
   "source": [
    "# mean of the age column filtering by survivors and first class passengers\n",
    "age_dead_class1 = df['Age'][df['Survived'] == 0][df['Pclass'] == 1].mean()\n",
    "age_dead_class1"
   ]
  },
  {
   "cell_type": "code",
   "execution_count": 8,
   "metadata": {
    "collapsed": false
   },
   "outputs": [
    {
     "data": {
      "text/plain": [
       "27.257282608695654"
      ]
     },
     "execution_count": 8,
     "metadata": {},
     "output_type": "execute_result"
    }
   ],
   "source": [
    "# mean of the age column filtering by survivors, males, and Queenstown embarkers\n",
    "age_alive_man_over30_notQ = df['Age'][df['Survived'] == 1][df['Sex'] == 'male'][df['Embarked'] != 'Q'].mean()\n",
    "age_alive_man_over30_notQ"
   ]
  },
  {
   "cell_type": "markdown",
   "metadata": {},
   "source": [
    "**For the groups from the previous task, how far (in years) are the average ages from the median ages?**"
   ]
  },
  {
   "cell_type": "code",
   "execution_count": 9,
   "metadata": {
    "collapsed": false
   },
   "outputs": [
    {
     "data": {
      "text/plain": [
       "['29.69911764705882: -1.69911764705882 years from the median',\n",
       " '28.343689655172415: -0.34368965517241534 years from the median',\n",
       " '43.6953125: -15.6953125 years from the median',\n",
       " '27.257282608695654: 0.7427173913043461 years from the median']"
      ]
     },
     "execution_count": 9,
     "metadata": {},
     "output_type": "execute_result"
    }
   ],
   "source": [
    "# list of the previous results\n",
    "age_list = [age_overall, age_alive, age_dead_class1, age_alive_man_over30_notQ]\n",
    "\n",
    "# list comkprehension subtracting the items of the list from the median of the age column\n",
    "[\"{}: {} years from the median\".format(age, df['Age'].median() - age) for age in age_list]"
   ]
  },
  {
   "cell_type": "markdown",
   "metadata": {},
   "source": [
    "**What’s the most common:**\n",
    "- Passenger class\n",
    "- Port of Embarkation\n",
    "- Number of siblings or spouses aboard for survivors"
   ]
  },
  {
   "cell_type": "code",
   "execution_count": 10,
   "metadata": {
    "collapsed": false
   },
   "outputs": [
    {
     "data": {
      "text/plain": [
       "3"
      ]
     },
     "execution_count": 10,
     "metadata": {},
     "output_type": "execute_result"
    }
   ],
   "source": [
    "# identity of the item in the pclass column with the highest count\n",
    "df.Pclass.value_counts().idxmax()"
   ]
  },
  {
   "cell_type": "code",
   "execution_count": 11,
   "metadata": {
    "collapsed": false
   },
   "outputs": [
    {
     "data": {
      "text/plain": [
       "'S'"
      ]
     },
     "execution_count": 11,
     "metadata": {},
     "output_type": "execute_result"
    }
   ],
   "source": [
    "# identity of the item in the embarked column with the highest count\n",
    "df.Embarked.value_counts().idxmax()"
   ]
  },
  {
   "cell_type": "code",
   "execution_count": 12,
   "metadata": {
    "collapsed": false
   },
   "outputs": [
    {
     "data": {
      "text/plain": [
       "0"
      ]
     },
     "execution_count": 12,
     "metadata": {},
     "output_type": "execute_result"
    }
   ],
   "source": [
    "# identity of the item in the sibsp column with the highest count, filtering by survivors\n",
    "df[df.Survived == 1][\"SibSp\"].value_counts().idxmax()"
   ]
  },
  {
   "cell_type": "markdown",
   "metadata": {},
   "source": [
    "**Within what range of standard deviations from the mean (0-1, 1-2, 2-3) is the median ticket price? Is it above or below the mean?**"
   ]
  },
  {
   "cell_type": "code",
   "execution_count": 13,
   "metadata": {
    "collapsed": false
   },
   "outputs": [
    {
     "name": "stdout",
     "output_type": "stream",
     "text": [
      "0-1, below the mean\n"
     ]
    }
   ],
   "source": [
    "deviation = (df.Fare.median() - df.Fare.mean())/df.Fare.std()\n",
    "\n",
    "# if else logic for the deviation from the mean \n",
    "if deviation > -1 and deviation < 1:\n",
    "    print(\"0-1, \", end='')\n",
    "    if deviation > 0:\n",
    "        print(\"above the mean\")\n",
    "    else:\n",
    "        print(\"below the mean\")\n",
    "elif (deviation > 1 and deviation < 2) or (deviation < -1 and deviation > -2):\n",
    "    print(\"1-2, \", end='')\n",
    "    if deviation > 0:\n",
    "        print(\"above the mean\")\n",
    "    else:\n",
    "        print(\"below the mean\")\n",
    "elif (deviation > 2 and deviation < 3) or (deviation < -2 and deviation > -3):\n",
    "    print(\"2-3, \", end='')\n",
    "    if deviation > 0:\n",
    "        print(\"above the mean\")\n",
    "    else:\n",
    "        print(\"below the mean\")\n"
   ]
  },
  {
   "cell_type": "markdown",
   "metadata": {},
   "source": [
    "**How much more expensive was the 90th percentile ticket than the 5th percentile ticket? Are they the same class?**"
   ]
  },
  {
   "cell_type": "code",
   "execution_count": 14,
   "metadata": {
    "collapsed": false
   },
   "outputs": [
    {
     "name": "stdout",
     "output_type": "stream",
     "text": [
      "Price difference: 70.7333\n",
      "90th percentile class: 1\n",
      "5th percentile class: 3\n"
     ]
    }
   ],
   "source": [
    "# subtracting the 90th quantile ticket from the 5th\n",
    "price_difference = df.Fare.quantile(.9) - df.Fare.quantile(.05)\n",
    "print(\"Price difference: %s\" % price_difference)\n",
    "\n",
    "# selecting the first element in an array composed of the classes where the fare is equal to the 90th quantile. Had to\n",
    "# slice the array since there are multiple cases where the fare is equal to the 90th quantile. Repeated process for the 5th\n",
    "print(\"90th percentile class: %s\" % df['Pclass'][df['Fare'] == df.Fare.quantile(.9)].values[0])\n",
    "print(\"5th percentile class: %s\" % df['Pclass'][df['Fare'] == df.Fare.quantile(.05)].values[0])"
   ]
  },
  {
   "cell_type": "markdown",
   "metadata": {},
   "source": [
    "**The highest average ticket price was paid by passengers from which port? Null ports don’t count.**"
   ]
  },
  {
   "cell_type": "code",
   "execution_count": 15,
   "metadata": {
    "collapsed": false
   },
   "outputs": [
    {
     "data": {
      "text/plain": [
       "'C'"
      ]
     },
     "execution_count": 15,
     "metadata": {},
     "output_type": "execute_result"
    }
   ],
   "source": [
    "# grouping the fare column by port, getting the index of the highest mean while dropping NaNs\n",
    "df.groupby('Embarked')['Fare'].mean().dropna().idxmax()"
   ]
  },
  {
   "cell_type": "markdown",
   "metadata": {},
   "source": [
    "**What is the most common passenger class for each port?**"
   ]
  },
  {
   "cell_type": "code",
   "execution_count": 70,
   "metadata": {
    "collapsed": false
   },
   "outputs": [
    {
     "name": "stdout",
     "output_type": "stream",
     "text": [
      "C 1\n",
      "Q 3\n",
      "S 3\n"
     ]
    }
   ],
   "source": [
    "# grouping the pclass column by port\n",
    "grouped = df.groupby('Embarked')['Pclass']\n",
    "\n",
    "# pulling the index and value for the max value counts for each port\n",
    "for name, group in grouped:\n",
    "    print(name, group.value_counts().idxmax())"
   ]
  },
  {
   "cell_type": "markdown",
   "metadata": {},
   "source": [
    "**What fraction of surviving 1st-class males paid lower than double the overall median ticket price?**"
   ]
  },
  {
   "cell_type": "code",
   "execution_count": 89,
   "metadata": {
    "collapsed": false
   },
   "outputs": [
    {
     "name": "stderr",
     "output_type": "stream",
     "text": [
      "/Users/ross.blanchard/anaconda/lib/python3.6/site-packages/ipykernel/__main__.py:5: UserWarning: Boolean Series key will be reindexed to match DataFrame index.\n"
     ]
    },
    {
     "data": {
      "text/plain": [
       "29.268292682926827"
      ]
     },
     "execution_count": 89,
     "metadata": {},
     "output_type": "execute_result"
    }
   ],
   "source": [
    "# calculation of double the median\n",
    "double_med_fare = df.Fare.median() * 2\n",
    "\n",
    "# new dataframe of surviving 1st class males without NaNs\n",
    "rich_males = df[df['Sex'] == 'male'][df['Survived'] == 1].dropna()\n",
    "\n",
    "# slicing the fare list and counting values that are less than double the median, dividing by the total values in that\n",
    "# column, and multiplying by 100 for percentage\n",
    "rich_males['Fare'][rich_males['Fare'] < double_med_fare].count() / rich_males['Fare'].count() * 100"
   ]
  },
  {
   "cell_type": "markdown",
   "metadata": {},
   "source": [
    "**How much older/younger was the average surviving passenger with family members than the average non-surviving passenger without them?**"
   ]
  },
  {
   "cell_type": "code",
   "execution_count": 90,
   "metadata": {
    "collapsed": false
   },
   "outputs": [
    {
     "data": {
      "text/plain": [
       "-5.686756169212689"
      ]
     },
     "execution_count": 90,
     "metadata": {},
     "output_type": "execute_result"
    }
   ],
   "source": [
    "# slicing by above parameters\n",
    "age_with_family = df['Age'][df['Survived'] == 1][df['SibSp'] != 0].dropna().mean()\n",
    "age_without_family = df['Age'][df['Survived'] == 0][df['SibSp'] == 0].dropna().mean()\n",
    "\n",
    "#difference calculation\n",
    "age_with_family - age_without_family"
   ]
  },
  {
   "cell_type": "markdown",
   "metadata": {},
   "source": [
    "**Display the relationship (i.e. make a plot) between survival rate and the quantile of the ticket price for 20 integer quantiles.**\n",
    "- To be clearer, what I want is for you to specify 20 quantiles, and for each of those quantiles divide the number of survivors in that quantile by the total number of people in that quantile. That’ll give you the survival rate in that quantile.\n",
    "- Then plot a line of the survival rate against the ticket fare quantiles.\n",
    "- Make sure you label your axes."
   ]
  },
  {
   "cell_type": "code",
   "execution_count": 198,
   "metadata": {
    "collapsed": false
   },
   "outputs": [
    {
     "name": "stdout",
     "output_type": "stream",
     "text": [
      "Ticket fare quantile 1 : 10.909090909090908 survival rate\n",
      "Ticket fare quantile 2 : 20.408163265306122 survival rate\n",
      "Ticket fare quantile 3 : 32.69230769230769 survival rate\n",
      "Ticket fare quantile 4 : 30.136986301369863 survival rate\n",
      "Ticket fare quantile 5 : 14.035087719298245 survival rate\n",
      "Ticket fare quantile 6 : 22.58064516129032 survival rate\n",
      "Ticket fare quantile 7 : 12.676056338028168 survival rate\n",
      "Ticket fare quantile 8 : 26.923076923076923 survival rate\n",
      "Ticket fare quantile 9 : 43.82022471910113 survival rate\n",
      "Ticket fare quantile 10 : 36.0655737704918 survival rate\n",
      "Ticket fare quantile 11 : 35.18518518518518 survival rate\n",
      "Ticket fare quantile 12 : 42.0 survival rate\n",
      "Ticket fare quantile 13 : 45.90163934426229 survival rate\n",
      "Ticket fare quantile 14 : 55.932203389830505 survival rate\n",
      "Ticket fare quantile 15 : 40.42553191489361 survival rate\n",
      "Ticket fare quantile 16 : 36.734693877551024 survival rate\n",
      "Ticket fare quantile 17 : 45.28301886792453 survival rate\n",
      "Ticket fare quantile 18 : 57.14285714285714 survival rate\n",
      "Ticket fare quantile 19 : 77.77777777777779 survival rate\n",
      "Ticket fare quantile 20 : 75.55555555555556 survival rate\n"
     ]
    },
    {
     "data": {
      "text/plain": [
       "<matplotlib.text.Text at 0x1133bc860>"
      ]
     },
     "execution_count": 198,
     "metadata": {},
     "output_type": "execute_result"
    },
    {
     "data": {
      "image/png": "[encoded data removed]",
      "text/plain": [
       "<matplotlib.figure.Figure at 0x113f024e0>"
      ]
     },
     "metadata": {},
     "output_type": "display_data"
    }
   ],
   "source": [
    "import seaborn as sns\n",
    "# making a list of the quantiles to dicide the \n",
    "quantiles = []\n",
    "for quantile in np.arange(0.05, 1.05, .05):\n",
    "    quantiles.append(quantile)\n",
    "    \n",
    "# gets a list of the edges of each quantile in order to form the values for the survivors lists. 0 needs to be included\n",
    "# initially for the first group\n",
    "fare_list = [0]\n",
    "for quantile in quantiles:\n",
    "    fare_list.append(df.Fare.quantile(quantile))\n",
    "\n",
    "# creating a blank list for plotting later\n",
    "plot_points = []\n",
    "\n",
    "#iterating over the list of fare edges\n",
    "for index_end in range(1,len(fare_list)):\n",
    "    index_start = index_end -1\n",
    "    \n",
    "    # slicing the survived column by using the first and second indices of the fare edge list as borders, counting the total\n",
    "    survivors = df['Survived'][df['Survived'] == 1][df['Fare'] >= fare_list[index_start]][df['Fare'] <= fare_list[index_end]].count()\n",
    "    \n",
    "    # same process for the total number of people in each quantile, but without the survival selection\n",
    "    total = df['Survived'][df['Fare'] >= fare_list[index_start]][df['Fare'] <= fare_list[index_end]].count()\n",
    "    \n",
    "    # print statement for solution\n",
    "    print(\"Ticket fare quantile {} : {} survival rate\".format(index_end, survivors/total * 100))\n",
    "    \n",
    "    # assigning percentages to a list for plotting\n",
    "    plot_points.append(survivors/total * 100)\n",
    "\n",
    "# used the quantiles as the x axis because it makes more sense visually. converted to numpy array for easy calcuations\n",
    "quantiles = np.array(quantiles)*100\n",
    "\n",
    "# standard plt.plot was acting wacky so used seaborn instead, easier to work with\n",
    "sns.pointplot(y=plot_points, x=quantiles)\n",
    "plt.ylabel('Percent of Surviving Passengers')\n",
    "plt.xlabel('Ticket Fare as a percent of max price')"
   ]
  },
  {
   "cell_type": "markdown",
   "metadata": {},
   "source": [
    "**For each of the following characteristics, find the median in the data:**\n",
    "- Age\n",
    "- Ticket price\n",
    "- Siblings/spouses\n",
    "- Parents/children"
   ]
  },
  {
   "cell_type": "code",
   "execution_count": 98,
   "metadata": {
    "collapsed": false
   },
   "outputs": [
    {
     "data": {
      "text/plain": [
       "28.0"
      ]
     },
     "execution_count": 98,
     "metadata": {},
     "output_type": "execute_result"
    }
   ],
   "source": [
    "df.Age.median()"
   ]
  },
  {
   "cell_type": "code",
   "execution_count": 95,
   "metadata": {
    "collapsed": false
   },
   "outputs": [
    {
     "data": {
      "text/plain": [
       "14.4542"
      ]
     },
     "execution_count": 95,
     "metadata": {},
     "output_type": "execute_result"
    }
   ],
   "source": [
    "df.Fare.median()"
   ]
  },
  {
   "cell_type": "code",
   "execution_count": 99,
   "metadata": {
    "collapsed": false
   },
   "outputs": [
    {
     "data": {
      "text/plain": [
       "0.0"
      ]
     },
     "execution_count": 99,
     "metadata": {},
     "output_type": "execute_result"
    }
   ],
   "source": [
    "df.SibSp.median()"
   ]
  },
  {
   "cell_type": "code",
   "execution_count": 101,
   "metadata": {
    "collapsed": false
   },
   "outputs": [
    {
     "data": {
      "text/plain": [
       "0.0"
      ]
     },
     "execution_count": 101,
     "metadata": {},
     "output_type": "execute_result"
    }
   ],
   "source": [
    "df.Parch.median()"
   ]
  },
  {
   "cell_type": "markdown",
   "metadata": {},
   "source": [
    "**If you were to use these medians to draw numerical boundaries separating survivors from non-survivors, which of these characteristics would be the best choice and why?**"
   ]
  },
  {
   "cell_type": "markdown",
   "metadata": {
    "collapsed": true
   },
   "source": [
    "Probably age - siblings, spouses, parents, and children have too few possibilities, and are heavily skewed by the amount of people that came on the boat by themselves. Fare is less likely to have correlation with survival"
   ]
  },
  {
   "cell_type": "markdown",
   "metadata": {},
   "source": [
    "**Plot the distribution of passenger ages. Choose visually-meaningful bin sizes and label your axes.**"
   ]
  },
  {
   "cell_type": "code",
   "execution_count": 108,
   "metadata": {
    "collapsed": false
   },
   "outputs": [
    {
     "data": {
      "text/plain": [
       "<matplotlib.text.Text at 0x1115e1c50>"
      ]
     },
     "execution_count": 108,
     "metadata": {},
     "output_type": "execute_result"
    },
    {
     "data": {
      "image/png": "[encoded data removed]",
      "text/plain": [
       "<matplotlib.figure.Figure at 0x1112002b0>"
      ]
     },
     "metadata": {},
     "output_type": "display_data"
    }
   ],
   "source": [
    "% matplotlib inline\n",
    "\n",
    "# plotting the age column as a histogram with 30 bins\n",
    "df.Age.plot(kind='hist', bins=30)\n",
    "plt.xlabel('Age')\n",
    "plt.ylabel('Number of Passengers')"
   ]
  },
  {
   "cell_type": "markdown",
   "metadata": {},
   "source": [
    "**Find the probability that:**\n",
    "- A passenger survived\n",
    "- A passenger was male\n",
    "- A passenger was female and had at least one sibling or spouse on board\n",
    "- A survivor was from Cherbourg\n",
    "- A passenger was less than 10 years old\n",
    "- A passenger was between 25 and 40 years old\n",
    "- A passenger was either younger than 20 years old or older than 50"
   ]
  },
  {
   "cell_type": "code",
   "execution_count": 20,
   "metadata": {
    "collapsed": false
   },
   "outputs": [
    {
     "data": {
      "text/plain": [
       "38.383838383838381"
      ]
     },
     "execution_count": 20,
     "metadata": {},
     "output_type": "execute_result"
    }
   ],
   "source": [
    "# Survived\n",
    "survived_percentage = df['Survived'][df['Survived'] == 1].count() / df.Survived.dropna().count() * 100\n",
    "survived_percentage"
   ]
  },
  {
   "cell_type": "code",
   "execution_count": 114,
   "metadata": {
    "collapsed": false
   },
   "outputs": [
    {
     "data": {
      "text/plain": [
       "64.758698092031437"
      ]
     },
     "execution_count": 114,
     "metadata": {},
     "output_type": "execute_result"
    }
   ],
   "source": [
    "# male\n",
    "df['Sex'][df['Sex'] == 'male'].count() / df.Sex.dropna().count() * 100"
   ]
  },
  {
   "cell_type": "code",
   "execution_count": 117,
   "metadata": {
    "collapsed": false
   },
   "outputs": [
    {
     "data": {
      "text/plain": [
       "15.712682379349047"
      ]
     },
     "execution_count": 117,
     "metadata": {},
     "output_type": "execute_result"
    }
   ],
   "source": [
    "# female; had siblings/spouse\n",
    "df['Sex'][df['Sex'] == 'female'][df['SibSp'] >= 1].count() / df.Sex.dropna().count() * 100"
   ]
  },
  {
   "cell_type": "code",
   "execution_count": 119,
   "metadata": {
    "collapsed": false
   },
   "outputs": [
    {
     "data": {
      "text/plain": [
       "18.897637795275589"
      ]
     },
     "execution_count": 119,
     "metadata": {},
     "output_type": "execute_result"
    }
   ],
   "source": [
    "# from Cherbourg\n",
    "df['Embarked'][df['Embarked'] == 'C'].count() / df.Embarked.dropna().count() * 100"
   ]
  },
  {
   "cell_type": "code",
   "execution_count": 120,
   "metadata": {
    "collapsed": false
   },
   "outputs": [
    {
     "data": {
      "text/plain": [
       "8.6834733893557416"
      ]
     },
     "execution_count": 120,
     "metadata": {},
     "output_type": "execute_result"
    }
   ],
   "source": [
    "# younger than 10\n",
    "df['Age'][df['Age'] < 10].count() / df.Age.dropna().count() * 100"
   ]
  },
  {
   "cell_type": "code",
   "execution_count": 122,
   "metadata": {
    "collapsed": false
   },
   "outputs": [
    {
     "data": {
      "text/plain": [
       "35.014005602240893"
      ]
     },
     "execution_count": 122,
     "metadata": {},
     "output_type": "execute_result"
    }
   ],
   "source": [
    "# between 25 and 40\n",
    "df['Age'][df['Age'] > 25][df['Age'] < 40].count() / df.Age.dropna().count() * 100"
   ]
  },
  {
   "cell_type": "code",
   "execution_count": 126,
   "metadata": {
    "collapsed": false
   },
   "outputs": [
    {
     "data": {
      "text/plain": [
       "31.932773109243694"
      ]
     },
     "execution_count": 126,
     "metadata": {},
     "output_type": "execute_result"
    }
   ],
   "source": [
    "# not between 20 and 50\n",
    "(df['Age'][df['Age'] < 20].count() + df['Age'][df['Age'] > 50].count()) / df.Age.dropna().count() * 100"
   ]
  },
  {
   "cell_type": "markdown",
   "metadata": {},
   "source": [
    "**Knowing nothing else about the passengers aside from the survival rate of the population (see question above), if I choose 100 passengers at random from the passenger list, what’s the probability that exactly 42 passengers survive?**"
   ]
  },
  {
   "cell_type": "code",
   "execution_count": 21,
   "metadata": {
    "collapsed": false
   },
   "outputs": [
    {
     "data": {
      "text/plain": [
       "0.061330411815167886"
      ]
     },
     "execution_count": 21,
     "metadata": {},
     "output_type": "execute_result"
    }
   ],
   "source": [
    "stats.binom.pmf(k=42,        \n",
    "                n=100,       \n",
    "                p=survived_percentage/100)"
   ]
  },
  {
   "cell_type": "markdown",
   "metadata": {},
   "source": [
    "**What’s the probability that at least 42 of those 100 passengers survive?**"
   ]
  },
  {
   "cell_type": "code",
   "execution_count": 22,
   "metadata": {
    "collapsed": false
   },
   "outputs": [
    {
     "data": {
      "text/plain": [
       "0.19807683025744727"
      ]
     },
     "execution_count": 22,
     "metadata": {},
     "output_type": "execute_result"
    }
   ],
   "source": [
    "1 - stats.binom.cdf(k=42,        \n",
    "                    n=100,       \n",
    "                    p=survived_percentage/100) "
   ]
  },
  {
   "cell_type": "markdown",
   "metadata": {},
   "source": [
    "**Write a function that takes N random samples of 100 passengers, and returns the fraction of those samples where at least 42 passengers survive.**\n",
    "\n",
    "Choose a random seed and find approximately how many random samples you need to take before your fraction matches the probability you calculated (within Δp≈0.05Δp≈0.05).\n",
    "\n",
    "It may help to visualize the survival fraction vs the number of random samples. Answers will vary based on the seed."
   ]
  },
  {
   "cell_type": "code",
   "execution_count": 52,
   "metadata": {
    "collapsed": false
   },
   "outputs": [
    {
     "data": {
      "text/plain": [
       "1"
      ]
     },
     "execution_count": 52,
     "metadata": {},
     "output_type": "execute_result"
    }
   ],
   "source": [
    "def survival3(seed):\n",
    "    random.seed(seed)\n",
    "    whole_col = df['Survived']\n",
    "    \n",
    "    # establishing a series of 100 random indices \n",
    "    random_range = np.array(random.sample(range(whole_col.count()-1), k=100))\n",
    "    \n",
    "    # establishing the percentage of survivors when the survivor column values are taken at the random indices\n",
    "    survived_percentage = np.array([whole_col[index] for index in random_range]).sum()/100\n",
    "    \n",
    "    # probability of 42 passengers surviving with the success rate determined by the random indicies\n",
    "    success_percentage = 1 - stats.binom.cdf(k=42,        \n",
    "                                            n=100,       \n",
    "                                            p=survived_percentage)\n",
    "    \n",
    "    # number of samplings it takes to reach the probability of 42 passengers surviving\n",
    "    success_num = stats.geom.rvs(size=1, p=success_percentage)\n",
    "    return int(success_num)\n",
    "survival3(10)"
   ]
  },
  {
   "cell_type": "markdown",
   "metadata": {},
   "source": [
    "**Is there a statistically significant difference between:**\n",
    "- The ages of male and female survivors?\n",
    "- The fares paid by passengers from Queenstown and the passengers from Cherbourg?\n",
    "\n",
    "**If so, at what level? If not, how do you know?**"
   ]
  },
  {
   "cell_type": "code",
   "execution_count": 16,
   "metadata": {
    "collapsed": false
   },
   "outputs": [
    {
     "data": {
      "text/plain": [
       "Ttest_indResult(statistic=2.5258975171938896, pvalue=0.011814913211889735)"
      ]
     },
     "execution_count": 16,
     "metadata": {},
     "output_type": "execute_result"
    }
   ],
   "source": [
    "# slicing dataframe for males and females and dropping na values\n",
    "male_age = df[\"Age\"][df['Sex'] == 'male'].dropna()\n",
    "female_age = df['Age'][df['Sex'] == 'female'].dropna()\n",
    "\n",
    "# independent ttest applies here - different independent groups comparison. equal_var=False for the different length arrays\n",
    "stats.ttest_ind(male_age, female_age, equal_var=False)\n"
   ]
  },
  {
   "cell_type": "markdown",
   "metadata": {},
   "source": [
    "Ages between sexes are significantly different with a confidence of 98.9%"
   ]
  },
  {
   "cell_type": "code",
   "execution_count": 17,
   "metadata": {
    "collapsed": false
   },
   "outputs": [
    {
     "data": {
      "text/plain": [
       "Ttest_indResult(statistic=6.9951971047186809, pvalue=4.5792033919567422e-11)"
      ]
     },
     "execution_count": 17,
     "metadata": {},
     "output_type": "execute_result"
    }
   ],
   "source": [
    "C_Fare = df[\"Fare\"][df['Embarked'] == 'C']\n",
    "Q_Fare = df['Fare'][df['Embarked'] == 'Q']\n",
    "\n",
    "# independent ttest of the Queenstown fares and the Cherbourg fares, with different sized arrays\n",
    "stats.ttest_ind(C_Fare, Q_Fare, equal_var=False)"
   ]
  },
  {
   "cell_type": "markdown",
   "metadata": {},
   "source": [
    "Fares between ports are significantly different with a confidence of over 99.9%"
   ]
  },
  {
   "cell_type": "markdown",
   "metadata": {},
   "source": [
    "**Accompany your p-values with histograms showing the distributions of both compared populations.**"
   ]
  },
  {
   "cell_type": "code",
   "execution_count": 18,
   "metadata": {
    "collapsed": false
   },
   "outputs": [
    {
     "name": "stderr",
     "output_type": "stream",
     "text": [
      "/Users/ross.blanchard/anaconda/lib/python3.6/site-packages/statsmodels/nonparametric/kdetools.py:20: VisibleDeprecationWarning: using a non-integer number instead of an integer will result in an error in the future\n",
      "  y = X[:m/2+1] + np.r_[0,X[m/2+1:],0]*1j\n"
     ]
    },
    {
     "data": {
      "text/plain": [
       "<matplotlib.legend.Legend at 0x114771160>"
      ]
     },
     "execution_count": 18,
     "metadata": {},
     "output_type": "execute_result"
    },
    {
     "data": {
      "image/png": "[encoded data removed]",
      "text/plain": [
       "<matplotlib.figure.Figure at 0x114778ba8>"
      ]
     },
     "metadata": {},
     "output_type": "display_data"
    }
   ],
   "source": [
    "% matplotlib inline\n",
    "import seaborn as sns\n",
    "\n",
    "# seperate plots on the same axes for male age ditribution and demale age distribution\n",
    "sns.distplot(male_age, label='Male Ages')\n",
    "sns.distplot(female_age, label='Female Ages')\n",
    "plt.ylabel('Percentage of total gender population')\n",
    "plt.legend()"
   ]
  },
  {
   "cell_type": "code",
   "execution_count": 19,
   "metadata": {
    "collapsed": false
   },
   "outputs": [
    {
     "name": "stderr",
     "output_type": "stream",
     "text": [
      "/Users/ross.blanchard/anaconda/lib/python3.6/site-packages/statsmodels/nonparametric/kdetools.py:20: VisibleDeprecationWarning: using a non-integer number instead of an integer will result in an error in the future\n",
      "  y = X[:m/2+1] + np.r_[0,X[m/2+1:],0]*1j\n"
     ]
    },
    {
     "data": {
      "text/plain": [
       "<matplotlib.legend.Legend at 0x114771240>"
      ]
     },
     "execution_count": 19,
     "metadata": {},
     "output_type": "execute_result"
    },
    {
     "data": {
      "image/png": "[encoded data removed]",
      "text/plain": [
       "<matplotlib.figure.Figure at 0x114771208>"
      ]
     },
     "metadata": {},
     "output_type": "display_data"
    }
   ],
   "source": [
    "# graphing the previously determined fare columns filtered by embarking point\n",
    "sns.distplot(Q_Fare, label='Fares from Queenstown')\n",
    "sns.distplot(C_Fare, label='Fares from Cherbourg')\n",
    "plt.ylabel('Percentage of fares at a particular price')\n",
    "plt.xlabel('Fare ($)')\n",
    "\n",
    "# had a very high outlier making the graph uninterpretable\n",
    "plt.ylim(0,.050)\n",
    "plt.legend()"
   ]
  },
  {
   "cell_type": "markdown",
   "metadata": {},
   "source": [
    "**Did survivors pay more for their tickets than those that did not? If so, to what significance level?**"
   ]
  },
  {
   "cell_type": "code",
   "execution_count": 40,
   "metadata": {
    "collapsed": false
   },
   "outputs": [
    {
     "name": "stdout",
     "output_type": "stream",
     "text": [
      "26.0 10.5\n"
     ]
    },
    {
     "data": {
      "text/plain": [
       "Ttest_indResult(statistic=6.8390992590852537, pvalue=2.6993323503141236e-11)"
      ]
     },
     "execution_count": 40,
     "metadata": {},
     "output_type": "execute_result"
    }
   ],
   "source": [
    "survivor_fares = df['Fare'][df['Survived'] == 1]\n",
    "dead_fares = df['Fare'][df['Survived'] == 0]\n",
    "\n",
    "# independent ttest comparing the fares of the survivors and the dead people, accounting for different sized columns\n",
    "stats.ttest_ind(survivor_fares, dead_fares, equal_var=False)"
   ]
  },
  {
   "cell_type": "markdown",
   "metadata": {},
   "source": [
    "Yes, with confidence of over 99.9%"
   ]
  },
  {
   "cell_type": "markdown",
   "metadata": {},
   "source": [
    "**Did a given first-class passenger have less family members on board than a given third-class passenger? If so, to what significance level?**"
   ]
  },
  {
   "cell_type": "code",
   "execution_count": 36,
   "metadata": {
    "collapsed": false
   },
   "outputs": [
    {
     "data": {
      "text/plain": [
       "Ttest_indResult(statistic=-2.6552496927000142, pvalue=0.0081039585917465958)"
      ]
     },
     "execution_count": 36,
     "metadata": {},
     "output_type": "execute_result"
    }
   ],
   "source": [
    "# filtering the sibsp column by first and third classes\n",
    "fclass_SibSp = df['SibSp'][df['Pclass'] == 1]\n",
    "tclass_SibSp = df['SibSp'][df['Pclass'] == 3]\n",
    "\n",
    "# independent ttest between the first class and the third class, accounting for different sizes of columns\n",
    "stats.ttest_ind(fclass_SibSp, tclass_SibSp, equal_var = False)"
   ]
  },
  {
   "cell_type": "markdown",
   "metadata": {},
   "source": [
    "Yes, with confidence of 99.2%"
   ]
  }
 ],
 "metadata": {
  "anaconda-cloud": {},
  "kernelspec": {
   "display_name": "Python 3",
   "language": "python",
   "name": "python3"
  },
  "language_info": {
   "codemirror_mode": {
    "name": "ipython",
    "version": 3
   },
   "file_extension": ".py",
   "mimetype": "text/x-python",
   "name": "python",
   "nbconvert_exporter": "python",
   "pygments_lexer": "ipython3",
   "version": "3.6.0"
  }
 },
 "nbformat": 4,
 "nbformat_minor": 1
}
